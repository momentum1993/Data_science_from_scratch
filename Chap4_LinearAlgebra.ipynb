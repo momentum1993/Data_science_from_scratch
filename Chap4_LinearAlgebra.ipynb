{
 "cells": [
  {
   "cell_type": "markdown",
   "metadata": {},
   "source": [
    "# Chap4. Linear Algebra "
   ]
  },
  {
   "cell_type": "markdown",
   "metadata": {},
   "source": [
    "### 4. 1.  Vector "
   ]
  },
  {
   "cell_type": "code",
   "execution_count": 6,
   "metadata": {},
   "outputs": [],
   "source": [
    "from functools import partial\n",
    "\n",
    "height_weight_age = [70, 170, 40]\n",
    "grades = [95, 80, 75, 62]\n",
    "\n",
    "# add vectors\n",
    "def vector_add(v,w):\n",
    "    return [v_i + w_i for v_i, w_i in zip(v,w)]\n",
    "\n",
    "# subtract vectors\n",
    "def vector_subtract(v,w):\n",
    "    return [v_i - w_i for v_i, w_i in zip(v,w)]\n",
    "\n",
    "# sum of vectors (list consist of vectors)\n",
    "def vector_sum_1(vectors):\n",
    "    result = vectors[0]\n",
    "    for vector in vectors[1:]:\n",
    "        result = vector_add(result, vector)\n",
    "    return result\n",
    "\n",
    "def vector_sum_2(vectors):\n",
    "    return reduce(vector_add, vectors)\n",
    "\n",
    "vector_sum3 = partial(reduce, vector_add)\n",
    "\n",
    "# multiply scalar to vector\n",
    "def scalar_multiply(c, v):\n",
    "    return [c*v_i for v_i in v]\n",
    "\n",
    "# mean of vectors\n",
    "def vector_mean(vectors):\n",
    "    n = len(vectors)\n",
    "    return scalar_multiply(1/n, vector_sum(vectors))\n",
    "\n",
    "# dot product vector (벡터 내적)\n",
    "def dot(v, w):\n",
    "    return sum(v_i * w_i for v_i, w_i in zip(v,w))\n",
    "\n",
    "# sum of squared vector\n",
    "def sum_of_squares(v):\n",
    "    return dot(v, v)\n",
    "\n",
    "import math\n",
    "\n",
    "# size of vector\n",
    "def magnitude(v):\n",
    "    return math.sqrt(sum_of_squares(v))\n",
    "\n",
    "# squared distance between two vectors\n",
    "def squared_distance(v, w):\n",
    "    return sum_of_squares(vector_subtract(v,w))\n",
    "\n",
    "# distance between two vectors\n",
    "def distance1(v,w):\n",
    "    return math.sqrt(squared_distance(v,w))\n",
    "\n",
    "def distance2(v,w):\n",
    "    return magnitude(vector_subtract(v,w))"
   ]
  },
  {
   "cell_type": "markdown",
   "metadata": {},
   "source": [
    "### 4.2 Matrix"
   ]
  },
  {
   "cell_type": "code",
   "execution_count": 14,
   "metadata": {},
   "outputs": [
    {
     "name": "stdout",
     "output_type": "stream",
     "text": [
      "[1, 0, 0, 0, 0]\n",
      "[0, 1, 0, 0, 0]\n",
      "[0, 0, 1, 0, 0]\n",
      "[0, 0, 0, 1, 0]\n",
      "[0, 0, 0, 0, 1]\n"
     ]
    }
   ],
   "source": [
    "A = [[1,2,3], [4,5,6]]\n",
    "B = [[1,2],[3,4],[5,6]]\n",
    "\n",
    "# return num of rows and cols\n",
    "def shape(A):\n",
    "    num_rows = len(A)\n",
    "    num_cols = len(A[0]) if A else 0\n",
    "    return num_rows, num_cols\n",
    "\n",
    "# get i-th row\n",
    "def get_row(A, i):\n",
    "    return A[i]\n",
    "\n",
    "# get j-th column\n",
    "def get_column(A, j):\n",
    "    return [A_i[j] for A_i in A]\n",
    "\n",
    "# make matrix\n",
    "def make_matrix(num_rows, num_cols, entry_fn):\n",
    "    return [[entry_fn(i,j) for j in range(num_cols)] for i in range(num_rows)]\n",
    "\n",
    "# check diagonal matrix\n",
    "def is_diagonal(i,j):\n",
    "    return 1 if i == j else 0\n",
    "\n",
    "# identity_matrix is the 5 X 5 matrix which is diagonal\n",
    "identity_matrix = make_matrix(5,5, is_diagonal)\n",
    "\n",
    "# print the matrix\n",
    "for i in identity_matrix:\n",
    "    print(i)"
   ]
  }
 ],
 "metadata": {
  "kernelspec": {
   "display_name": "Python 3",
   "language": "python",
   "name": "python3"
  },
  "language_info": {
   "codemirror_mode": {
    "name": "ipython",
    "version": 3
   },
   "file_extension": ".py",
   "mimetype": "text/x-python",
   "name": "python",
   "nbconvert_exporter": "python",
   "pygments_lexer": "ipython3",
   "version": "3.6.3"
  }
 },
 "nbformat": 4,
 "nbformat_minor": 2
}
