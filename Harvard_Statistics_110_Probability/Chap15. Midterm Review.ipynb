{
 "cells": [
  {
   "cell_type": "markdown",
   "metadata": {},
   "source": [
    "# 15강- Midterm Review "
   ]
  },
  {
   "cell_type": "markdown",
   "metadata": {},
   "source": [
    "### Coupon Collector 문제  \n",
    "\n",
    "n 가지 장난감을 모아야 전체를 모은다고 할 때(각 장난감을 뽑는 likely는 동일하다),    \n",
    "장난감 전부를 모으는 데까지 걸리는 시간 T(뽑아야 하는 장난감 수)의 기댓값을 구하시오.  \n",
    "  \n",
    "T=T_1 + T_2 +...+T_n,\n",
    "T_1 = 첫 번째 (예전에 갖고 있지 않던) 장난감을 모으는 데까지 걸리는 시간 = 1   \n",
    "T_2 = 두 번째 (예전에 갖고 있지 않던) 장난감을 모으는 데까지 걸리는 시간  \n",
    ".  \n",
    ".  \n",
    "T_n  \n",
    "  \n",
    "앞에서 n가지 장난감 중 하나를 뽑았기에   \n",
    "새로운 두번째 장난감을 뽑을 확률은 n-1 / n, 첫번째와 같은 장난감을 뽑을 확률은 1 / n이다.  \n",
    "  \n",
    "원래 그저 기하분포가 0에서부터 시작한다는 표기를 따랐는데, 여기서는 최소한 한개의 새로운 장난감이 있어야 하므로 T_2 - 1으로 1을 빼준 것이다.  \n",
    "  \n",
    "T_1 = 1, T_2 - 1 ~ Geom( n-1 / n ), ...  \n",
    "  \n",
    "T_j - 1 ~ Geom( n-(j-1) / n ) 의 식이 된다.  \n",
    "  \n",
    "E(T) = E(T_1)+...+E(T_n)  \n",
    "\n",
    "저번에 1부터 시작하는 기하분포의 경우, 평균이 1/p가 되는 것을 배웠다. (∵ q / p+1) \n",
    "    \n",
    "E(T) = 1 + n/n-1 + n/n-2 + ... + n/1 = n(1 + 1/2 + 1/3 + ... + 1/n)  \n",
    "     ≒ n log n(큰 n에 대해서 근사치로)  \n",
    "       "
   ]
  },
  {
   "cell_type": "markdown",
   "metadata": {},
   "source": [
    "### 보편성(Universality)  \n",
    "  \n",
    "연속적인 경우를 한번 보자  \n",
    "강한 증가 연속 함수가 있다고 하자.  \n",
    "그리고 누적분포함수에 대해서 그려볼 것이다.  \n",
    "![](https://cphinf.pstatic.net/mooc/20180914_237/1536887625649UEQk0_PNG/15-1.PNG)  \n",
    "  \n",
    "여기서 무작위로 특정한 것을 선택한다고 해보자.  \n",
    "x축 위에 임의의 점을 고른다.  \n",
    "X ~ F(위의 누적분포함수를 따를 때)일 때  \n",
    "X를 자신의 누적분포함수에 집어 넣으면 균등분포를 얻을 것이다.  \n",
    "  \n",
    "F(x_0) = 1/3이라고 하자.  \n",
    "P(F(X) ≤ 1/3) = ??  \n",
    "  \n",
    "P(F(X) ≤ 1/3) = P(X ≤ x_0) = F(x_0) = 1/3  \n",
    "  \n",
    "이 것은 균등분포이며, 균등분포는 길이와 비례한다.  \n",
    "  \n",
    "그리고 Unif(0, 1)에서는 (0,1)구간에 대해서 확률의 길이와 같게 된다.  \n",
    "  \n",
    "**이 모든 것들은 F(X) ~ Unif(0,1)를 만족한다는 것이다.**  \n",
    "그리고 1/3 대신 0과 1사이의 숫자로 같은 계산을 해주면, 같다는 것을 증명할 수 있다.  \n",
    "  \n",
    "즉, 기하학적으로 x축 위의 임의의 점과 0과1 사이의 임의으 수를 고르는 것을 연관지어 주는 것이다.  \n",
    "  \n",
    "그렇다면 이를 로지스틱 분포에 대한 simulation의 예로 들어보자.  \n",
    "  \n",
    "Logistic distribution(로지스틱 분포)  \n",
    "  \n",
    "CDF(누적분포함수) : F(x) = e^x / (1 + e^x)  (모든 실수 x에 대해서)  \n",
    "  \n",
    "U ~ Unif(0,1)이라 하고, F^(-1)(U) = log(u / 1-u) (로그 오즈)    "
   ]
  },
  {
   "cell_type": "markdown",
   "metadata": {},
   "source": [
    "### 대칭성, 선형성  \n",
    "확률변수 X, Y, Z가 iid(독립이고, 같은 분포를 지닌)하게 분포하고 양의 값(0으로 나눌 경우 배제)을 가졌다고 할 때, E(X / X+Y+Z) 를 구하시오.  \n",
    "  \n",
    "![](https://latex.codecogs.com/gif.latex?%5C%5CE%28%20%5Cdfrac%7BX%7D%7BX&plus;Y&plus;Z%7D%29%20%3D%20E%28%20%5Cdfrac%7BY%7D%7BX&plus;Y&plus;Z%7D%29%20%3D%20E%28%20%5Cdfrac%7BZ%7D%7BX&plus;Y&plus;Z%7D%29%20%3Dc%20%28%5Cbecause%20symmetry%29%20%5C%5C%5C%5C%20E%28%20%5Cdfrac%7BX%7D%7BX&plus;Y&plus;Z%7D%29%20&plus;%20E%28%20%5Cdfrac%7BY%7D%7BX&plus;Y&plus;Z%7D%29%20&plus;%20E%28%20%5Cdfrac%7BZ%7D%7BX&plus;Y&plus;Z%7D%29%3D%20E%28%20%5Cdfrac%7BX&plus;Y&plus;Z%7D%7BX&plus;Y&plus;Z%7D%29%28%5Cbecause%20linearity%29%20%5C%5C%5C%5C%3D%203c%20%3D%201%20%5C%5C%5C%5C%20E%28%20%5Cdfrac%7BX%7D%7BX&plus;Y&plus;Z%7D%29%20%3Dc%20%3D%20%5Cdfrac%7B1%7D%7B3%7D)  \n",
    "  "
   ]
  },
  {
   "cell_type": "markdown",
   "metadata": {},
   "source": [
    "### 무의식적인 통계학자의 법칙(LOTUS)  \n",
    "  \n",
    "![](https://latex.codecogs.com/gif.latex?%5C%5CU%20%5Csim%20Unif%280%2C1%29%2C%5C%20X%20%3D%20U%20%5E2%2C%20%5Censpace%20Y%20%3De%5EX%5C%5C%20Find%5C%20E%28Y%29%5C%20as%5C%20an%5C%20integral%20%u200B%u200B)  \n",
    "\n",
    "먼저 누적분포함수를 구하고, 확률밀도함수를 구한 뒤에 이를 대입해주면 되는 방식이 있다.  \n",
    "![](https://latex.codecogs.com/gif.latex?%5C%5CE%28Y%29%20%3D%20%5Cint_%7B1%7D%5E%7B0%7D%20e%5E%7Bx%7Df%28x%29dx%20%5C%5C%5C%5C%20CDF%20%3A%20P%28U%5E%7B2%7D%20%5Cle%20x%29%20%3D%20P%28U%20%5Cle%20%5Csqrt%7Bx%7D%29%20%3D%20%5Csqrt%7Bx%7D%20%5Cquad%280%20%3C%20x%3C1%29%5C%5C%5C%5C%20f%28x%29%20%3D%20%5Cdfrac%7B1%7D%7B2%20%5Csqrt%7Bx%7D%7D%20%5Cquad%20%280%20%3C%20x%3C%201%29%20%5C%5C%5C%5C%20better%5C%20way%5C%20%3A%5C%20LOTUS%5C%20%5C%20%5Crightarrow%20%5C%20E%28Y%29%20%3D%20%5Cdisplaystyle%20%5Cint%20%5E1%20_0%20e%5E%7Bu%5E2%7D%20du%28%5Cbecause%20e%5E%7BX%7D%20%3D%20e%5E%7BU%5E%7B2%7D%7D%28%5Cbecause%20X%20%3D%20U%5E%7B2%7D%29%29)     \n",
    "  \n",
    "  "
   ]
  },
  {
   "cell_type": "markdown",
   "metadata": {},
   "source": [
    "### Story  \n",
    "  \n",
    "X ~ Bin(n, p), n-X의 분포를 찾아라.  \n",
    "  \n",
    "n-X는 이산확률변수이므로 이에 대한 확률질량함수(PMF)를 찾아보자.  \n",
    "![](https://latex.codecogs.com/gif.latex?%5C%5CP%28n%20-%20X%20%3D%20k%29%20%5C%5C%3Dp%28X%3Dn-k%29%20%3D%20%5Cdisplaystyle%20%7Bn%20%5Cchoose%20n-k%7D%20p%5E%7Bn-k%7Dq%5Ek%20%3D%20%7Bn%5Cchoose%20k%7D%20q%5Ek%20p%5E%7Bn-k%7D%20%5C%5C%5C%5C%20better%5C%20way%5C%20%3A%5C%20Story%5C%20%5Crightarrow%20n%20-%20X%20%5Csim%20Bin%28n%2C%20q%29)  \n",
    "이항분포의 경우 성공 or 실패로 나누어 지므로 성공횟수에 대한 확률 변수 X 대신, 실패횟수에 대한 확률 변수 n-X로 바꾸어서 풀 수 있다. (성공과 실패 뒤바꾸기)    "
   ]
  },
  {
   "cell_type": "markdown",
   "metadata": {},
   "source": [
    "### Poisson distribution(포아송 분포)  \n",
    "  \n",
    "시간 t까지 받는 이메일의 수가 Pois(λt)를 따른다고 할 때, 첫 번째 이메일까지 걸리는 시간  T의 분포를 구하시오.(λ는 비율로 λt는 시간에 비율을 곱한 것)  \n",
    "\n",
    "T의 PDF(확률밀도함수)나 CDF(누적분포함수)(CDF의 경우 구해서 미분해주면 PDF)를 구해보자.  \n",
    "  \n",
    "T는 연속적인 시간이므로, 연속적이다.  \n",
    "그러나 이메일의 경우 숫자로 세는 것이기 때문에 이산적이다.    \n",
    "  \n",
    "즉, 이산과 연속을 잇는 것!!  \n",
    "  \n",
    "![](https://latex.codecogs.com/gif.latex?%5C%5CCDF%5C%20%3A%5C%20%5C%5C%20P%28T%20%5Cleq%20t%29%3D1%20-%20P%28T%20%3E%20t%29%20%5C%5C%5C%5CP%28T%20%3E%20t%29%20%5C%5C%3D%20P%28N_t%20%3D%200%29%5C%20%28N_t%5C%20%3A%5C%20%5C%23%5C%20of%5C%20emails%5C%20in%5C%20%5B0%2Ct%5D%29%20%5C%5C%3D%20e%5E%7B-%5Clambda%20t%7D%20%28%5Clambda%20t%29%5E0/%200%21%5C%20%28using%5C%20Poisson%5C%20PMF%29%20%5C%5C%3D%20e%5E%7B-%5Clambda%20t%7D%20%5C%5C%5C%5C%20P%28T%20%5Cleq%20t%29%3D1%20-%20e%5E%7B-%5Clambda%20t%7D%5C%20%28t%20%3E%200%29%20%5C%5C%5C%5C%20%5Ctherefore%20PDF%5C%20%3A%5C%20%5Clambda%20e%5E%7B-%5Clambda%20t%7D%20%u200B%u200B)  \n",
    "  \n",
    "  \n",
    "  "
   ]
  }
 ],
 "metadata": {
  "kernelspec": {
   "display_name": "Python 3",
   "language": "python",
   "name": "python3"
  },
  "language_info": {
   "codemirror_mode": {
    "name": "ipython",
    "version": 3
   },
   "file_extension": ".py",
   "mimetype": "text/x-python",
   "name": "python",
   "nbconvert_exporter": "python",
   "pygments_lexer": "ipython3",
   "version": "3.6.3"
  }
 },
 "nbformat": 4,
 "nbformat_minor": 2
}
