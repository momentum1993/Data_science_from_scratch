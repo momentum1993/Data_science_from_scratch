{
 "cells": [
  {
   "cell_type": "markdown",
   "metadata": {},
   "source": [
    "# 19강- 결합, 조건부, 주변 확률질량함수(Joint, Conditional, and Marginal Distributions) "
   ]
  },
  {
   "cell_type": "markdown",
   "metadata": {},
   "source": [
    "### 결합분포(joint), 주변분포(marginal)\n",
    "  \n",
    "![](https://latex.codecogs.com/gif.latex?%5C%5C%20joint%5C%20CDF%3AF%28x%2Cy%29%20%3D%20P%28X%20%5Cle%20x%2C%20Y%20%5Cle%20y%29%20%5C%5C%5C%5C%20joint%5C%20PDF%28continue%5C%20case%29%3A%20f%28x%2Cy%29%20%3D%20%5Cdisplaystyle%20%5Cfrac%20%7B%5Cpartial%7D%7B%5Cpartial%20x%20%5Cpartial%20y%7D%20F%28x%2Cy%29%20%5C%5C%20P%28%28x%2Cy%29%20%5Cin%20A%29%20%3D%20%5Cdisplaystyle%20%5Ciint%20_A%20f%28x%2Cy%29dxdy%20%5C%5C%5C%5C%20marginal%5C%20PDF%5C%20of%5C%20X%3A%20f%28x%29%20%3D%20%5Cdisplaystyle%20%5Cint%20%5E%20%5Cinfty%20_%7B-%5Cinfty%7D%20f%28x%2Cy%29dy)    \n",
    "결합 누적분포함수(CDF)의 경우 이산확률변수와 연속확률변수 모두에서 성립한다.  \n",
    "연속확률변수의 경우 결합 확률밀도함수(PDF)를 지니는데  \n",
    "누적분포함수(CDF)에서 확률밀도함수(PDF)를 구할 때 1차원인 경우처럼 미분을 하되 2개의 변수에 대해서 편미분을 2번 한다.(X에 대해서(Y를 상수취급), Y에 대해서(X를 상수취급))  \n",
    "주변(marginal)분포의 확률밀도함수의 경우에는 위에서 Y에 대해서 적분하므로 적분의 결과는 더 이상 Y에 의존하지 않게 되며, 이는 X만에 대한 확률밀도함수가 된다.  \n",
    "이는 X의 값이 x이고 Y가 어떠한 값을 지닐 때 모든 가능한 값에 대해 적분하는 것이다.  \n",
    "이것을 주변 분포라고 부르고 이러한 과정을 **주변화**라고 한다.  \n",
    "(Y를 따라 주변화해서 X의 주변분포를 구하는 것)  \n",
    "  \n",
    "그리고 아래처럼 모든 영역에 대해서 적분을 할 경우 1이 꼭 나와야 한다.  \n",
    "![](https://latex.codecogs.com/gif.latex?%5Cdisplaystyle%20%5Ciint_%20%7B-%5Cinfty%7D%5E%7B%5Cinfty%7D%20f%28x%2Cy%29dxdy%20%3D%201)  \n",
    "  "
   ]
  },
  {
   "cell_type": "markdown",
   "metadata": {},
   "source": [
    "### 조건부분포(Conditional)  \n",
    "  \n",
    "![](https://latex.codecogs.com/gif.latex?%5C%5CConditional%5C%20PDF%5C%20of%5C%20Y%7CX%5C%20%3A%5C%5C%20%5C%5Cf_%7BY%7CX%7D%28y%7Cx%29%20%5C%5C%20%3D%20%5Cfrac%7Bf_%7BX%2CY%7D%28x%2Cy%29%7D%7Bf_%7BX%7D%28x%29%7D%28similar%5C%20with%5C%20conditional%5C%20probability%29%20%5C%5C%20%3D%20%5Cfrac%7Bf_%7BX%7CY%7D%28x%7Cy%29f_Y%28y%29%7D%7Bf_X%28x%29%7D%28similar%5C%20with%5C%20bayes%27%5C%20theorem%29)  \n",
    "  \n",
    "---  \n",
    "  \n",
    "![](https://latex.codecogs.com/gif.latex?%5C%5Cf_%7BX%2CY%7D%28x%2Cy%29%20%3D%20f_X%28x%29f_Y%28y%29%5C%20for%5C%20all%5C%20x%2Cy%20%5Crightarrow%20X%2C%20Y%5C%20are%5C%20independent)  \n",
    "X,Y가 서로 독립일 때, X,Y의 결합 확률밀도함수(PDF)는 X와 Y 각각의 주변 확률밀도함수의 곱이다.  \n",
    "이는  누적분포함수(CDF)일 때도 성립한다.  \n",
    "  \n",
    "균등(Uniform)분포의 예시를 보자  \n",
    "이전 챕터에서 보았던 x^2 + y^2 ≤ 1 을 만족하는 균등분포를 한번 보자.\n",
    "![](https://cphinf.pstatic.net/mooc/20180902_94/1535884563299jf02g_PNG/18-4.png)\n",
    "![](https://latex.codecogs.com/gif.latex?joint%5C%20PDF%5C%20%5Cleft%5C%7B%5Cbegin%7Bmatrix%7D%5C%20%5C%20%5Cfrac%7B1%7D%7B%5Cpi%7D%5C%20%28x%5E2%20&plus;%20y%5E2%20%5Cleq%201%29%20%5C%5C%20%5C%200%5C%20%28otherwise%29%20%5Cend%7Bmatrix%7D%5Cright.)   \n",
    "주변분포를 구하기 위해 결합 확률밀도함수를 적분해 볼 것이다.(1/π를 적분)  \n",
    "먼저 X에 대한 주변 확률밀도함수는 결합 확률밀도함수를 y에 대해서 적분한다.  \n",
    "(-sqrt{1-x^2} ≤ y ≤ sqrt{1-x^2})  \n",
    "![](https://latex.codecogs.com/gif.latex?%5C%5C%20marginal%5C%20PDF%5C%20of%5C%20X%3A%20f_X%28x%29%20%3D%20%5Cdisplaystyle%20%5Cint%5E%7B%5Csqrt%7B1-x%5E2%7D%7D%20_%7B-%5Csqrt%7B1-x%5E2%7D%7D%20%5Cfrac%7B1%7D%7B%5Cpi%7D%20dy%20%3D%20%5Cfrac%7B2%7D%7B%5Cpi%7D%20%5Csqrt%7B1-%20x%5E2%7D%5C%20%28-1%20%5Cleq%20x%20%5Cleq%201%29%20%5C%5C%5C%20%5C%20%5Crightarrow%20condition%5C%20check%3A%20%5Cdisplaystyle%20%5Cint%20%5E1%20_%7B-1%7D%20f_X%28x%29%20%3D%201%20%5C%5C%5C%5C%20conditional%5C%20PDF%5C%20of%5C%20Y%7CX%3A%20%5C%5C%20f_%7BY%7CX%7D%28y%7Cx%29%20%3D%20%5Cdisplaystyle%20%5Cfrac%7B%5Cfrac%7B1%7D%7B%5Cpi%7D%7D%7B%5Cfrac%7B2%20%5Csqrt%7B1-x%5E2%7D%7D%7B%5Cpi%7D%7D%5C%20%5C%20%28-%5Csqrt%7B1-x%5E2%7D%20%5Cleq%20y%20%5Cleq%20%5Csqrt%7B1-x%5E2%7D%2C%5C%200%5C%20otherwise%29%20%5C%5C%5CRightarrow%20Y%7CX%20%5Csim%20Unif%28-%5Csqrt%7B1-x%5E2%7D%2C%20%5Csqrt%7B1-x%5E2%7D%29)  \n",
    "X에 대한 주변 확률밀도함수의 경우 -1 ≤ x ≤ 1에 대해서 적분값(치환적분으로 가능할 것임)이 1을 만족해야한다.  \n",
    "이 때 이 주변 확률밀도함수의 경우 균등분포가 아니다. → -1 ≤ x ≤ 1에서 균등하지 않다.    \n",
    "X, Y는 균등하게 분포하지만 주변분포는 그렇지 않다!!!  \n",
    "그리고 X = 0일 경우 사건이 일어날 수 있느느 공간이 많기에 최대값을 갖는다.  \n",
    "  \n",
    "조건 확률밀도함수는 결합 확률밀도함수를 주변 확률밀도함수로 나눈 것이다.  \n",
    "그리고 이 값이 언제 0이 아닌지 알아야 하며, Y가 고정되고 X를 관측한다고 생각해야 한다. 각 Y는 (-sqrt{1-x^2} ≤ y ≤ sqrt{1-x^2})사이의 값이 되어야 하며. 아닌 경우 X는 0이다.  \n",
    "X를 상수 취급 한 것이며, 이 조건 확률밀도함수는 균등분포이다.(식에Y가 없고 X만 존재하기 때문)  \n",
    "즉 Y는 -sqrt{1-x^2} ≤ y ≤ sqrt{1-x^2})에서 X가 주어졌을 때 균등분포이다.   \n",
    "    \n",
    "![](https://latex.codecogs.com/gif.latex?%5C%5Cf_%7BX%2CY%7D%28x%2Cy%29%20%5Cneq%20f_%7BX%7D%28x%29f_Y%28y%29%20%5CRightarrow%20X%2CY%5C%20are%5C%20dependent)  \n",
    "결합 확률밀도함수는 두 주변 확률밀도함수의 곱과 다르므로 X,Y는 서로 종속적이다.  \n",
    "또한 Y | X의 조건 분포와 Y의 조건 분포가 다르므로 또한 X,Y가 서로 종속적임을 알 수 있다.    "
   ]
  },
  {
   "cell_type": "markdown",
   "metadata": {},
   "source": [
    "### 2차원 무의식 통계학자의 법칙(2-D LOTUS)  \n",
    "  \n",
    "X,Y가 결합 확률밀도함수 f(x,y)를 가지고,  g(x,y)가  x, y 에 대한 함수라고 할 때,  \n",
    "아래의 식이 성립한다.  \n",
    "![](https://latex.codecogs.com/gif.latex?E%28g%28x%2Cy%29%29%3D%5Cint%20%5E%5Cinfty%20_%7B-%5Cinfty%7D%20%5Cint%20%5E%5Cinfty%20_%7B-%5Cinfty%7Dg%28x%2Cy%29f%28x%2Cy%29dxdy)  \n",
    "Theorem) X, Y가 독립(X, Y가 연관성이 없을 때)일 때,  E(XY) = E(X)E(Y)가 성립한다.  \n",
    "Proof (연속인 경우) )\n",
    "![](https://latex.codecogs.com/gif.latex?%5C%5C%20E%28XY%29%20%5C%5C%20%3D%20%5Cdisplaystyle%20%5Cint%20%5E%5Cinfty%20_%7B-%5Cinfty%7D%20%5Cint%20%5E%5Cinfty%20_%7B-%5Cinfty%7D%20xyf_%7BX%2CY%7D%28x%2C%20y%29dxdy%20%5C%5C%20%3D%20%5Cdisplaystyle%20%5Cint%20%5E%5Cinfty%20_%7B-%5Cinfty%7D%20%5Cint%20%5E%5Cinfty%20_%7B-%5Cinfty%7D%20xyf_X%28x%29f_Y%28y%29dxdy%5C%20%28%5Cbecause%20X%2CY%5C%20independent%29%20%5C%5C%20%3D%5Cdisplaystyle%20%5Cint%20%5E%5Cinfty%20_%7B-%5Cinfty%7D%20yf_Y%28y%29%20%5Cint%20%5E%5Cinfty%20_%7B-%5Cinfty%7D%20xf_X%28x%29dxdy%20%5C%5C%5C%5C%20%3D%20E%28X%29E%28Y%29)  \n",
    "  \n",
    "---  \n",
    "ex1)    \n",
    "![](https://latex.codecogs.com/gif.latex?%5C%5C%20When%20X%2CY%20%5Csim%5E%7Biid%7D%20Unif%280%2C1%29%2C%20%5C%5C%5C%5C%20E%7CX-Y%7C%20%5C%5C%20%3D%5Cdisplaystyle%20%5Cint%20%5E1%20_%7B0%7D%20%7Cx-y%7Cdxdy%20%5C%5C%5C%5C%20%3D%20%5Cdisplaystyle%20%5Ciint%20_%7Bx%3Ey%7D%20%28x-y%29dxdy%20&plus;%20%5Ciint%20_%7By%3Ex%7D%20%28y-x%29dxdy%20%5C%5C%20%3D2%20%5Cdisplaystyle%20%5Cint%20%5E1%20_0%20%5Cint%20%5E1%20_y%20%28x-y%29dxdy%5C%20%28%5Cbecause%20i.i.d.%2C%5C%20symmetry%5C%20function%29%20%5C%5C%20%3D%202%20%5Cint%20%5E1%20_0%20%28%5Cfrac%7Bx%5E2%7D%7B2%7D%20-yx%29%7C%5E1%20_y%20dy%20%3D%20%5Cfrac%7B1%7D%7B3%7D%20%5C%5C%5C%5C%20When%5C%20M%20%3D%20max%28X%2CY%29M%3Dmax%28X%2CY%29%2C%20L%20%3D%20min%28X%2CY%29%2C%20%5C%5C%7CX-Y%7C%20%3D%20M%20-%20L%20%5C%5CE%28M-L%29%20%3D%5CLarge%20%5Cfrac%7B1%7D%7B3%7D%20%5C%5CE%28M%29%20-%20E%28L%29%20%3D%20%5CLarge%20%5Cfrac%7B1%7D%7B3%7D%20%5C%5CE%28M&plus;L%29%20%3D%20E%28M%29%20&plus;%20E%28L%29%20%3D%201%20%5C%5CE%28M%29%20%3D%20%5CLarge%20%5Cfrac%7B2%7D%7B3%7D%20%2CE%28L%29%3D%20%5CLarge%20%5Cfrac%7B1%7D%7B3%7D)  \n",
    "위에서 먼저 절댓값을 없애기 위해 2개의 적분으로 나누었으며,  \n",
    "식이 정확히 대칭적이기 때문에(서로 독립항등분포(i.i.d.)이며, 대칭함수이기 때문에)  \n",
    "이중적분을 1번 해서 2배를 하면 된다.  \n",
    "  \n",
    "그리고 밑의 경우 무작위하게 2개의 점을 선택 후  \n",
    "왼쪽의 점 하나와 오른쪽 점 하나를 최솟값과 최댓값으로 두어 재해석한 것이다.  \n",
    "  \n",
    "그리고 또 다른 방법하나는 M과 L의 확률밀도함수를 구하는 것이다.  \n",
    "  \n",
    "---  \n",
    "  \n",
    "ex2) Chicken-Egg Problem  \n",
    "  \n",
    " N개 (N∼Pois(λ)) 의 달걀이 각각  p 의 확률로 부화할 때(부화하는 것을 성공이라 할 때),  \n",
    " X를 부화하는 달걀의 갯수라고 하고,  Y를 부화하지 않는 달걀의 갯수라 할 때,  \n",
    " X+Y = N 를 만족하며, X|N∼Bin(N,p)(이는 N을 알고 있다고 가정함을 뜻함)이다.  \n",
    "  \n",
    "![](https://latex.codecogs.com/gif.latex?%5C%5C%20joint%5C%20PMF%5C%20of%5C%20X%2CY%3A%20%5C%5C%20P%28X%3Di%2C%20Y%3Dj%29%20%5C%5C%3D%20%5Cdisplaystyle%20%5Csum%20%5E%5Cinfty%20_%7Bn%3D0%7D%20P%28X%20%3D%20i%2C%20Y%3Dj%7CN%20%3Dn%29P%28N%20%3D%20n%29%20%5C%5C%3D%20%5Cdisplaystyle%20%5Csum%20%5E%5Cinfty%20_%7Bn%3D0%7D%20P%28X%3Di%7CN%20%3D%20i&plus;j%29P%28N%20%3D%20i&plus;j%29%20%5C%5C%3D%20%5Cbinom%7Bi&plus;j%7D%7Bi%7Dp%5Ei%281-p%29%5Ej%28PMF%5C%20of%5C%20binomial%29%20%5Ctimes%20%5Cfrac%7Be%5E%7B-%5Clambda%7D%5Clambda%5E%7Bi&plus;j%7D%7D%7B%28i&plus;j%29%21%7D%28PMF%5C%20of%5C%20poisson%29%20%5C%5C%3D%20%5Cdisplaystyle%20%5Cfrac%7B%28i&plus;j%29%21%7D%7Bi%21j%21%7Dp%5Eiq%5Ej%20%5Cfrac%7Be%5E%7B-%5Clambda%7D%5Clambda%5E%7Bi&plus;j%7D%7D%7B%28i&plus;j%29%21%7D%20%5C%5C%3D%20%5Cdisplaystyle%20e%5E%7B-%5Clambda%20p%7D%5Cfrac%7B%28%5Clambda%20p%29%5Ei%7D%7Bi%21%7D%20%5Ccdot%20e%5E%7B-%5Clambda%20q%7D%20%5Cfrac%7B%28%5Clambda%20q%29%5Ej%7D%7Bj%21%7D%20%5C%5C%20%5CRightarrow%20X%2C%20Y%5C%20are%5C%20independent%2C%20X%20%5Csim%20Pois%28%5Clambda%20p%29%2C%20Y%20%5Csim%20Pois%28%5Clambda%20q%29)  \n",
    "  \n",
    "X = i이고 N = i + j라면, Y = j라는 것은 알 수 있기 때문에 중복되어 지운다.  \n",
    "N = I + j일 때, X = i일 확률은 이항분포를 따르며, 따라서 이항분포의 PMF와 포아송분포의 PMF를 곱해준다.  \n",
    "  \n",
    "X,Y는 독립이며,  X∼Pois(λp),Y∼Pois(λq)이 되는데,  \n",
    "**이는 무작위성을 가진 N이 포아송분포를 따를 때만 두 변수가 독립인 것이 성립이 된다.**"
   ]
  }
 ],
 "metadata": {
  "kernelspec": {
   "display_name": "Python 3",
   "language": "python",
   "name": "python3"
  },
  "language_info": {
   "codemirror_mode": {
    "name": "ipython",
    "version": 3
   },
   "file_extension": ".py",
   "mimetype": "text/x-python",
   "name": "python",
   "nbconvert_exporter": "python",
   "pygments_lexer": "ipython3",
   "version": "3.6.3"
  }
 },
 "nbformat": 4,
 "nbformat_minor": 2
}
