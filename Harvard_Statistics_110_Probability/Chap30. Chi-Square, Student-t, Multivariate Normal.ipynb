{
 "cells": [
  {
   "cell_type": "markdown",
   "metadata": {},
   "source": [
    "# 30강- 카이제곱분포, t분포, 다변량정규분포(Chi-Square, Student-t, Multivariate Normal) "
   ]
  },
  {
   "cell_type": "markdown",
   "metadata": {},
   "source": [
    "정규분포에 관한 식으로 정의되는 분포들을 오늘 살펴볼 것이다.  "
   ]
  },
  {
   "cell_type": "markdown",
   "metadata": {},
   "source": [
    "### 카이제곱분포(Chi-Square Distribution)  \n",
    "  \n",
    "파라미터를 1개만 갖고 있으며, 1개의 파라미터 n은 자유도를 의미한다.    \n",
    "  \n",
    "![](https://latex.codecogs.com/gif.latex?%5C%5C%20Definition%29%20%5C%5C%20Let%5C%20V%20%3D%20Z_1%5E2&plus;%20...%20&plus;Z_n%5E2%2C%20%5Cquad%20Z_j%20%5Csim%20%5E%7Biid%7D%20N%280%2C1%29%2C%5C%20%5CRightarrow%20%5Cspace%20Z%20%5Csim%20%5Cchi%5E2_%7B%28n%29%7D%20%5C%5C%20%5Cchi%20%5E2%20_%7B%281%29%7D%5C%20%3D%5C%20Gamma%28%5Cfrac%7B1%7D%7B2%7D%2C%20%5Cfrac%7B1%7D%7B2%7D%29%20%5C%5C%20%5Cchi%20%5E2%20_%7B%28n%29%7D%5C%20%3D%5C%20Gamma%28%20%5Cfrac%7Bn%7D%7B2%7D%20%2C%5Cfrac%7B1%7D%7B2%7D%29)  \n",
    "  \n",
    "N개의 독립적이며, 같은 표준정규분포의 제곱의 합을 이용하는 분포  \n",
    "카이제곱 1이 어떻게 Gamma(1/2, 1/2)가 될 수 있는지 한번 해볼 것.    \n",
    "  \n",
    "Gamma(a, λ)와 Gamma(b, λ)가 있고 독립일 때 둘을 더하면 Gamma(a+b, λ)가 된다.  \n",
    "  \n",
    "그래서 카이제곱분포의 경우 n에 대해서 Gamma(n/2, 1/2)라는 결과가 나온다.  \n",
    "  \n",
    "이것은 일변량분포이다.   "
   ]
  },
  {
   "cell_type": "markdown",
   "metadata": {},
   "source": [
    "### t-분포(t-Distribution)  \n",
    "  \n",
    "정의)  \n",
    "![](https://latex.codecogs.com/gif.latex?%5C%5C%20T%20%3D%20%5Cdfrac%7BZ%7D%7B%5Csqrt%7BV/n%7D%7D%2C%20%5Cquad%20Z%5Csim%20N%280%2C1%29%2C%20%5Cquad%20V%5Csim%20%5Cchi%20%5E2%20%28n%29%20%5Censpace%20%28Z%2C%5C%20V%5C%20are%5C%20independent%29%20%5CRightarrow%20%5Cspace%20T%20%5Csim%20t_%7Bn%7D)    \n",
    "특성)  \n",
    "**1. 대칭성(symmetry)**\n",
    " ![](https://latex.codecogs.com/gif.latex?%5C%5C%20T%5Csim%20t_n%20%5Cquad%20and%20%5Cquad-T%20%5Csim%20t_n)  \n",
    " 분모는 변하지 않는 독립적인 항이며, 분자는 표준정규분포로 0에 대해 대칭이므로  \n",
    " 0에 대해서 대칭성을 띄고 있다.  \n",
    "  \n",
    "  \n",
    "**2. n = 1일 때, 코시 분포를 따른다.**  \n",
    " n = 1이면, 분모값은 Z(표준정규분포)의 제곱의 제곱근 즉, |Z|값이며,  \n",
    " 이는 서로 독립인 Z들의 비의 값이 되며, 이는 코시분포의 모양이 된다.  \n",
    " 즉, 이는 코시분포의 일반화이다.  \n",
    " 그리고 코시분포처럼 평균을 지니지 않는다.  \n",
    "    \n",
    "**3. n≥2 일 때,**  \n",
    " ![](https://latex.codecogs.com/gif.latex?%5C%5C%20E%28T%29%20%3D%20E%28Z%29E%28%20%5Cdfrac%7B1%7D%7B%5Csqrt%7BV/n%7D%7D%29%20%3D%200)    \n",
    " 위의 식이 성립하며, 이는 각 항이 독립이라는 가정이 있어 무상관이 되므로 가능하다.  \n",
    " 이는 대칭성을 이용해서도 증명이 가능하다.  \n",
    " ![](https://latex.codecogs.com/gif.latex?%5C%5C%20E%28Z%5E2%29%20%3D%201%2C%20%5Censpace%20E%28Z%5E4%29%20%3D%201%5Ccdot%203%2C%20%5Censpace%20E%28Z%5E6%29%20%3D%201%5Ccdot%203%20%5Ccdot%205%5C%20%28%5Cbecause%20MGF%5C%20of%5C%20Normal%5C%20Distribution%29%20%5C%5C%5C%5C%20Another%5C%20way%3A%20%5C%5C%20E%28Z%5E%7B2n%7D%29%20%3D%20E%28%28Z%5E2%29%5En%29%20%3D%20E%28%20%5Cchi%5E2%281%29%5En%20%29%20%5C%5C%20%5Cchi%5E2%28n%29%20%5Csim%20Gamma%28%5Cfrac%7Bn%7D%7B2%7D%2C%5Cfrac%7B1%7D%7B2%7D%29%20%5C%5C%5C%5C%20%5Ctherefore%5C%20use%5C%20LOTUS%5C%20and%5C%20get%5C%20moment%21%21)  \n",
    " → 정규분포의 MGF로 풀거나 감마 분포의 MGF를 이용해서 풀 수 있다.  \n",
    "  \n",
    "**4. 정규분포보다 '두꺼운 꼬리(Heavier-tailed)' (양극의 상황에 대해 더 높은 확률)**  \n",
    " 코시분포의 확률밀도함수(PDF)는 C/(1+x^2)였는데, x→∞이면 1/x^2의 속도로 줄어들지만,  정규분포의 PDF는 e^(-x^2 / 2)이므로 훨씬 빨리 줄어든다.  \n",
    "  \n",
    "**5. n이 커지면, t-분포는 점점 더 표준정규분포와 비슷해진다.**  \n",
    " ![](https://latex.codecogs.com/gif.latex?%5C%5C%20t_n%20%5Crightarrow%20N%280%2C1%29%20%5Cquad%20as%20%5Censpace%20n%20%5Crightarrow%20%5Cinfty%20%5C%5C%20%5C%5C%20Proof%5C%20using%5C%20L.L.N%29%20%5C%5C%20Let%5C%20T%20%3D%20%5Cdfrac%7BZ%7D%7BV/%5Csqrt%7Bn%7D%7D%2C%20%5Cquad%20where%20%5Censpace%20V_n%20%3D%20Z_1%5E2&plus;...%20&plus;%20Z_n%20%5E2%2C%20%5Censpace%20Z_1%2C%20...%2C%20Z_n%20%5Csim%20%5E%7Biid%7D%20N%280%2C1%29%2C%20%5C%5C%20Then%5C%20%5Cdfrac%7BV_n%7D%7Bn%7D%20%5Crightarrow%201%5C%20with%5C%20prob.%201%5C%20%28%5Cbecause%20L.L.N%29%20%5C%5C%20%5Ctherefore%20%5Csqrt%7B%5Cfrac%7BV_n%7D%7Bn%7D%7D%20%5Crightarrow%201%5C%20with%5C%20prob.%5C%201%20%5C%5C%5C%5C%20So%5C%20T_n%20%5Crightarrow%20Z%5C%20with%5C%20prob.%5C%201)  \n",
    "  \n",
    "따라서, t_n은 n이 충분히 클 때 표준정규분포 N(0,1)에 수렴한다.  \n",
    "t-분포 또한 일변량 분포이다.   \n",
    "  \n",
    "그런데 이러한 정규분포를 다변량분포로 차원을 확장시킬 때는 어떻게 해야할까?  "
   ]
  },
  {
   "cell_type": "markdown",
   "metadata": {},
   "source": [
    "### 다변량정규분포(Multivariate Normal)  \n",
    "  \n",
    "정의)  \n",
    "![](https://latex.codecogs.com/gif.latex?%5C%5C%20Random%5C%20vector%5C%20%5Cvec%7BX%7D%20%3D%20%28X_1%2C%20X_2%2C%20...%20%2C%20X_k%29%5C%20is%5C%20Multivariate%20Normal%28MVN%29%20%5C%5C%20if%5C%20every%5C%20linear%5C%20combination%5C%20t_1X_1%20&plus;%20t_2X_2%20&plus;%20...%20&plus;%20t_kX_k%5C%20is%5C%20Normal%5C%20Distribution.)    \n",
    "확률벡터 (X_1, ..., X_n) = \\vec X는 구성요소의 모든 선형결합  t_1x_1+...+ t_kx_k이 정규분포를 따를 때, 다변량정규분포를 따른다.  \n",
    "  \n",
    "ex)    \n",
    "![](https://latex.codecogs.com/gif.latex?%5C%5C%20Let%5C%20Z%2C%5C%20W%20%5Csim%20%5E%7Biid%7D%20N%280%2C1%29%2C%5Cquad%20then%5C%20%28Z&plus;2W%2C%203Z&plus;5W%29%28Z&plus;2W%2C3Z&plus;5W%29%5C%20is%5C%20MVN.%20%5C%5C%20%5Cbecause%20s%28Z&plus;2W%29&plus;t%283Z&plus;5W%29%3D%28s&plus;3t%29Z&plus;%282s&plus;5t%29W%20%5Csim%20N%u2235s%28Z&plus;2W%29&plus;t%283Z&plus;5W%29%3D%28s&plus;3t%29Z&plus;%282s&plus;5t%29W%u223CN)  \n",
    "독립적이고 같은 정규분포를 따르는 것에서 출발해서 다른 선형결합의 벡터로 놓으면 항상 다변량 정규분포가 된다!!  \n",
    "  \n",
    "그렇다면 반례는 아니지만, 다변량 정규분포가 아닌 예를 한번 보자.  \n",
    "  \n",
    "Non-ex)  \n",
    "Z∼N(0,1) 이고  S를 Z와 독립인 부호(+ or -)라고 할 때,  \n",
    "  \n",
    "Z, SZ 는 각각 N(0,1)를 따르지만, 다변량정규분포를 따르지는 않는다.  \n",
    "  \n",
    "→  Z+SZ 의 경우 이산확률과 연속확률을 섞은 이상한 형태의 확률분포가 되어, 다변량정규분포가 아니다.  (50%는 Z-Z가 되어 0, 나머지 50%는 2Z가 된다.)  \n",
    "  \n",
    "적률생성함수(MGF) )  \n",
    "![](https://latex.codecogs.com/gif.latex?%5C%5C%20MGF%5C%20of%5C%20%5Cvec%20%7BX%7D%5C%20is%5C%20E%28e%5E%7B%5Cvec%20t%5E%7B%5Cprime%7D%5Cvec%20X%7D%29%5C%20and%5C%20let%5C%20E%28X_j%29%20%3D%20%5Cmu_j%2C%20%5C%5C%20%28When%5C%20X%20%5Csim%20N%28%5Cmu%2C%20%5Csigma%5E2%29%2C%5Cquad%20E%28e%5E%7BtX%7D%29%20%3D%20e%5E%7BE%28tX%29%20&plus;%20%5Cfrac%7B1%7D%7B2%7DVar%28tX%29%7D%20%3D%20e%5E%7Bt%5Cmu%20&plus;%20%5Cfrac%7B1%7D%7B2%7Dt%5E2%5Csigma%5E2%7D%29%20%5C%5C%5C%5C%20E%28e%5E%7B%5Cvec%20t%5E%7B%5Cprime%7D%5Cvec%20X%7D%29%3D%20E%28e%5E%7Bt_1X_1&plus;...&plus;%20t_kX_k%7D%29%20%3D%20exp%28%28t_1%20%5Cmu_1&plus;...&plus;t_k%20%5Cmu%20_k%29&plus;%5Cdfrac%7B1%7D%7B2%7DVar%28t_1X_1&plus;...&plus;t_kX_k%29%29)  \n",
    "벡터 X의 MGF를 구할 때 X_j들이 독립일 경우는 각 분산을 더하면 되겠지만, 사이에 공분산이 있을 수도 있기 때문에 분산을 구하는 방식처럼 풀어서 구해야 한다.  \n",
    "  \n",
    "정리) 다변량정규분포에 한해서는, [무상관 ⇒ 독립] 이 성립한다.\n",
    "![](https://latex.codecogs.com/gif.latex?%5C%5C%20%5Cvec%20%7BX%7D%20%3D%20%28%5Cfrac%20%7B%5Cvec%7BX_1%7D%7D%7B%5Cvec%7BX_2%7D%7D%29%5C%20MVN%2C%5C%20if%5C%20every%5C%20component%5C%20of%5C%20%5Cvec%7BX_1%7D%5C%20is%5C%20uncorr.%5C%20with%5C%20every%5C%20component%5C%20of%5C%20%5Cvec%7BX_2%7D%2C%20%5C%5C%20then%5C%20%5Cvec%7BX_1%7D%5C%20is%5C%20indep.%5C%20of%5C%20%5Cvec%7BX_2%7D)  \n",
    "vec X_1의 모든 구성성분이  vec X_2의 모든 구성성분과 무상관일 때, vec X_1과 vec X_2는 서로 독립이다.(서로의 공분산이 0이면 독립. 이는 다변량정규분포에서만 유효. not 일변량정규분포) \n",
    "  \n",
    "ex) \n",
    "![](https://latex.codecogs.com/gif.latex?%5C%5C%20Let%5C%20X%2CY%20%5Csim%5E%7Biid%7D%20N%280%2C1%29%2C%5C%20then%5C%20%28X&plus;Y%2C%20X-Y%29%5C%20is%5C%20MVN.%20%5C%5C%20Cov%28X&plus;Y%2C%20X-Y%29%20%3D%20Var%28X%29%20&plus;Cov%28X%2CY%29%20-Cov%28X%2CY%29%20-Var%28Y%29%20%3D%200%20%5C%5C%5CRightarrow%20uncorrelated%20%5C%5C%20%5Ctherefore%20X&plus;Y%2C%5C%20X-Y%5C%20are%5C%20independent.)\n",
    "  \n",
    "  \n",
    "  "
   ]
  }
 ],
 "metadata": {
  "kernelspec": {
   "display_name": "Python 3",
   "language": "python",
   "name": "python3"
  },
  "language_info": {
   "codemirror_mode": {
    "name": "ipython",
    "version": 3
   },
   "file_extension": ".py",
   "mimetype": "text/x-python",
   "name": "python",
   "nbconvert_exporter": "python",
   "pygments_lexer": "ipython3",
   "version": "3.6.3"
  }
 },
 "nbformat": 4,
 "nbformat_minor": 2
}
