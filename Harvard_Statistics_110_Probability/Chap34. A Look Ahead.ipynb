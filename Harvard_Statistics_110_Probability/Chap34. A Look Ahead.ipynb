{
 "cells": [
  {
   "cell_type": "markdown",
   "metadata": {},
   "source": [
    "# 34강- A Look Ahead"
   ]
  },
  {
   "cell_type": "markdown",
   "metadata": {},
   "source": [
    "### STAT 110 가장 중요한 10개 개념 정리\n",
    "  \n",
    "1) conditoning   \n",
    "  \n",
    "  → 'conditoning is the soul of statistics'\n",
    "  \n",
    "- 조건부 확률\n",
    "- 조건부 기댓값\n",
    "- 베이즈 정리\n",
    "- 마코프 체인  \n",
    "  \n",
    "2) 대칭성(symmetry)   \n",
    "  \n",
    "  → powerful but dangerous  \n",
    "  \n",
    "3) 확률변수와 확률분포  \n",
    "  \n",
    "4) stories  \n",
    "  \n",
    "5) 선형성(linearity)  \n",
    "  \n",
    "6) 지시확률변수(indicator random variables)  \n",
    "  \n",
    "7) LOTUS(무의식적인 통계학자의 법칙)  \n",
    "  \n",
    "8) 큰 숫자의 법칙(Law of Large Numbers)  \n",
    "  \n",
    "9) 중심극한정리(Central Limit Theorem)  \n",
    "  \n",
    "10) 마코프 체인(Markov Chains)  \n",
    "\n",
    "**1), 2), 3) → 무작위성(Randomness)와 불확실성(Uncertainty)이 무엇인가?  \n",
    "4), 5), 6), 7) → 평균값의 계산  \n",
    "8), 9), 10) → 장시간 행동에 대한 주제**  \n",
    "  \n",
    "  "
   ]
  },
  {
   "cell_type": "markdown",
   "metadata": {},
   "source": [
    "- 책추천: 'Mostly Harmless Econometrics(Joshua Angrist)'  \n",
    "(조건부 기댓값, 전체 기댓값의 법칙, 전체 분산의 법칙이 많이 나올 것)  "
   ]
  }
 ],
 "metadata": {
  "kernelspec": {
   "display_name": "Python 3",
   "language": "python",
   "name": "python3"
  },
  "language_info": {
   "codemirror_mode": {
    "name": "ipython",
    "version": 3
   },
   "file_extension": ".py",
   "mimetype": "text/x-python",
   "name": "python",
   "nbconvert_exporter": "python",
   "pygments_lexer": "ipython3",
   "version": "3.6.3"
  }
 },
 "nbformat": 4,
 "nbformat_minor": 2
}
