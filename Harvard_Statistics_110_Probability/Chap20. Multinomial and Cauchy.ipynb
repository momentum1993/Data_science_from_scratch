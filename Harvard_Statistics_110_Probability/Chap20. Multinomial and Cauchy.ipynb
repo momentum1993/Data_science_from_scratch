{
 "cells": [
  {
   "cell_type": "markdown",
   "metadata": {},
   "source": [
    "# 20강- 다항분포 및 코시분포(Multinomial and Cauchy)"
   ]
  },
  {
   "cell_type": "markdown",
   "metadata": {},
   "source": [
    "19강에서는 2D-LOTUS에 대해서 두 균등분포 사이의 거리의 기댓값을 구해 보았다.  \n",
    "  \n",
    "### 두 표준정규분포 확률변수 사이 거리의 기댓값 구하기  \n",
    "  \n",
    "Z_1과 Z_2는 독립적이고 동일한 정규분포를 따를 때, Z_1 - Z_2의 기댓값은?  \n",
    "  \n",
    "Z_1과 Z_2는 독립항등분포(i.i.d.)이고, 둘의 결합 확률밀도함수는 각 주변 확률밀도함수의 곱입니다.  \n",
    "여기서 2D LOTUS를 바로 이용하지 않고, 문제를 먼저 단순화할 수 있는지 알아보자.  \n",
    "두 정규분포를 따르는 확률변수의 차는 이전에 한번 보았다.  \n",
    "  \n",
    "두 정규분포를 따르는 독립인 확률변수의 합\n",
    "![](https://latex.codecogs.com/gif.latex?%5C%5C%20Theorem%5C%20%29%20%5C%5CX%20%5Csim%20N%28%5Cmu_1%2C%20%5Csigma_1%5E2%29%2C%5C%20Y%20%5Csim%20N%28%5Cmu_2%2C%20%5Csigma_2%5E2%29%2C%5C%20X%2CY%5C%20are%5C%20independent.%20%5C%5C%20Then%20X&plus;Y%20%5Csim%20N%28%5Cmu_1&plus;%5Cmu_2%2C%20%5Csigma_1%5E2&plus;%5Csigma_2%5E2%29.%20%5C%5C%5C%5C%20Proof%5C%20%29%20%5C%20Use%5C%20MGFs%3A%5C%20MGF%5C%20of%5C%20X&plus;Y%5C%20is%5C%20%28MGF%5C%20of%5C%20X%20%5Ctimes%20MGF%5C%20of%5C%20Y%29%20%5C%5C%5Cbecause%5C%20X%2CY%5C%20are%5C%20indep.%20%5C%5C%5C%5C%20e%5E%7B%5Cmu_1t%20&plus;%20%5Cfrac%7B1%7D%7B2%7D%5Cmu_1%5E2t%5E2%7D%5Ccdot%20e%5E%7B%5Cmu_2t%20&plus;%20%5Cfrac%7B1%7D%7B2%7D%5Cmu_2%5E2t%5E2%7D%20%3D%20e%5E%7B%28%5Cmu_1%20&plus;%20%5Cmu_2%29t%20&plus;%20%5Cfrac%7B1%7D%7B2%7D%28%5Csigma_1%5E2&plus;%5Csigma_2%5E2%29%7D%5C%20%28It%5C%20is%5C%20MGF%5C%20of%5C%20N%28%5Cmu_1%20&plus;%20%5Cmu_2%2C%5C%20%5Csigma_1%5E2&plus;%5Csigma_2%5E2%29%29)  \n",
    "  \n",
    "만약 이것을 차에 적용하려면 \n",
    "  \n",
    "![](https://latex.codecogs.com/gif.latex?%5C%5C%20When%5C%20Z_1%2C%20Z_2%20%5Csim%20%5E%7Biid%7D%20N%280%2C1%29%2C%20%5C%5C%20%5CRightarrow%20%5C%20When%5C%20Z_1%20-%20Z_2%20%5Csim%20N%280%2C2%29%2C%5C%20consider%5C%20scale%5C%20as%5C%202%2C%20%5C%5C%20E%28%7CZ_1%20-%20Z_2%7C%29%20%3D%20E%28%7C%20%5Csqrt%7B2%7D%20%5Ccdot%20Z%7C%29%20%3D%20%5Csqrt%7B2%7D%20E%28%7CZ%7C%29%20%5C%5C%3D%20%5Csqrt%7B2%7D%20%5Cdisplaystyle%20%5Cint%20%5E%7B%5Cinfty%7D%20_%7B-%5Cinfty%7D%20%7Cz%7C%20%5Cfrac%7B1%7D%7B%5Csqrt%7B2%5Cpi%7D%7D%20e%20%5E%7B-z%5E2/2%7Ddz%5C%20%28%5Cbecause%20LOTUS%29%20%5C%5C%3D%202%5Csqrt%7B2%7D%20%5Cdisplaystyle%20%5Cint%20%5E%7B%5Cinfty%7D%20_%7B0%7D%20z%20%5Cfrac%7B1%7D%7B%5Csqrt%7B2%5Cpi%7D%7D%20e%20%5E%7B-z%5E2/2%7Ddz%5C%20%28%5Cbecause%20even%5C%20function%29%20%5C%5C%3D%5Csqrt%7B%5Cfrac%7B2%7D%7B%5Cpi%7D%7D)  \n",
    "\n",
    "N(0,2)가 되게 하려면 N(0,1)를 따르는 확률변수에 대해서 sqrt(2)를 곱해준다.(sqrt(2)를 곱하면 제곱해서 분산 2를 얻을 수 있다.)   \n",
    "LOTUS에 의해 적분식이 나오며,  \n",
    "적분식 안의 함수는 기함수(odd function)이기 때문에 0 ~ ∞까지의 값으로 2배를 해주면 된다.  \n",
    "그리고  u = z^2 이나 z^2 / 2로 두고 치환적분을 풀면 답이 나온다.  \n",
    "  \n",
    "단순히 두 변수로 이루어진 함수라고 해서 2D-LOTUS로 문제를 꼭 풀어야될 필요는 없다는 것을 알 수 있다.  "
   ]
  },
  {
   "cell_type": "markdown",
   "metadata": {},
   "source": [
    "### 다항분포(Multinomial Distribution)  \n",
    "  \n",
    "하나 이상의 (이산적인)확률변수를 포함하는 결합분포함수이다.    \n",
    "이항분포가 일반화되어 고차원으로 된 것이다.  \n",
    "  \n",
    "#### 정의  \n",
    "![](https://latex.codecogs.com/gif.latex?%5C%5C%20Definition%5C%20%29%5C%20%5Cvec%20X%20%5Csim%20Mult%28n%2C%20%5Cvec%20p%29%20%5C%5C%5C%5C%20%5Cvec%20X%20%5Csim%20Mult%28n%2C%20%5Cvec%20p%29%2C%5C%20%5Cvec%20X%20%3D%20%28X_1%2C...%2C%20X_n%29%2C%5C%20%5Cvec%20p%20%3D%20%28p_1%2C%20...%2C%20p_k%29%28%20p_j%20%5Cgeq%200%2C%20%5Cdisplaystyle%20%5Csum%20_j%20p_j%20%3D%201%29%20%5C%5C%20if%5C%20have%5C%20n%5C%20objects%2Cindepedent.%5C%20putting%5C%20into%5C%20k%5C%20categories%20%5C%5C%20X_j%20%3D%20%5C%23%20%5C%20of%5C%20objects%5C%20in%5C%20jth%5C%20category%2C%5C%20p_j%20%3D%20P%28category%5C%20j%29)  \n",
    "  \n",
    "n개의 무언가가 있고 각 object는 k개의 카테고리로 나눌 수 있다.  \n",
    "그리고 각 카테고리에 obejct가 몇 개씩 속하는 지 알고 싶은 것이다.    \n",
    "  \n",
    "#### 결합 확률밀도함수  \n",
    "![](https://latex.codecogs.com/gif.latex?%5C%5Cjoint%20PMF%5C%20%29%3A%20P%28X_1%20%3D%20n_1%2C%20...%2C%20X_k%20%3D%20n_k%29%20%3D%20%5Cfrac%7Bn%21%7D%7Bn_1%21...n_k%21%7D%20%5Ccdot%20p_1%5E%7Bn_1%7D%5Ccdots%20p_k%5E%7Bn_k%7D%5C%20%5C%20%28%20%5Csum_j%5Ek%20n_j%20%3D%20n%20%29)  \n",
    "각 카테고리를 1,2,3이라고 하고,\n",
    "2 3 3 1 1 1 1 2 2 2 1 와 같은 배열을 가지고 있다고 하자.   \n",
    "p_1은 1에 속할 확률, p_2는 2에 속할 확률,...  \n",
    "그리고 11개의 배열을 다 정렬하는 방법은 11!가지가 있다.  \n",
    "하지만 같은 카테고리를 가리키는 것들은 어떻게 정렬하든 같으므로  \n",
    "카테고리 1: 5, 카테고리 2: 4, 카테고리 3: 2 개 만큼  5!4!2!로 나누어 줘야한다.  \n",
    "그리고 확률들을 모두 곱해준다.  \n",
    "  \n",
    "#### 주변 분포  \n",
    "X의 한 원소 X_j의 주변분포를 찾아보자.  \n",
    "X_j : 몇 명의 사람 또는 물체가 카테고리 j에 속하는지  \n",
    "\n",
    "X_j는 카테고리 j에 속하는지, 안 속하는지에 대해서 이항분포를 지닌다.  \n",
    "![](https://latex.codecogs.com/gif.latex?%5C%5CWhen%20%5Cvec%20X%20%5Csim%20Mult_k%28n%2C%20%5Cvec%20p%29%2C%5C%20marginal%5C%20distribution%5C%20of%5C%20X_j%3F%20%5C%5C%5C%5C%20%5CRightarrow%20X_j%20%5Csim%20Bin%28n%2C%20p_j%29%5C%20%28%5Cbecause%20category%5C%20or%5C%20not%29%20%5C%5C%20%5CRightarrow%20E%28X_j%29%20%3D%20np_j%2C%5C%20Var%28X_j%29%20%3D%20np_j%281-p_j%29)  \n",
    "  \n",
    "#### 덩어리 성질(Lumping property)    \n",
    "  \n",
    "![](https://latex.codecogs.com/gif.latex?%5C%5CWhen%5C%20%5Cvec%20X%20%3D%20%28x_1%2C%20...%2C%20x_%7B10%7D%29%20%5Csim%20Mult%28n%2C%28p_1%2C%20...%2C%20p_%7B10%7D%29%29%2C%20%5C%5Cthen%5C%20%5Cvec%20Y%20%3D%20%28X_1%2C%20X_2%2C%20X_3&plus;...&plus;X_%7B10%7D%29%20%5Csim%20Mult%28n%2C%20%28p_1%2Cp_2%2C%20p_3&plus;...&plus;p_%7B10%7D%29%29)  \n",
    "예를 들어서 어느 나라에 정당 10개가 있다고 하자.  \n",
    "2개의 정당 이외에는 굉장히 영향력이 작아서 나머지 7개를 하나의 카테고리로 묶는 것이다.  \n",
    "각 확률 p를 한 덩어리로 합치는 것이다.  \n",
    "그리고 각 물체가 단 한 카테고리에만 속하도록 해야지 다항분포가 성립한다.  \n",
    "  \n",
    "#### 조건부 분포   \n",
    "  \n",
    "vec(X) ~ mult(n, vec(p))인 다항분포이고, X_1 = n_1임이 주어졌을 경우(조건),\n",
    "조건부 확률을 한번 구해보자.  \n",
    "![](https://latex.codecogs.com/gif.latex?%5C%5C%20When%5C%20%5Cvec%20X%20%5Csim%20Mult%28n%2C%20%5Cvec%20p%29%2C%20%5C%5Cthen%5C%20given%5C%20X_1%20%3D%20n_1%2C%20%5C%5C%28X_2%2C%20...%20%2C%20X_k%29%20%5Csim%20Mult%28n-n_1%2C%20%28p_2%27...%20%2C%20p_k%20%27%29%29%2C%20%5C%5C%5C%5C%20p_2%27%3D%20P%28category%5C%202%5C%20%7C%5C%20not%5C%20in%5C%20category1%29%20%5C%5C%5C%5C%3D%20%5Cdisplaystyle%20%5Cfrac%7Bp_2%7D%7B1-p_1%7D%20%3D%20%5Cfrac%7Bp_2%7D%7Bp_2&plus;...&plus;p_k%7D%20%5C%5C%5CRightarrow%20p_j%27%20%3D%20%5Cdisplaystyle%20%5Cfrac%7Bp_j%7D%7Bp_2&plus;...&plus;p_k%7D)  \n",
    "  "
   ]
  },
  {
   "cell_type": "markdown",
   "metadata": {},
   "source": [
    "### 코시 분포(cauchy distribution)  \n",
    "  \n",
    "#### Cauchy Interview Problem  \n",
    "  \n",
    "(1) 누적분포함수(CDF)로 부터 확률밀도함수(PDF) 구하기  \n",
    "**표준정규분포의 누적분포함수(CDF) F(x)의 미분은 확률밀도함수(PDF) f(x)이다.**  \n",
    "  \n",
    "![](https://latex.codecogs.com/gif.latex?%5C%5C%20CDF%5C%20of%5C%20T%3A%20F%28t%29%20%5C%5C%5C%5CF%28t%29%20%3D%20P%28%5Cfrac%7BX%7D%7BY%7D%20%5Cleq%20t%29%20%3DP%28%5Cfrac%7BX%7D%7B%7CY%7C%7D%20%5Cleq%20t%29%20%28%5Cbecause%20symmetry%5C%20of%5C%20N%280%2C1%29%29%20%5C%5C%20%3D%20P%28X%20%5Cleq%20t%7CY%7C%29%20%5C%5C%20%3D%5Cint%20%5E%7B%5Cinfty%7D%20_%7B-%5Cinfty%7D%5Cint%5E%7Bt%7Cy%7C%7D%20_%7B-%5Cinfty%7D%20%5Cfrac%7B1%7D%7B%5Csqrt%7B2%5Cpi%7D%7D%20e%5E%7B-y%5E2/2%7D%5Cfrac%7B1%7D%7B%5Csqrt%7B2%5Cpi%7D%7De%5E%7B-x%5E2/2%7Ddxdy%20%5C%5C%20%3D%5Cfrac%7B1%7D%7B%5Csqrt%7B2%5Cpi%7D%7D%20%5Cint%20%5E%7B%5Cinfty%7D%20_%7B-%5Cinfty%7D%20e%5E%7B-y%5E2/2%7D%20%5Cint%5E%7Bt%7Cy%7C%7D%20_%7B-%5Cinfty%7D%20e%5E%7B-x%5E2/2%7Ddxdy%20%5C%5C%20%3D%5Cfrac%7B1%7D%7B%5Csqrt%7B2%5Cpi%7D%7D%20%5Cint%20%5E%7B%5Cinfty%7D%20_%7B-%5Cinfty%7D%20e%5E%7B-y%5E2/2%7D%20%5CPhi%28t%7Cy%7C%29dy%5C%20%28%5Cbecause%20%5CPhi%28t%7Cy%7C%29%20%3D%20%5Cint%5E%7Bt%7Cy%7C%7D%20_%7B-%5Cinfty%7D%20e%5E%7B-x%5E2/2%7Ddx%29%20%5C%5C%20%3D%20%5Csqrt%7B%5Cfrac%7B2%7D%7B%5Cpi%7D%7D%20%5Cint%20%5E%7B%5Cinfty%7D%20_0%20e%5E%7B-y%5E2/2%7D%20%5CPhi%28ty%29%20dy%5C%20%28%5Cbecause%5C%20even%5C%20function%20%5Crightarrow%20%28-%5Cinfty%2C%20%5Cinfty%29%20%3D%202%280%2C%20%5Cinfty%29%29%20%5C%5C)  \n",
    "![](https://latex.codecogs.com/gif.latex?%5C%5C%20PDF%5C%20of%5C%20T%20%3A%20F%27%28t%29%20%3D%20f%28t%29%20%5C%5C%5C%5C%20F%27%28t%29%20%3D%20f%28t%29%20%3D%5Csqrt%7B%5Cfrac%7B2%7D%7B%5Cpi%7D%7D%5Cint%20%5E%5Cinfty%20_0%20y%20e%5E%7B-y%5E2/2%7D%20%5Cfrac%7B1%7D%7B%5Csqrt%7B2%5Cpi%7D%7D%20e%5E%7B-t%5E2y%5E2/2%7D%20dy%28%5Cbecause%20well%5C%20behaved%5C%20function%29%20%5C%5C%20%3D%5Cfrac%7B1%7D%7B%5Cpi%7D%20%5Cint%20%5E%5Cinfty%20_0%20y%20e%20%5E%7B-%281&plus;t%5E2%29y%5E2/2%7Ddy%20%5C%5C%20u%3D%20-%20%5Clarge%20%5Cfrac%7B1%7D%7B%28t%5E2&plus;1%29%7D%2C%5C%20dv%20%3D%20-%28t%5E2&plus;1%29ye%5E%7B-%28t%5E2&plus;1%29y%5E2/2%7D%20dy%20%5C%5Cdu%20%3D%200du%3D0%5C%20%5C%20%5C%20v%20%3D%20e%5E%7B-%28t%5E2&plus;1%29y%5E2/2%7D%20%5C%5C%5C%5C%3D%20%5CLarge%20%5Cfrac%7B1%7D%7B%5Cpi%281&plus;t%5E2%29%7D)  \n",
    "  \n",
    "(2) 전체 확률의 법칙(Law of Total Probability) 이용하기    \n",
    "  \n",
    "![](https://latex.codecogs.com/gif.latex?%5C%5CP%28X%20%5Cle%20t%7CY%7C%29%20%5C%5C%20%3D%20%5Cdisplaystyle%20%5Cint%20%5E%20%5Cinfty%20_%7B-%5Cinfty%7D%20P%28X%20%5Cle%20t%7CY%7C%20%5Cmid%20Y%3Dy%29%5Cvarphi%28y%29%20dy%5C%20%28%5Cbecause%20%5Cvarphi%28y%29%20%3D%20PDF%5C%20of%5C%20N%280%2C1%29%29%20%5C%5C%20%3D%20%5Cdisplaystyle%20%5Cint%20%5E%20%5Cinfty%20_%7B-%5Cinfty%7D%20P%28X%20%5Cle%20t%7Cy%7C%29%5Cvarphi%28y%29%20dy%5C%20%28%5Cbecause%20X%2CY%5C%20are%5C%20indep.%29%20%5C%5C%20%3D%20%5Cdisplaystyle%20%5Cint%20%5E%7B%5Cinfty%7D%20_%7B-%5Cinfty%7D%20%5CPhi%28t%7CY%7C%29%20%5Cvarphi%28y%29dy)  \n",
    "  \n",
    "(3)번째 방법은 추후에 보게 될 것  \n",
    "  "
   ]
  }
 ],
 "metadata": {
  "kernelspec": {
   "display_name": "Python 3",
   "language": "python",
   "name": "python3"
  },
  "language_info": {
   "codemirror_mode": {
    "name": "ipython",
    "version": 3
   },
   "file_extension": ".py",
   "mimetype": "text/x-python",
   "name": "python",
   "nbconvert_exporter": "python",
   "pygments_lexer": "ipython3",
   "version": "3.6.3"
  }
 },
 "nbformat": 4,
 "nbformat_minor": 2
}
