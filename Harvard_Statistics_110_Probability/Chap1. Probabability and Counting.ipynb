{
 "cells": [
  {
   "cell_type": "markdown",
   "metadata": {},
   "source": [
    "# Statistics is the logic of Uncertainty  \n",
    "# 확률은 불확실성에 대한 논리이다.\n",
    "  \n",
    "확률과 통계는 생각을 어떻게 수치로 나타내는지에 대한 것\n",
    "\n",
    "samplespace(표본공간) : the set of all possible outcomes of an experiment.\n",
    "                        어떤 실험에서 가능한 모든 경우의 집합\n",
    "event(사건) : subset of the samplespace\n",
    "                표본공간의 부분집합\n",
    "                \n",
    "\n",
    "### Naive Definition of Probability(확률의 단순한 정의)\n",
    "\n",
    "A라는 이벤트\n",
    "P(A) = # of favorable outcomes / # of pissible outcomes \n",
    "       A라는 이벤트 결과의 개수 / 가능한 결과의 개수(=표본공간)\n",
    "\n",
    "Assumes all outcomes equally likely, finite sample space.\n",
    "모든 결과가 같은 확률을 갖고 있고, 가능한 결과의 개수가 유한한 표본공간이어야한다.\n",
    "       \n",
    "### Counting(가지수 세기)\n",
    "\n",
    "Multipication Rule : if have experiment with n1 possible outcomes,\n",
    "                    and for each outcome of 1st expt there are n2 outcomes for \n",
    "second expt, ...., for each there are nr outcomes for rth expt, \n",
    "__then n1n2....nr overall posiible outcomes__\n",
    "\n",
    "ex) 아이스크림은 3가지맛, 콘은 2가지맛이 있을 때 아이스크림 선택하기.  \n",
    "실험 1 : 아이스크림맛 고르기,  실험 2: 콘 선택하기  \n",
    "3 X 2 = 6가지의 방법이 나온다."
   ]
  },
  {
   "cell_type": "markdown",
   "metadata": {},
   "source": [
    "Binomial Coefficient(이항 계수)  \n",
    "n가지 중에 k가지를 선택하는 경우의 수\n",
    "![](https://wikimedia.org/api/rest_v1/media/math/render/svg/af575850eec19a2efa2ac71d38c3a4c7af88bf5d)  \n",
    "  \n",
    "n(n-1)(n-2)....(n-k+1)까지 k명의 사람들을 선택한다.\n",
    "하지만 선택된 k명의 사람들은 어떠한 순서로든지 선택될 수 있기에 중복된 만큼 k!로 나눠준다.  \n",
    "\n",
    "__n(n-1)(n-2)....(n-k+1) / k!  = n! / (n-k)! k!__\n",
    "  "
   ]
  },
  {
   "cell_type": "markdown",
   "metadata": {},
   "source": [
    "ex) 포커에서 풀하우스 얻어낼 확률(5장을 뽑아서 같은 숫자 3장, 같은 숫자 2장으로 구성될 경우)  \n",
    "  \n",
    "   13 X 4 C 3 X 12 X 4 C 2 / 52 C 5  \n",
    "   (A,2,3,..,K까지 13가지) X (모양 다른 4가지 중 3가지) X (이전의 숫자를 뺀 12가지) X (모양 다른 4가지 중 2가지) / 총 카드 52장 중에 5장 뽑을 경우"
   ]
  },
  {
   "cell_type": "markdown",
   "metadata": {},
   "source": [
    "Sampling table(표본 표) :n개 중에 k개를 고른다고 할 때  \n",
    "Order : 순서가 있는 것,  Replace : 복원 시키는것. 즉, 고르고 다시 집어놓고 다시 고르는 것.\n",
    "\n",
    "|  <center></center> |  <center>Order</center> |  <center>Order X</center> |\n",
    "|:--------|:--------:|--------:|\n",
    "|**Replace** | <center><math>N^k</math></center> |<center>(n+k-1) C k</center>|\n",
    "|**Replace X** | <center>n(n-1)(n-2)...(n-k+1)</center> |<center>n C k</center>|\n"
   ]
  },
  {
   "cell_type": "markdown",
   "metadata": {},
   "source": [
    "![](https://cphinf.pstatic.net/mooc/20180817_103/1534468198719P5Grq_PNG/image.PNG)"
   ]
  }
 ],
 "metadata": {
  "kernelspec": {
   "display_name": "Python 3",
   "language": "python",
   "name": "python3"
  },
  "language_info": {
   "codemirror_mode": {
    "name": "ipython",
    "version": 3
   },
   "file_extension": ".py",
   "mimetype": "text/x-python",
   "name": "python",
   "nbconvert_exporter": "python",
   "pygments_lexer": "ipython3",
   "version": "3.6.3"
  }
 },
 "nbformat": 4,
 "nbformat_minor": 2
}
