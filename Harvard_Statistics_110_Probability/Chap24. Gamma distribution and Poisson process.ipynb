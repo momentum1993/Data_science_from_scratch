{
 "cells": [
  {
   "cell_type": "markdown",
   "metadata": {},
   "source": [
    "# 24강- 감마분포와 포아송 과정(Gamma distribution and Poisson process) "
   ]
  },
  {
   "cell_type": "markdown",
   "metadata": {},
   "source": [
    "### 감마함수(Gamma function)  \n",
    "  \n",
    "0,1,2,..\n",
    "이러한 수열이 있을 때 2 다음에 무엇이 올 것이라 생각하는가?  \n",
    "  \n",
    "0, 1!, 2!!, 3!!!, 4!!!!, ... 이런 식으로도 올 수 있다.  \n",
    "  \n",
    "이 팩토리얼은 굉장히 급진적으로 증가하는데\n",
    "팩토리얼의 근사치를 알려주는 **스털링 공식**이라는 것이 있다.\n",
    "  \n",
    "![](https://latex.codecogs.com/gif.latex?%5C%5C%20n%21%20%5Csim%20%5Csqrt%7B2%5Cpi%20n%7D%28%5Cfrac%7Bn%7D%7Be%7D%29%5En)    \n",
    "위의 스털링 공식은 팩토리얼의 매우 좋은 근사치여서 n이 무한대로 가면 스털링 공식 값에 팩토리얼값을 나누면 1로 수렴한다.  \n",
    "(n / e)^n은 n^n의 특성을 e^n으로 바뀐 것이다. \n",
    "만약 우리가 π!를 구할 때 3과 4사이를 연결하는 방법이 무수히 많을 경우 어떻게 해야할까?  \n",
    " \n",
    "이것을 해결하기 위해 감마함수가 쓰인다.  \n",
    "  \n",
    "![](https://latex.codecogs.com/gif.latex?%5C%5C%20%5CGamma%28a%29%3D%20%5Cint_%20%7B0%7D%5E%7B%5Cinfty%7D%20x%5Eae%5E%7B-x%7D%5Cfrac%20%7Bx%7D%7Bdx%7D%2C%20%28a%3E0%2C%20a%5Cin%20%5Cmathbb%7BR%7D%29%20%5C%5C%5C%5C%20%5CGamma%28n%29%3D%20%28n-1%29%21%20%5C%5C%5C%5C%20%5CGamma%28x&plus;1%29%20%3D%20x%20%5CGamma%28x%29%20%5C%5C%5C%5C%20%5CGamma%5CLarge%28%20%5Cfrac%7B1%7D%7B2%7D%29%20%3D%20%5Csqrt%7B%5Cpi%7D%20%5C%5C%20%5Crightarrow%20%5Censpace%20%5CGamma%20%5CLarge%28%5Cfrac%7B3%7D%7B2%7D%29%20%3D%20%5Censpace%20%5Cdisplaystyle%20%5Cfrac%7B1%7D%7B2%7D%20%5CGamma%5CLarge%28%5Cfrac%7B1%7D%7B2%7D%29%20%3D%5Censpace%20%5Cdisplaystyle%20%5Cfrac%7B%5Csqrt%7B%5Cpi%7D%7D%7B2%7D%20%5Cquad%20%5Ccdots)  \n",
    "위의 감마함수 적분은 0보다 어떤 큰 실수에 대해서도 수렴하므로 만족한다.  \n",
    "그리고 이것은 팩토리얼의 확장으로도 볼 수 있다.  \n",
    "  \n",
    "√2π는 이전에 정규분포의 확률밀도함수의 정규화 상수에서 볼 수 있었다.\n",
    "(1/√2π가 포함된 식이었다.)    "
   ]
  },
  {
   "cell_type": "markdown",
   "metadata": {},
   "source": [
    "### 감마분포(Gamma distribution)  \n",
    "  \n",
    "감마 함수를 기반으로 해서 확률밀도함수를 아주 쉽게 만드는 방법이 있다.  \n",
    "  \n",
    "감마분포는 지수분포와 연관성이 매우 높다. → Gamma(a, λ)  \n",
    "\n",
    "![](https://latex.codecogs.com/gif.latex?%5C%5C%20%5Cdisplaystyle%20%5Cint%20%5E%5Cinfty%20_0%20%5Cfrac%7B1%7D%7B%5CGamma%28a%29%7D%20x%5Ea%20e%5E%7B-x%7D%20%5Cfrac%7Bdx%7D%7Bx%7D%20%3D%201%20%5C%5C%5Crightarrow%20%5Cspace%20f_X%28x%29%20%3D%20%5Censpace%20%5Cdisplaystyle%20%5Cfrac%7B1%7D%7B%5CGamma%28a%29%7D%20x%5Ea%20e%5E%7B-x%7D%20%5Cfrac%7B1%7D%7Bx%7D%2C%5Cquad%20PDF%5C%20of%5C%20X%5Csim%20Gamma%28a%2C%201%29%20%5C%5C%5C%5C%5C%5C%20PDF%5C%20of%5C%20%5CGamma%28a%2C%20%5Clambda%29%3A%20%5C%5C%5C%5C%20Let%5C%20Y%20%3D%20%5Cdisplaystyle%20%5Cspace%20%5Cfrac%7BX%7D%7B%5Clambda%7D%2C%20%5Cqquad%20X%20%5Csim%20Gamma%28a%2C1%29%20%5C%5C%20%5CRightarrow%20Y%20%5Csim%20Gamma%28a%2C%5Clambda%29%20%5C%5C%5C%5C%20f_Y%28y%29%20%3D%20f_X%28x%29%5Cdisplaystyle%20%5Cfrac%7Bdx%7D%7Bdy%7D%20%5Cqquad%20%5Cquad%20y%3D%5Cfrac%7Bx%7D%7B%5Clambda%7D%2C%20%5Censpace%20x%20%3D%20%5Clambda%20y%2C%20%5Censpace%20%5Cfrac%7Bdx%7D%7Bdy%7D%20%3D%20%5Clambda%20%5C%5C%5C%5C%20%3D%20%5Cspace%20%5Cdisplaystyle%20%5Cfrac%7B1%7D%7B%5CGamma%28a%29%7D%20%28%5Clambda%20y%29%5Ea%20e%5E%7B-%5Clambda%20y%7D%20%5Cfrac%7B%5Clambda%7D%7B%5Clambda%20y%7D%20%5Cqquad%20%28y%20%3E0%29)  \n",
    "  \n",
    "위의 Gamma(a, 1)라는 다른 척도를 가진 감마분포를 이용해서 Gamma(a, λ)를 구해냈다.(마치 지수함수에서 eλ 구한 것처럼)  \n",
    "간단한 변환(transformation) 이용.  \n",
    "원래식에서의 모든 x를 λy로 바꿔준다 (y = x/λ)  \n",
    "  \n",
    "Gamma(a, 1)은 x>0에 대해서 성립, Gamma(a, λ)는 y>0에 대해서 성립 (y = x/λ)  \n",
    "⇒ 감마분포는 양의 실수에 대한 연속 분포  \n",
    "  \n",
    "감마분포는 지수분포, 정규분포, 포아송분포에 대해 연관되어 있다.    "
   ]
  },
  {
   "cell_type": "markdown",
   "metadata": {},
   "source": [
    "### 포아송 과정(Poisson Process)  \n",
    "  \n",
    "감마분포와 지수분포의 연관성을 알기 위해서 먼저 포아송 과정을 알아야 한다.  \n",
    "  \n",
    "T\\_n :  n번째 이메일이 도착한 시점  \n",
    "![](https://cphinf.pstatic.net/mooc/20180905_18/1536126041934DJMLt_PNG/24-1.png) \n",
    "  \n",
    "N\\_t : t 시점까지 도착한 이메일의 수 ∼ Pois(λt)  \n",
    "(서로 다른 시간 구간에 이메일은 서로 독립적으로 도착한다)  \n",
    "  \n",
    "![](https://latex.codecogs.com/gif.latex?%5C%5C%20P%28T_1%3Et%29%3DP%28N_t%3D0%29%20%3D%20e%5E%7B-%5Clambda%20t%7D%3De%20%u200B%u2212%u03BBt%20%u200B%u200B)  \n",
    "  \n",
    "0과 t 시점 사이에, 첫 번째 이메일이 도착한 시점 T1이며 이는 eλ이다.  \n",
    "시간이 t일 때, 아직 아무 메일도 받지 못했다. = P(N_t) = 0  \n",
    "1-e^(-λ) 누적분포함수이니까 참이다.  \n",
    "\n",
    "n번째와 n+1번째의 메일 사이의 시간은 지수함수가 될 것이다.  \n",
    "그리고 그것은 서로 독립적인 부분이다.    \n",
    "  \n",
    "→ 여기서  T_1까지 걸린 시간은 Exp(λ) 분포를 따름을 알 수 있다.  \n",
    "  \n",
    "![](https://cphinf.pstatic.net/mooc/20180905_244/1536126052136Ps9p0_PNG/24-2.png)    \n",
    "a가 정수라고 가정을 했을 때 밑의 식이 성립한다.  \n",
    "![](https://latex.codecogs.com/gif.latex?%5C%5C%20T_n%20%3D%20%5Csum_%20%7Bj%3D1%7D%5E%7Bn%7D%20X_j%20%5Csim%20Gamma%28n%2C%5Clambda%29)  \n",
    "  \n",
    "(X_j는 이메일 도착의 시간차,  X_j ∼iid  Exp(λ))  \n",
    "  \n",
    "→ 감마분포와 포아송분포의 관계는 이산확률분포에서 기하분포(첫 번째 성공까지 걸린 시간)와 음이항분포(n번째 성공까지 걸린 시간)와의 관계의 '연속확률분포 버전'으로도 볼 수 있다.  \n",
    "  \n",
    "  \n",
    "  "
   ]
  },
  {
   "cell_type": "markdown",
   "metadata": {},
   "source": [
    "#### 증명) MGF를 이용한 증명  \n",
    "  \n",
    "![](https://latex.codecogs.com/gif.latex?%5C%5C%20Proof%5C%20that%5C%20T%20%3D%20%5Csum_%20%7Bj%3D1%7D%5E%7Bn%7DX_j%20%2C%5C%20X_j%20%5Csim%5E%7Biid%7D%20Expo%281%29%5C%20is%5C%20Gamma%28n%2C1%29%20%5C%5C%20MGF%5C%20of%5C%20X_j%3A%20%5Cdisplaystyle%20%5Cfrac%7B1%7D%7B1-t%7D%2C%20%5Cquad%28t%20%3C1%29%20%5C%5C%20%5CRightarrow%20MGF%5C%20of%5C%20T_n%3A%20%5Cdisplaystyle%20%28%5Cfrac%7B1%7D%7B1-t%7D%29%5En%2C%20%5Cquad%20%28t%3C1%29%20%5Crightarrow%20Is%5C%20it%5C%20MGF%5C%20of%5C%20Gamma%5C%20Distribution%3F%20%5C%5C%5C%5C%20Let%5C%20Y%20%5Csim%20Gamma%28n%2C%201%29%2C%20%5C%5C%20E%28e%5E%7BtY%7D%29%20%5C%5C%20%3D%20%5Cspace%20%5Cdisplaystyle%20%5Cfrac%7B1%7D%7B%5CGamma%28n%29%7D%20%5Cint%20%5E%5Cinfty%20_0%20e%5E%7Bty%7D%20y%5En%20e%5E%7B-y%7D%20%5Cfrac%7Bdy%7D%7By%7D%5C%20%28%5Cbecause%20LOTUS%29%20%5C%5C%20%3D%20%5Cspace%20%5Cdisplaystyle%20%5Cfrac%7B1%7D%7B%5CGamma%28n%29%7D%20%5Cint%20%5E%5Cinfty%20_0%20y%5En%20e%5E%7B-%281-t%29y%7D%20%5Cfrac%7Bdy%7D%7By%7D%20%5Crightarrow%20It%5C%20is%5C%20similar%5C%20with%5C%20Gamma%5C%20function%20%5C%5C%5C%5C%20let%5C%20%5C%20x%3D%281-t%29y%20%5Cqquad%20dx%20%3D%20%281-t%29dy%2C%20%5C%5C%5C%5C%20%3D%5Cspace%20%5Cdisplaystyle%20%5Cfrac%7B%281-t%29%5E%7B-n%7D%7D%7B%5CGamma%28n%29%7D%20%5Cint%20%5E%5Cinfty%20_0%20x%5En%20e%5E%7B-x%7D%5Cfrac%7Bdx%7D%7Bx%7D%20%5C%5C%20%3D%20%5CLarge%20%28%5Cfrac%7B1%7D%7B1-t%7D%29%5En)  \n",
    "T_n의 MGF는 X_j가 각각 독립적이기 때문에 더하고, 적률생성함수를 곱해주면 되기 때문에 자기 자신을 n번 곱하면 되는 것이다.  \n",
    "  \n",
    "그리고 이러한 (1 / 1-t)^n 식이 우리가 원하는 적률생성함수인지 어떻게 알 수 있을까?  \n",
    "  \n",
    "이를 위해 감마분포의 적률생성함수를 보았다.    \n",
    "  \n",
    "그렇다면 MGF를 이용해서 적률을 계산해보자.  \n",
    "![](https://latex.codecogs.com/gif.latex?%5C%5C%20Let%5C%20X%20%5Csim%20Gamma%28a%2C1%29%2C%5C%20find%5C%20E%28X%5Ec%29%20%5C%5C%20E%28X%5Ec%29%20%5C%5C%20%3D%5Cdisplaystyle%5Cspace%20%5Cfrac%7B1%7D%7B%5CGamma%28a%29%7D%20%5Cint%5E%5Cinfty%20_0%20x%5Ec%20x%5Ea%20e%5E%7B-x%7D%20%5Cfrac%7Bdx%7D%7Bx%7D%5C%20%28%5Cbecause%20LOTUS%29%20%5C%5C%20%3D%20%5Cspace%20%5Cfrac%7B1%7D%7B%5CGamma%28a%29%7D%20%5Cint%5E%5Cinfty%20_0%20x%5E%7Ba&plus;c%7D%20e%5E%7B-x%7D%20%5Cfrac%7Bdx%7D%7Bx%7D%5C%20%5Crightarrow%20It%5C%20is%5C%20Gamma%5C%20function%20%5C%5C%20%3D%20%5Cspace%20%5Cdisplaystyle%20%5Cfrac%7B%5CGamma%28a&plus;c%29%7D%7B%5CGamma%28a%29%7D%5C%20%28if%5C%20a&plus;c%20%3E%200%29%20%5C%5C%5C%5C%20E%28X%29%20%3D%20%5Cspace%20%5Cdisplaystyle%20%5Cfrac%7B%5CGamma%28a&plus;1%29%7D%7B%5CGamma%28a%29%7D%20%3D%20%5Cspace%20%5Cfrac%7Ba%5CGamma%28a%29%7D%7B%5CGamma%28a%29%7D%5C%20%28%5Cbecause%20%5CGamma%28a&plus;1%29%3Da%5CGamma%28a%29%29%3Da%20%5C%5C%20E%28X%5E2%29%20%3D%20%5Cspace%20%5Cdisplaystyle%20%5Cfrac%7B%5CGamma%28a&plus;2%29%7D%7B%5CGamma%28a%29%7D%20%3D%20%5Cspace%20%5Cfrac%7Ba%28a&plus;1%29%5CGamma%28a%29%7D%7B%5CGamma%28a%29%7D%5C%20%28%5Cbecause%20%5CGamma%28a&plus;1%29%3Da%5CGamma%28a%29%29%20%3D%20a%5E2&plus;a%20%5C%5C%20%5CRightarrow%20Var%28X%29%20%3D%20a%20%5C%5C%20Gamma%28a%2C%5Clambda%29%20%5Censpace%20%5CRightarrow%20Mean%5C%20%5C%20%5Cdisplaystyle%20%5Cfrac%7Ba%7D%7B%5Clambda%7D%2C%5C%20%5C%20%5C%20Var%5C%20%5C%20%5Cdisplaystyle%20%5Cfrac%7Ba%7D%7B%5Clambda%20%5E2%7D)  \n",
    "a+c > 0인 이유는 감마 함수는 양수에 대해서만 정의가 되기 때문이다.  \n",
    "지수가 1일 때 평균이 1이었으니까, 선형성에 의해 지수가 n일 때 평균이 n이 된다.  \n",
    "    \n",
    "포아송분포처럼 평균과 분산이 같은 이유는 우리가 지수를 1로 두었기에 가능한 것이다.  \n",
    "  \n",
    "λ에 대해서 다시 계산을 해주면 위처럼 평균과 분산값이 나온다.    "
   ]
  }
 ],
 "metadata": {
  "kernelspec": {
   "display_name": "Python 3",
   "language": "python",
   "name": "python3"
  },
  "language_info": {
   "codemirror_mode": {
    "name": "ipython",
    "version": 3
   },
   "file_extension": ".py",
   "mimetype": "text/x-python",
   "name": "python",
   "nbconvert_exporter": "python",
   "pygments_lexer": "ipython3",
   "version": "3.6.3"
  }
 },
 "nbformat": 4,
 "nbformat_minor": 2
}
