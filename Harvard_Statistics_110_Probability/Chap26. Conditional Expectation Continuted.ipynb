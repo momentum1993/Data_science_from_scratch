{
 "cells": [
  {
   "cell_type": "markdown",
   "metadata": {},
   "source": [
    "# 26강- 조건부 기댓값\\_2(Conditional Expectation Continuted) "
   ]
  },
  {
   "cell_type": "markdown",
   "metadata": {},
   "source": [
    "### 조건부 기댓값  \n",
    "  \n",
    "ex1) 두 봉투 문제(2 Envelope Paradox): 두 봉투 중 하나는 다른 하나의 두 배의 돈이 들어 있다  \n",
    "  \n",
    "봉투 하나를 골랐다고 했을 때, x가 들어있다고 하면, 나머지 다른 하나에는 x/2 나 2x의 금액이 들어있을 것이다. 평균은 x보다 큰 수가 나올 것이며, y도 똑같을 것이다.  \n",
    "    \n",
    "조건 해석)  \n",
    "   \n",
    "![](https://latex.codecogs.com/gif.latex?%5C%5C%201.%20E%28Y%29%20%3D%20E%28X%29%20%5C%5C%5C%5C%202.%20E%28Y%29%20%5C%5C%20%3D%20E%28Y%7CY%3D2X%29%20P%28Y%3D2X%29&plus;E%28Y%7CY%20%3D%20%5Cfrac%7BX%7D%7B2%7D%29P%28Y%3D%5Cfrac%7BX%7D%7B2%7D%29%20%5C%5C%20%3D%20%5Cfrac%7B1%7D%7B2%7DE%282X%29&plus;%20%5Cfrac%7B1%7D%7B2%7DE%28%5Cfrac%7BX%7D%7B2%7D%29%5C%5C%20%3D%20%5Cfrac%7B5%7D%7B4%7D%20E%28X%29)  \n",
    "1. 문제가 대칭적이기 때문에 서로의 평균이 같다.\n",
    "2. 조건부에 대한 주장.(전체 확률의 법칙으로 증명 가능)  \n",
    "  \n",
    "  \n",
    "  \n",
    "두 해석이 동시에 성립할 수는 없음. 어떤 것이 모순인가?  \n",
    "  \n",
    "→ 두 번째 해석의 등호. **X, Y의 독립여부는 알 수 없으므로**  E(Y|Y=2X) = E(2X)는 성립하지 않음(Y= 2X라는 사실을 잊어서는 안됨!!)   \n",
    "  \n",
    "E(Y|Y=2X) ≠ E(2X)  \n",
    "I를 어떤 봉투에 더 많은 돈이 들어있는지를 가리키는 지시확률변수(Indicator)라고 해보자.  \n",
    "Y=2X라면 I는 1이고, 그외에는 0이 된다.  \n",
    "그러면 X,I는 종속이 된다.  \n",
    "→ 이는 만약 X를 관찰하게 된다면, 어떤식으로든 I에 대한 정보를 준다는 것!!!  \n",
    "  \n",
    "두 봉투에서 더 큰 금액을 꺼낼 수 있는 확률이 50%가 넘는 전략을 제시하라고 했을 때,   \n",
    "X가 얼마나 큰 금액인지 작은 금액인지 생각해볼 수 있다.  \n",
    "특정한 기준 t를 지수분포 또는 다른 분포에서 가져와서 기준값을 정한 뒤 t보다 큰 돈이면 행복하다고 하고, 아니면 않다고 하는 것이다. 그러면 더 많은 돈을 가진 봉투를 선택할 확률이 50%를 넘을 수 있을 것이다.  \n",
    "  \n",
    "---  \n",
    "  \n",
    "ex2) 동전 뒤집기에서의 패턴(Patterns in coin flips)  \n",
    "  \n",
    "동전을 던질 때, 앞뒤(HT)면이 나올 때까지의 시간이 더 오래 걸리는가, 앞앞(HH)면이 나올 때까지가 더 오래 걸리는가?  \n",
    "  \n",
    "똑같다고 생각할 수 있지만, HH가 나올 때까지가 더 오래걸린다.  \n",
    "  \n",
    "HT일 경우와 TH일 경우는 대칭성에 의해서 같은 기댓값을 가지지만, \n",
    "HH와 TT일 경우는 위의 기댓값과 다르다.  \n",
    "\n",
    "먼저 HT 패턴이 나올 수 있는 시간의 기댓값을 먼저 살펴보자.  \n",
    "![](https://cphinf.pstatic.net/mooc/20180916_119/1537064528502dDasr_PNG/26-1.PNG)  \n",
    "  \n",
    "위의 사진처럼 HT까지 걸리는 시간을 구하는 문제는 이렇게 w1(첫 번째 H가 나올 때까지 걸리는 시간), w2(첫 번째 H 후에 처음으로 T가 나올 때까지의 시간)로 쪼갤 수 있다.\n",
    "  \n",
    "![](https://latex.codecogs.com/gif.latex?%5C%5C%20E%28W_%7BHT%7D%29%20%5C%5C%20%3D%20E%28W_1%29&plus;E%28W_2%29%3D%202&plus;2%20%3D%204%20%5Censpace%20%28%5Cbecause%20W_j-1%20%5Csim%20Geom%20%5CLarge%28%5Cfrac%7B1%7D%7B2%7D%29%29)  \n",
    "  \n",
    "W\\_1에서는 H를 성공이라고 봤으며, W\\_2에서는 T를 성공이라고 보면 1/2에 대한 기하확률변수의 기댓값은 1이기 때문에 W\\_{j}-1의 기댓값+1 = 2가 된다.  \n",
    "  \n",
    "그리고 HH 패턴에 대한 기댓값을 보자.  \n",
    "  \n",
    "![](https://latex.codecogs.com/gif.latex?%5C%5C%20E%28W_%7BHH%7D%29%20%3D%20E%28W_%7BTT%7D%29%20%5C%5C%20%3D%20%5Cdfrac%7B1%7D%7B2%7D%20E%28W_%7BHH%7D%5C%20%7C%5C%20first%5C%20toss%5C%20H%29%20&plus;%20%5Cdfrac%7B1%7D%7B2%7D%20E%28W_%7BHH%7D%5C%20%7C%5C%20first%5C%20toss%5C%20T%29%29%20%5C%5C%20%3D%20%5Cdfrac%7B1%7D%7B2%7D%28%202%20%5Ccdot%20%5Cdfrac%7B1%7D%7B2%7D%20&plus;%20%282&plus;E%28W_%7BHH%7D%29%29%5Ccdot%20%5Cdfrac%7B1%7D%7B2%7D%29%20&plus;%20%5Cdfrac%7B1%7D%7B2%7D%28E%28W_%7BHH%7D&plus;1%29%29)  \n",
    "  \n",
    "**HT의 경우에는 첫번째 H라는 조건이 만족할 경우 패턴이 완성되기 전까지 패턴의 반이 계속 만족되는 상황이지만, HH의 경우는 한번 T가 나오면 다시 처음부터 시작해야한다.**  \n",
    "동전을 길게 던질 상황을 한 번 보자.    \n",
    "![](https://cphinf.pstatic.net/mooc/20180916_156/1537065238505mMyQJ_PNG/26-2.PNG)  \n",
    "TH는 단독으로밖에 나올 수 없는 반면에, HH는 겹쳐서(중첩되어) 셀 수 있어서 HH가 더 자주 나오게 된다.  \n",
    "ex) HHHH에서 HH패턴은 3번 보인다. THTH에서는 패턴은 2번 보인다.  \n",
    "  \n",
    "하지만 동전 앞뒷면의 총 횟수의 기댓값은 같기 때문에 HH의 패턴은 멀리 떨어져 나타난다. "
   ]
  },
  {
   "cell_type": "markdown",
   "metadata": {},
   "source": [
    "확률변수의 조건부  \n",
    "  \n",
    "![](https://latex.codecogs.com/gif.latex?%5C%5C%20Y%5C%20is%5C%20discrete%29%20%5C%5C%5C%5C%20E%28Y%7CX%3Dx%29%20%3D%20%5Cdisplaystyle%20%5Csum%20_y%20yP%28Y%3Dy%7CX%3Dx%29%20%5C%5C%5C%5C%20Y%5C%20is%5C%20continuous%29%20%5C%5C%20E%28Y%7CX%3Dx%29%20%5C%5C%20%3D%20%5Cspace%20%5Cdisplaystyle%20%5Cint%20%5E%5Cinfty%20_%7B-%5Cinfty%7D%20y%20f_%7BY%7CX%7D%28y%7Cx%29dy%20%28X%5C%20is%5C%20descrete%29%20%5C%5C%20E%28Y%7CX%3Dx%29%20%5C%5C%20%3D%20%5Cspace%20%5Cdisplaystyle%20%5Cint%20%5E%5Cinfty%20_%7B-%5Cinfty%7D%20y%20%5Cfrac%7Bf_%7BX%2CY%7D%28x%2Cy%29%7D%7Bf_X%28x%29%7Ddy%5C%20%28X%5C%20is%5C%20continuous%29)  \n",
    "  \n",
    "⇒ g(x)=E(Y | X = x)라고 할 때,  E(Y | X) = g(X)로 다시 쓸 수 있다  \n",
    "**즉, E(Y | X)는 X에 대한 함수이다.**    \n",
    "  \n",
    "---  \n",
    "  \n",
    "ex) 포아송 분포에 관한 예시   \n",
    "![](https://latex.codecogs.com/gif.latex?%5C%5C%20When%5C%20X%2C%20%5Cspace%20Y%20%5Csim%5E%7Biid%7D%20Pois%28%5Clambda%29%2C%20%5C%5C%20E%28X&plus;Y%7CX%29%20%5C%5C%20%3D%20E%28X%7CX%29&plus;E%28Y%7CX%29%5C%20%28%5Cbecause%20Linearity%29%20%5C%5C%20%3D%20X&plus;E%28Y%29%5C%20%28%5Cbecause%5C%20E%28h%28X%29%7CX%29%20%3D%20h%28X%29%20%2C%5C%20X%5C%20and%5C%20Y%5C%20are%5C%20indep.%29%20%5C%5C%20%3D%20X&plus;%20%5Clambda%20%5C%5C%5C%5C%20Find%5C%20E%28X%7CX&plus;Y%29.%20%5C%5C%20Let%5C%20T%20%3D%20X&plus;Y%20%5C%5C%5C%5C%201.%5C%20find%5C%20conditional%5C%20PMF%20%5C%5C%20P%28X%3Dk%7CT%3Dn%29%20%5C%5C%20%3D%20%5Cfrac%7BP%28T%3Dn%7CX%3Dk%29P%28X%3Dk%29%7D%7BP%28T%3Dn%29%7D%5C%20%28%5Cbecause%20Bayes%27%20Rule%29%20%5C%5C%20%3D%20%5Cspace%20%5Cdisplaystyle%20%5Cfrac%7BP%28Y%3Dn-k%29P%28X%3Dk%29%7D%7BP%28T%3Dn%29%7D%5C%20%28T%3DX&plus;Y%2C%5C%20X%3Dk%20%5Crightarrow%20Y%3Dn-k%29%20%5C%5C%20%3D%20%5Cspace%20%5Cdisplaystyle%20%5Cfrac%7Be%5E%7B-%5Clambda%7D%5Clambda%5E%7Bn-k%7D/%28n-k%29%21%20%5Ccdot%20e%5E%7B-%5Clambda%7D%20%5Clambda%5Ek/k%21%7D%7Be%5E%7B-2%5Clambda%7D%282%5Clambda%29%5En/n%21%7D%5C%20%28X%20%5Csim%20Pois%2C%5C%20Y%20%5Csim%20Pois%2C%5C%20sum%5C%20of%5C%20two%5C%20indep.%5C%20Pois%5C%20is%5C%20Pois%29%20%5C%5C%20%3D%20%5Cdisplaystyle%20%7Bn%5Cchoose%20k%7D%5Cfrac%7B1%7D%7B2%5En%7D%20%5Censpace%28%5CRightarrow%20%5Censpace%20X%7CT%20%5Csim%20Bin%28n%2C%20%5Cspace%20%5Cfrac%7B1%7D%7B2%7D%29%29%20%5C%5C%5C%5C%20E%28X%7CT%3Dn%29%20%3D%20n/2%20%5Cquad%20%5CRightarrow%20E%28X%7CT%29%20%3D%20T/2%20%5C%5C%5C%5C%202.%5C%20symmetry%20%5C%5C%20E%28X%7CX&plus;Y%29%3D%20E%28Y%7CX&plus;Y%29%5C%20%28%5Cbecause%20symmetry%28i.i.d.%29%29%20%5C%5C%20E%28X%7CX&plus;Y%29%20&plus;%20E%28Y%7CX&plus;Y%29%20%3D%20E%28X&plus;Y%7CX&plus;Y%29%5C%20%28%5Cbecause%20Linearity%29%20%3D%20X&plus;Y%20%5C%5C%20%5CRightarrow%20%5Censpace%20E%28X%7CT%29%20%3D%20T/2)  \n",
    "  \n",
    "### 전체 기댓값의 법칙 (Iterated Expectation (Adam's Law))    \n",
    "  \n",
    "위에서 E(Y|X)는 확률변수라고 했는데, 이 값의 기댓값은    \n",
    "**E(E(Y|X)) = E(Y)**  \n",
    "이 되며, 전체 확률의 법칙과도 깊은 연관성이 있다.  "
   ]
  }
 ],
 "metadata": {
  "kernelspec": {
   "display_name": "Python 3",
   "language": "python",
   "name": "python3"
  },
  "language_info": {
   "codemirror_mode": {
    "name": "ipython",
    "version": 3
   },
   "file_extension": ".py",
   "mimetype": "text/x-python",
   "name": "python",
   "nbconvert_exporter": "python",
   "pygments_lexer": "ipython3",
   "version": "3.6.3"
  }
 },
 "nbformat": 4,
 "nbformat_minor": 2
}
