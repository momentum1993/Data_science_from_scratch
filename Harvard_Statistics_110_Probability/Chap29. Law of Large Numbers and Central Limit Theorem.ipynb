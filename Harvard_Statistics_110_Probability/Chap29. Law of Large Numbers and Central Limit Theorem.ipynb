{
 "cells": [
  {
   "cell_type": "markdown",
   "metadata": {},
   "source": [
    "# 29강- 큰 수의 법칙과 중심극한정리(Law of Large Numbers and Central Limit Theorem)"
   ]
  },
  {
   "cell_type": "markdown",
   "metadata": {},
   "source": [
    "### 큰 수의 법칙(Law of Large Numbers)  \n",
    "  \n",
    "![](https://latex.codecogs.com/gif.latex?%5C%5C%20When%5C%20X_1%2C...%2CX_n%5C%20be%5C%20i.i.d.%2C%5C%20mean%5C%20%5Cmu%2C%5C%20var%5C%20%5Csigma%5E2%20%2C%5C%20let%5C%20%5Cbar%7BX_n%7D%20%3D%20%5Cfrac%7B1%7D%7Bn%7D%20%5Csum%20%5En%20_%7Bj%3D1%7D%20X_j%5C%20%28sample%5C%20mean%29%20%5C%5C%20%27Strong%27%5C%20LLN%20%3A%20%5C%20%5Cbar%20X_n%20%5Crightarrow%20%5Cmu%5C%20as%5C%20n%20%5Crightarrow%20%5Cinfty%5C%20with%5C%20probability%5C%201.%20%5C%5C%20%5Crightarrow%20sample%5C%20mean%5C%20converge%5C%20to%5C%20true%5C%20mean%20%5C%5C%5C%5C%20ex%29%5C%20X_j%20%5Csim%20Bern%28p%29%2C%5C%20then%5C%20%5Cdfrac%7BX_1&plus;...&plus;X_n%7D%7Bn%7D%20%5Crightarrow%20p%5C%20with%5C%20prob%5C%201.)  \n",
    "강한 큰 수의 법칙 → 표본평균이 실제 모평균에 근사한다  \n",
    "확률변수들이 μ라는 상수로 수렴, 확률 1로 점 수렴한다는 것이다!!\n",
    "앞면 뒷면이 나올 확률이 동일한 동전을 백만번 이상을 던졌을 때, 정확하게 반반 나눠지기는 힘들겠지만, 횟수가 커질 수록 앞면 반 뒷면 반이 나올 것이다.  \n",
    "![](https://latex.codecogs.com/gif.latex?%5C%5C%20%27Weak%27%5C%20LLN%5C%20for%5C%20any%5C%20c%3E0%2C%5C%20P%28%7C%5Cbar%20X_n%20-%20%5Cmu%7C%20%3E%20c%29%20%5Crightarrow%200%20%5Cqquad%20%28n%20%5Crightarrow%20%5Cinfty%29%20%5C%5C%5C%5C%20Proof%29%5C%20P%28%7C%5Cbar%20X_n%20-%20%5Cmu%7C%20%3E%20c%29%20%5Cle%20%5Cdfrac%7BVar%28%5Cbar%20X_n%29%7D%7Bc%5E2%7D%20%3D%20%5Cdfrac%7B1%7D%7Bn%5E2%7D%20%5Ccdot%20n%5Csigma%5E2%20%5Ccdot%20%5Cdfrac%7B1%7D%7Bc%5E2%7D%20%3D%20%5Cdfrac%7B%5Csigma%5E2%7D%7Bnc%5E2%7D%20%5Censpace%20%5Crightarrow%200%20%5Cquad%20%28n%20%5Crightarrow%20%5Cinfty%29)  \n",
    "**위의 식은 확률수렴을 뜻한다**  \n",
    "n이 굉장히 크다면, 표본평균이 표본평균이 실제평균에 수렴할 것이다.  \n",
    "위의 증명은 전 시간에 배웠던 체비셰프 부등식을 통해 쉽게 증명해낼 수 있다.\n",
    "X\\_n의 분산은 1/n이 앞에 있기 때문에 1/n^2가 되며,    \n",
    "독립적이고 같은 분포를 따르고 있으므로 합의 분산은 n \\* Var(X\\_1)이다.  \n",
    "즉 n \\* σ^2 가 되며, 이를 모두 곱해주면    \n",
    "σ^2 / n \\* c^2이며, σ와 c는 상수이고, n → ∞이기 때문에 0으로 수렴한다.      \n",
    "  \n",
    "  \n",
    "  \n",
    "  \n",
    "  "
   ]
  },
  {
   "cell_type": "markdown",
   "metadata": {},
   "source": [
    "### 중심극한정리(Central Limit Theorem)   \n",
    "  \n",
    "위의 약한 큰 수의 법칙의 경우 \n",
    "![](https://latex.codecogs.com/gif.latex?%5C%5C%20%5Cbar%20X_n%20-%20%5Cmu%20%5Crightarrow%200%5C%20with%5C%20prob%5C%201%2C%5C%20but%5C%20we%5C%20don%27t%5C%20know%5C%20distirb.%5C%20of%5C%20%5Cbar%20X_n%20%5C%5C%20How%5C%20to%5C%20get%5C%20Distribution%5C%20of%5C%20%5Cbar%20X_n%20%3F)  \n",
    "이것이 0으로 가고 있는지는 알지만, 이것의 분포나 얼마나 빨리 0으로 가는지에 대해서는 모른다.  \n",
    "  \n",
    "![](https://latex.codecogs.com/gif.latex?%5C%5C%20%5Cdfrac%7B%28%5Cbar%20X_n%20-%20%5Cmu%29%7D%7B%5Csqrt%20n%20%5Csigma%20%7D%20%5Censpace%20%5Crightarrow%20N%280%2C1%29)  \n",
    "**약한 큰 수의 법칙(확률변수 수렴)과는 달리 분포수렴을 뜻한다**  \n",
    "n이 무한으로 갈 때 표준정규분포로 수렴한다.  \n",
    "n이 크면 표본평균은 정규분포를 가지고 있다.    \n",
    "큰 수의 법칙보다 더 좋은 것은 분포와 비율에 대한 더 많은 정보를 담고 있다.  \n",
    "  \n",
    "위의 중심극한정리를 다시 적는 방법이 하나 더 있다. (n의 배수이기 때문에)   \n",
    "![](https://latex.codecogs.com/gif.latex?%5C%5C%20Equivalently%3A%20%5Cfrac%7B%5Csum_%7Bj%3D1%7D%5E%7Bn%7DX_j%20-%20n%5Cmu%7D%7B%5Csqrt%7Bn%7D%5Csigma%7D%20%5Crightarrow%20N%280%2C1%29%5C%20in%5C%20distribution)  \n",
    "X_j의 합에 n\\*μ를 빼준다. → 평균이 0이 된다.    \n",
    "그리고 표준편차 sqrt(n)\\*σ로 나눠준다. 즉, 표준화 해준 것.   \n",
    "이것은 표준정규분포를 따른다.  \n",
    "  \n",
    "**이 정리는 분산이 존재하는 경우에는 항상 사실이다.**  \n",
    "  \n",
    "일단 적률생성함수가 있다고 가정하고 증명해보자.  \n",
    "적률생성함수가 있다면 수렴한다고 보여줘야 한다.  \n",
    "만약 적률생성함수가 다른 적률생성함수로 수렴할 때, 분포에서 확률변수가 수렴하게 된다.   \n",
    "![](https://latex.codecogs.com/gif.latex?%5C%5C%20Proof%29%20%5C%5CMGF%5C%20of%5C%20X_j%3D%5C%20M%28t%29%5C%20%28%20%5Cmu%20%3D%200%2C%5C%20%5Csigma%20%3D1%29%5C%20and%5C%20S_n%20%3D%20%5Csum%20%5En%20_%7Bj%3D1%7DX_j%2C%20%5C%5C%20E%28e%5E%7Bt%20S_n/%5Csqrt%20n%7D%29%20%3D%20E%28e%5E%7BtX_1/%5Csqrt%20n%7D%29%5Ccdots%20E%28e%5E%7BtX_n/%5Csqrt%20n%7D%29%20%3D%20%5C%7B%20M%28%5Cdfrac%7Bt%7D%7B%5Csqrt%20n%7D%29%5C%7D%5En%20%5C%5C%20lim%20_%7Bn%20%5Crightarrow%20%5Cinfty%7D%20n%20logM%28%5Cdfrac%7Bt%7D%7B%5Csqrt%20n%7D%29%20%5C%5C%3D%20lim%20_%7Bn%20%5Crightarrow%20%5Cinfty%7D%20%5Cdfrac%7BlogM%28t/%5Csqrt%20n%29%7D%7B1/n%7D%20%5Crightarrow%20to%5C%20make%5C%20form%5C%20of%5C%20%5Cfrac%20%7B0%7D%7B0%7D%20%5C%5C%3D%20lim%20_%7By%20%5Crightarrow%200%7D%20%5Cdfrac%7BlogM%28yt%29%7D%7By%5E2%7D%5C%20%28%5Cbecause%20Let%5C%20y%20%3D%20%5Cfrac%7Bt%7D%7B%5Csqrt%7Bn%20%7D%7D%2C%5C%20y%20%5Cin%20%5Cmathbb%7BR%7D%29%20%5C%5C%3D%20lim%20_%7By%20%5Crightarrow%200%7D%20%5Cdfrac%7BtM%5E%7B%5Cprime%7D%28yt%29%20%7D%7B2y%5Ccdot%20M%28yt%29%7D%5C%20%28%5Cbecause%20L%27Hopital%27s%5C%20rule%29%20%5C%5C%3D%20%5Cdfrac%7Bt%7D%7B2%7D%20lim%20_%7By%20%5Crightarrow%200%7D%20%5Cdfrac%7BM%5E%7B%5Cprime%7D%28yt%29%7D%7By%7D%20%5C%5C%3D%20%5Cdfrac%7Bt%5E2%7D%7B2%7D%20lim%20_%7By%20%5Crightarrow%200%7D%20M%5E%7B%5Cprime%20%5Cprime%7D%28yt%29%5C%20%28%5Cbecause%20L%27Hopital%27s%5C%20rule%29%20%5C%5C%3D%20%5Cdfrac%7Bt%5E2%7D%7B2%7D%20%5C%5C%20%5Censpace%20%5Crightarrow%20log%28e%5E%7Bt%5E2/2%7D%29%20%5Censpace%20%5CRightarrow%20MGF%5C%20of%5C%20N%280%2C1%29%20%5C%5C%20%5Ctherefore%20%5Cspace%20%5Cdfrac%7BS_n%7D%7B%5Csqrt%20n%7D%20%5Censpace%20%5Crightarrow%20N%280%2C1%29)  \n",
    "표준화 후 표준정규분포 적률생성함수에 대해서 보이는 증명이다.  \n",
    "S_n은 합일 뿐이고, 독립성을 가정한다. 따라서 무상관이다.  \n",
    "기댓값에 대해서 X들이 i.i.d이기 때문에 같은 기댓값을 n번 적는 것과 같은 것이다.     \n",
    "그리고  t/sqrt(n)에 대한 적률함수의 n제곱이 된다.   \n",
    "  \n",
    "![](https://latex.codecogs.com/gif.latex?%5C%5C%20M%28t%29%20%3D%20E%28e%5E%7BtX_1%7D%29%20%5Crightarrow%20M%280%29%20%3D%201%20%5C%20%5C%20%5C%20M%27%280%29%20%3D%200%20%5C%20%5C%20%5C%20M%27%27%280%29%20%3D%201)  \n",
    "  \n",
    "그리고 n이 무한으로 가면 M(0)이 되며, e의 0제곱은 1이 되기 때문에 M(0) = 1이며,  \n",
    "이는 1의 무한 제곱이므로 부정형이다.  \n",
    "때문에 로그를 취하고 미분을 취할 수 있게 y = 1/sqrt(n)으로 바꿔서 로피탈을 이용한다.  \n",
    "   \n",
    "---  \n",
    "  \n",
    "ex) 정규분포의 이항분포에의 근사(Normal Approximation to Binomial)  \n",
    "X에 대해서 정규화해서 근사치를 구한다.  \n",
    "![](https://latex.codecogs.com/gif.latex?%5C%5C%20Let%5C%20X%20%5Csim%20Bin%28n%2Cp%29%2C%20%5Cquad%20X%20%3D%20%5Cdisplaystyle%20%5Csum%20%5En%20_%7Bj%3D1%7D%20X_j%2C%20%5Censpace%20X_j%20%5Csim%20%5E%7Biid%7D%20Bern%28p%29%2C%20%5C%5C%5C%5C%20P%28a%20%5Cle%20X%20%5Cle%20b%29%20%3D%20P%28%5Cdfrac%7Ba-np%7D%7B%5Csqrt%7Bnpq%7D%7D%20%5Cle%20%5Cdfrac%7BX-np%7D%7B%5Csqrt%7Bnpq%7D%7D%20%5Cle%20%5Cdfrac%7Bb-np%7D%7B%5Csqrt%7Bnpq%7D%7D%29%20%5C%5C%20%5Capprox%20%5Censpace%20%5CPhi%28%5Cdfrac%7Bb-np%7D%7B%5Csqrt%7Bnpq%7D%7D%29%20-%20%5CPhi%28%5Cdfrac%7Ba-np%7D%7B%5Csqrt%7Bnpq%7D%7D%29)  \n",
    "이는 정규근사이다.  \n",
    "  \n",
    "포아송 근사와 비교해보면,    \n",
    "n이 무한으로 갈 때, p는 0으로 가고 np가 고정이라면, 이항분포는 포아송 분포로 수렴 된다.    \n",
    "포아송 근사 → n이 크고, p는 매우 작음, λ = np (포아송 분포는 거의 희박한 사건 확률을 가진 것에 대한 근사를 하기에 좋음)\n",
    "정규 근사 → n이 크고, p가 1/2에 가깝기를 원한다.(대칭성 때문에)  \n",
    "  \n",
    "p가 매우 작다 하더라도 중심극한정리가 성립하지 않는 것은 아니지만,  \n",
    "효율적인 측면에서 p가 작을 경우 포아송 근사를 하는 것이 좋을 것이다.  \n",
    "\n",
    "P(a ≤ X ≤ b)에서 등호가 빠진다면 값이 바꿜 것이지만, 정규 근사에 있어서는 등호의 포함여부를 상관하지 않는다.  \n",
    "  \n",
    "원래 정규근사라면 연속이기 때문에 P(X=a) = 0이라고 생각할 것이다.  \n",
    "하지만 이는 유용하지 않다.  \n",
    "그래서 연속적인 수정이(Continually correction)라는 것이 있다. \n",
    "![](https://latex.codecogs.com/gif.latex?%5C%5C%20P%28X%3Da%29%20%3D%20P%28a-%5Cfrac%7B1%7D%7B2%7D%20%3C%20X%20%3C%20a%20&plus;%20%5Cfrac%7B1%7D%7B2%7D%29%20%5Censpace%20%28a%5C%20is%5C%20integer%29)  \n",
    "그래서 0으로 주는 것 보단 사용할 구간을 주었다. 그래서 근사의 정확성을 높여준다.  \n"
   ]
  }
 ],
 "metadata": {
  "kernelspec": {
   "display_name": "Python 3",
   "language": "python",
   "name": "python3"
  },
  "language_info": {
   "codemirror_mode": {
    "name": "ipython",
    "version": 3
   },
   "file_extension": ".py",
   "mimetype": "text/x-python",
   "name": "python",
   "nbconvert_exporter": "python",
   "pygments_lexer": "ipython3",
   "version": "3.6.3"
  }
 },
 "nbformat": 4,
 "nbformat_minor": 2
}
