{
 "cells": [
  {
   "cell_type": "markdown",
   "metadata": {},
   "source": [
    "# 25강- 순서통계량과 조건부 기댓값(Order Statistics and Conditional Expectations) "
   ]
  },
  {
   "cell_type": "markdown",
   "metadata": {},
   "source": [
    "### 베타분포와 감마분포의 관계  \n",
    "  \n",
    "#### Bank-Post office example  \n",
    "  \n",
    "은행 대기시간을 X∼Γ(a,λ), 우체국 대기시간을 Y∼Γ(b,λ) 이라고 했을 때, \n",
    "( X, Y는 서로 독립)  \n",
    "\n",
    "→ 두 곳에서의 총 대기시간:  T=X+Y∼Γ(a+b, λ)  \n",
    "  \n",
    "→ 총 대기시간에서 은행 대기시간이 차지한 비율:  W = X / X + Y  (λ=1 로 가정)  \n",
    "  \n",
    "이 T = X + Y, W = X / X + Y에 대한 결합분포를 한번 알아보자.  \n",
    "일단 λ=1로 둬서 간단히 표기하도록 해보자.  \n",
    "그래서 Γ(a,1)에서 Γ(a,λ)를 유추하도록 하자(그저 λ를 나눠주기만 하면 된다.)  \n",
    "만약 Γ(a,λ)로 계산하고 싶다면 λX + λY로 감마를 곱해서 식을 전개하면 된다.   \n",
    "  \n",
    "먼저 결합 확률밀도함수(joint PDF)를 구해보자.  \n",
    "  \n",
    "![](https://latex.codecogs.com/gif.latex?%5C%5C%20f_%7BT%2CW%7D%28t%2Cw%29%20%5C%5C%20%3D%20f_%7BX%2CY%7D%28x%2Cy%29%20%5Cdisplaystyle%20%7C%5Cfrac%7Bd%28x%2Cy%29%7D%7Bd%28t%2Cw%29%7D%7C%20%5C%5C%20%3D%5Cspace%20%5Cdisplaystyle%20%5Cfrac%7B1%7D%7B%5CGamma%28a%29%5CGamma%28b%29%7Dx%5Ea%20e%5E%7B-x%7Dy%20%5Eb%20e%5E%7B-y%7D%20%5Cfrac%7B1%7D%7Bxy%7D%20%7CJ%7C%20%28%5Cbecause%20joint%5C%20PDF%5C%20of%5C%20X%2CY%20%3D%20PDF%5C%20of%5C%20X%20%5Ctimes%20PDF%5C%20of%5C%20Y%28X%2CY%5C%20is%5C%20indep.%29%29%20%5C%5C%20x&plus;y%20%3D%20t%20%5Cqquad%20%5Cdisplaystyle%20%5Cfrac%7Bx%7D%7Bx&plus;y%7D%20%3D%20w%20%5C%5C%20x%20%3D%20tw%20%5Cqquad%20y%3D%20t-tw%20%5C%5C%5C%5C%20J%28%3DJacobian%29%20%3D%20%5Cbegin%7Bvmatrix%7D%20w%20%26%20t%5C%5C%201-w%20%26%20t%20%5Cend%7Bvmatrix%7D%20%3D%20-wt%20-%20t%20&plus;%20tw%20%3D%20-t%20%5C%5C%20%7CJ%7C%20%3D%20t%20%5C%5C%5C%5C%20%3D%20%5Cspace%20%5Cdisplaystyle%20%5Cfrac%7B1%7D%7B%5CGamma%28a%29%5CGamma%28b%29%7Dw%5E%7Ba-1%7D%20%281-w%29%5E%7Bb-1%7Dt%5E%7Ba&plus;b%7De%5E%7B-t%7D%5Cdisplaystyle%20%5Ccdot%20%5Cfrac%7B1%7D%7Bt%7D%20%5C%5C%20%5CRightarrow%20w%27s%20function%5C%20%5Ctimes%5C%20t%27s%20function%20%5Crightarrow%20W%2C%20%5Cspace%20T%5C%20is%5C%20independent)  \n",
    "우리는 이것이 Γ(a+b, λ)인 것을 확인했고, 보이지 않는 정규화 상수를 어떻게 구할 수 있을까?  \n",
    "  \n",
    "답은  1 / Γ(a+b) 의 형태를 그냥 두는 것 (Γ(a+b) / Γ(a+b) = 1 이라서 그냥 곱해줌)\n",
    "  \n",
    "![](https://latex.codecogs.com/gif.latex?%5C%5C%20%3D%20%5Cspace%20%5Cdisplaystyle%20%5Cfrac%7B%5CGamma%28a&plus;b%29%7D%7B%5CGamma%28a%29%5CGamma%28b%29%7D%20w%5E%7Ba-1%7D%281-w%29%5E%7Bb-1%7D%20%5Cfrac%7B1%7D%7B%5CGamma%28a&plus;b%29%7D%20t%5E%7Ba&plus;b%7D%20e%5E%7B-t%7D%20%5Cfrac%7B1%7D%7Bt%7D%20%5C%5C%20%5C%5C%5C%5C%20%5Cfrac%7B%5CGamma%28a&plus;b%29%7D%7B%5CGamma%28a%29%5CGamma%28b%29%7D%20w%5E%7Ba-1%7D%281-w%29%5E%7Bb-1%7D%20%3D%20function%5C%20of%5C%20w%20%5C%5C%20%5Cfrac%7B1%7D%7B%5CGamma%28a&plus;b%29%7D%20t%5E%7Ba&plus;b%7D%20e%5E%7B-t%7D%20%5Cfrac%7B1%7D%7Bt%7D%5C%20%3D%5C%20PDF%5C%20of%5C%20%5CGamma%28a&plus;b%2C%201%29)  \n",
    "  \n",
    "이를 통해 우선 독립이고, 주변분포의 확률밀도함수를 찾았다.  \n",
    "  \n",
    "이를 이용해서 w의 주변 확률밀도함수를 구해보자.  \n",
    "  \n",
    "![](https://latex.codecogs.com/gif.latex?%5C%5C%20f_W%28w%29%20%3D%20%5Cdisplaystyle%20%5Cint%20%5E%5Cinfty%20_%7B-%5Cinfty%7D%20f_%7BT%2C%20W%7D%28t%2Cw%29dt%20%3D%20%5Cfrac%7B%5CGamma%28a&plus;b%29%7D%7B%5CGamma%28a%29%5CGamma%28b%29%7D%20w%5Ea%281-w%29%5E%7Bb-1%7D%20%5C%5C%5C%5C%20%5Cfrac%7B%5CGamma%28a&plus;b%29%7D%7B%5CGamma%28a%29%5CGamma%28b%29%7D%20%3D%20normalize%5C%20constant%5C%20about%5C%20Beta%20%5C%5C%20w%5Ea%281-w%29%5E%7Bb-1%7D%20%3D%20Beta%28a%2C%20b%29%20%5C%5C%5C%5C%20%5CRightarrow%20T%20%5Csim%20Gamma%28a&plus;b%2C%5Cspace%201%29%2C%20%5Cquad%20W%5Csim%20Beta%28a%2C%20%5Cspace%20b%29)  \n",
    "  \n",
    "위에서 w의 주변 확률밀도함수는 t에 대해서 적분을 해줘야하는데\n",
    "w에 대한 함수는 상수로 빼고, Γ(a+b, 1)의 적분값은 1이기 때문에 위의 값이 나온다. \n",
    "  \n",
    "이를 통해 베타분포의 정규화상수를 알 수 있었다.  \n",
    "그리고 T ~ Γ(a+b , 1)임을 알 수 있었다.  \n",
    "\n",
    "---  \n",
    "  \n",
    "ex) E(W) 구하기 ( W = X / X + Y )  \n",
    "  \n",
    "방법 1. LOTUS (Definition)  \n",
    "\n",
    "방법 2. \n",
    "\n",
    "일반적으로 E(X / X+Y)E(X+Y) = E(X)는 성립하지 않지만, 여기서는 성립한다.  \n",
    "![](https://latex.codecogs.com/gif.latex?%5C%5C%20%5Cdisplaystyle%20E%28%5Cfrac%7BX%7D%7BX&plus;Y%7D%29%20%3D%20%5Cfrac%7BE%28X%29%7D%7BE%28X&plus;Y%29%7D%28about%5C%20T%2C%5C%20W%29%20%5C%5C%20T%20%3D%20X&plus;Y%2C%20%5Cquad%20W%20%3D%20%5Cspace%20%5Cdisplaystyle%20%5Cfrac%7BX%7D%7BX&plus;Y%7D%5C%20are%5C%20independent.%20%5CRightarrow%20uncorrelated%20%5C%5C%20E%28%5Cfrac%7BX%7D%7BX&plus;Y%7D%29%20E%28X&plus;Y%29%20%3D%20E%28X%29%20%5C%5C%5C%5C%20%5Ctherefore%20%5Cdisplaystyle%20E%28%5Cfrac%7BX%7D%7BX&plus;Y%7D%29%20%3D%20%5Cfrac%7Ba%7D%7Ba&plus;b%7D)  \n",
    "Γ(a, 1)의 기댓값은 a이고, 선형성이나 Γ(a+b, 1)를 이용하면 구할 수 있다.  "
   ]
  },
  {
   "cell_type": "markdown",
   "metadata": {},
   "source": [
    "### 순서통계량 (Order Statistics)  \n",
    "  \n",
    "정의)  \n",
    "![](https://latex.codecogs.com/gif.latex?%5C%5C%20Let%5C%20X_1%2C...%2CX_n%5C%20be%5C%20i.i.d.%2C%20%5C%5C%20Order%5C%20Statistics%5C%20are%5C%20X_%7B%281%29%7D%20%5Cle%20X_%7B%282%29%7D%20%5Cle%20%5Ccdots%5Cle%20X_%7B%28n%29%7D%20%5C%5C%20X_%7B%281%29%7D%20%3D%20min%28X_1%2C%20...%2C%20X_n%29%2C%20%5Censpace%20X_%7B%28n%29%7D%20%3D%20max%28X_1%2C%20...%2C%20X_n%29%29)  \n",
    "→ n이 홀수이면 중간값(median)은 X( n+1 / 2 )이며, quantile(4분위값, ex) 25%, 75%)도 구할 수 있다.  \n",
    "중요한 것은 이렇게 중간의 값을 구할 수 있다는 것이다.  \n",
    "  \n",
    "특성)   \n",
    "- 서로 독립이 아니다(=종속적이다). (최대값이 최솟값보다 크다)\n",
    "- 이산확률변수의 경우, 동일한 값의 경우(tie) 순서를 매기기 어려워진다.   \n",
    "  \n",
    "그래서 연속확률변수에 대해 순서통계량의 분포(PDF)를 유도해보자.    \n",
    "  \n",
    "X\\_(j)주변 확률밀도함수를 구해보자.  \n",
    "방법 1)    \n",
    "![](https://latex.codecogs.com/gif.latex?%5C%5C%20Let%5C%20X_1%2C...%2CX_n%5C%20be%5C%20i.i.d.%2C%5C%20with%5C%20PDF%5C%20f%2C%5C%20CDF%5C%20F%2C%20%5C%5C%20Find%5C%20the%5C%20CDF%5C%20and%5C%20PDF%5C%20of%5C%20X_%7B%28j%29%7D%20%5C%5C%5C%5C%20CDF%5C%20of%5C%20X_%7B%28j%29%7D%20%3A%5C%20P%28X_%7B%28j%29%7D%20%5Cle%20x%29%20%3D%20P%28at%5C%20least%2C%5C%20j%5C%20of%5C%20X_i%27s%5C%20%5Cle%20x%29%20%5C%5C%5C%5C%20%3D%20%5Cdisplaystyle%20%5Csum%20%5En%20_%7Bk%3D%20j%7D%20%7Bn%20%5Cchoose%20k%7D%20F%28x%29%5Ek%20%281-F%28x%29%20%29%5E%7Bn-k%7D%5C%20%28%5Cbecause%20binomial%5C%20distribution%29%20%u200B%u200B)  \n",
    "위에서 구한 CDF를 미분하여 PDF(확률밀도함수)를 구할 수 있다.  \n",
    "  \n",
    "방법 2)\n",
    "![](https://cphinf.pstatic.net/mooc/20180909_265/1536475724181zUS6U_PNG/25-3.PNG)  \n",
    "![](https://latex.codecogs.com/gif.latex?%5C%5C%20PDF%3A%20%5C%5C%20f_%7BX_%7B%28j%29%7D%7D%28x%29dx%20%3D%20%5Cspace%20%5Cdisplaystyle%20n%7B%7Bn-1%7D%5Cchoose%20%7Bj-1%7D%7D%20%28f%28x%29dx%29%20F%28x%29%5E%7Bj-1%7D%20%281-F%28x%29%29%5E%7Bn-j%7D%20%5C%5C%5C%5C%20f_%7BX_%7B%28j%29%7D%7D%28x%29dx%20%3D%20%5Cspace%20%5Cdisplaystyle%20n%7B%7Bn-1%7D%5Cchoose%20%7Bj-1%7D%7D%20F%28x%29%5E%7Bj-1%7D%20%281-F%28x%29%29%5E%7Bn-j%7Df%28x%29)  \n",
    "어떤 변수가 구간에 들어갈지 n가지 경우가 있고 그러할 확률이 f(x)dx와 같다.    \n",
    "그렇다면 n-1개가 남고, n-1개 중에 j-1개가 왼쪽 구간에 있어야 하며, 하나는 아주 작은 구간 내에 있으며, 나머지 n-j개는 오른쪽에 있다.  \n",
    "  \n",
    "---  \n",
    "  \n",
    "ex) 균등분포를 가지는\n",
    "![](https://latex.codecogs.com/gif.latex?%5C%5C%20Let%5C%20U_1%2C%20...%2C%20U_n%20%5Csim%5E%7Biid%7D%20Unif%280%2C1%29%2C%20%5C%5C%20f_%7BU_%7B%28j%29%7D%7D%28x%29%20%3D%20%5Cspace%20%5Cdisplaystyle%20n%20%7B%7Bn-1%7D%5Cchoose%7Bj-1%7D%7Dx%5E%7Bj-1%7D%281-x%29%5E%7Bn-j%7D%2C%5C%20for%5C%200%20%3C%20x%20%3C%201%20%5C%5C%5C%5C%20%5CRightarrow%20U_%7B%28j%29%7D%20%5Csim%20Beta%28j%2C%20%5Cspace%20n-j&plus;1%29)  \n",
    "x^{j−1}(1−x)^{n−j}가 베타분포를 따른다는 것을 알아야한다!  \n",
    "\n",
    "이를 통해서 예전에 구했던 두 균등분포의 차이에 대한 기댓값을 다르게 풀 수 있다.  \n",
    "(2차원 LOTUS 대신 베타분포의 차이 이용)  \n",
    "![](https://latex.codecogs.com/gif.latex?%5C%5C%20E%7Cu_1%20-%20u_2%7C%20%3D%20E%28max%29%20-%20E%28min%29%20%3D%20Beta%282%2C1%29%20-%20Beta%281%2C2%29%20%3D%20%5Cfrac%7B2%7D%7B3%7D%20-%20%5Cfrac%7B1%7D%7B3%7D%20%3D%20%5Cfrac%7B1%7D%7B3%7D)  \n",
    "독립은 아니지만 선형성은 유지한다.  "
   ]
  }
 ],
 "metadata": {
  "kernelspec": {
   "display_name": "Python 3",
   "language": "python",
   "name": "python3"
  },
  "language_info": {
   "codemirror_mode": {
    "name": "ipython",
    "version": 3
   },
   "file_extension": ".py",
   "mimetype": "text/x-python",
   "name": "python",
   "nbconvert_exporter": "python",
   "pygments_lexer": "ipython3",
   "version": "3.6.3"
  }
 },
 "nbformat": 4,
 "nbformat_minor": 2
}
