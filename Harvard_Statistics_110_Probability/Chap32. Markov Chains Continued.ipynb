{
 "cells": [
  {
   "cell_type": "markdown",
   "metadata": {},
   "source": [
    "# 32강- 마코프 체인\\_2(Markov Chains Cont..) "
   ]
  },
  {
   "cell_type": "markdown",
   "metadata": {},
   "source": [
    "### 마코프 체인(Markov Chains)  \n",
    "  \n",
    "- 마코프 체인은 어떤 상태에서든 유한한 단계를 거쳐 다른 상태로 가는 것이 가능(확률 > 0)할 때 irreducible(가약)하다고 한다.  \n",
    " (→ 'from anywhere to anywhere')   \n",
    " \n",
    "  \n",
    "- 어떤 상태에서 시작해서 그 상태로 (언젠가) 돌아오는 확률이 1일 때, 그 상태를 재귀 상태(recurrent state)라고 한다.  \n",
    " 즉, 어떤 상태에서 시작한 모든 경로들이 유한한 단계를 거쳐서 어떤 상태로 돌아올 수 있는 경로를 지니고 있다면, recurrent하다.  \n",
    " (↔ 반대 개념은 일시(과도)적 상태, transient state)    \n",
    "  \n",
    "  \n",
    "- 상태의 수가 유한한 irreducible한 마코프 체인은 모든 상태가 재귀적이다.  \n",
    "  \n",
    "![](https://github.com/momentum1993/Data_science_from_scratch/blob/master/Harvard_Statistics_110_Probability/chap32-1.png)  \n",
    "  \n",
    "(1)은 irreducible 하며, 유한한 상태가 있기 때문에 각 상태는 재귀적(recurrent)할 것이다.  \n",
    "  \n",
    "(2)는 reducible 하지만, 1-2-3과 4-5-6 각각을 irreducible 한 체인으로 쪼개서 볼 수 있다.   \n",
    "  \n",
    "또한 만약 1-2-3과 4-5-6을 잇는 모서리를 만들어서, 1-2-3을 돌다 4-5-6으로 넘어가버리는 체인을 만든다면, 각 상태는 과도적(transient)이 된다(원래 시작했던 상태로 돌아갈 수 없으므로)  \n",
    "  \n",
    "(3)에서는 0이나 3으로 가 버리면 영원히 그 상태에 머물게 되므로, 0과 3을 흡수상태(absorbing state)라고 하며 (1과 2는 재귀상태), 이 체인은 도박꾼의 파산문제(Gambler's Ruin)를 마코프 체인 형태로 표현한 것과 같다.  \n",
    "  \n",
    "(4)는 반복적인(repetitive) 마코프 체인이라고 부른다.  \n",
    "모든 상태가 재귀적이지만 어떤 주기성을 가지므로, 주기적 연쇄(periodic chain)라고도 한다.  "
   ]
  },
  {
   "cell_type": "markdown",
   "metadata": {},
   "source": [
    "### Stationarity\n",
    "\n",
    "정의)  \n",
    "![](https://latex.codecogs.com/gif.latex?%5C%5C%5Cvec%20s%5C%20%28prob%5C%20vector%5C%201%5Ctimes%20M%29%5C%20is%5C%20stationary%5C%20for%5C%20the%5C%20chain%20%5C%5Cif%5C%20%5Cvec%20s%20Q%20%3D%20%5Cvec%20s%20%5Cquad%20%28%5Cvec%20s%5C%20is%5C%201%20%5Ctimes%20M%2C%5C%20Q%5C%20is%5C%20M%5Ctimes%20M%29%20%5C%5C%5C%5C%20%28%5Cstar%20%5C%20eigen%5C%20value%2C%5C%20eigen%5C%20vector%29)  \n",
    "  \n",
    "정리)  \n",
    "reducible 하고 (유한한 갯수의 재귀적 사태를 가진) 마코프 체인은  \n",
    "1. 고정적인 상태 벡터 s(= 정상분포, stationary distribution)가 항상 존재한다.  \n",
    " 그래서 위의 정의(선형적 시스템)을 풀 수 있고, 벡터가 모두 양수 또는 모두 음수로 구성되어있다면, S를 항상 정규화시킬 수 있고, 모든 성분이 음이 아닌 수가 되어 더하면 1이 될 것이다.  \n",
    "    \n",
    "2. 고정적 상태 벡터 s는 유일하게 존재함(unique)  \n",
    " → 정상분포가 유일하게 존재 (수많은 상태가 있더라도)  \n",
    "   \n",
    "3. ![](https://latex.codecogs.com/gif.latex?%5C%5C%20s_i%20%3D%20%5Cfrac%20%7B1%7D%7Br_i%7D)  \n",
    " (r\\_i는  i에서 시작했을 때, i로 돌아가는 데까지 걸리는 평균 시간(몇 단계가 걸리는지)이다. 즉, 기댓값)  \n",
    " s\\_i는 장기간 진행 과정 중에 i에 거주하는 시간의 비율이며,  \n",
    " 이 값이 1/10일 경우에 i에서 시작해서 다시 돌아갈 때까지 평균 10단계가 걸린다는 것이다.  \n",
    "   \n",
    "4. 어떤 m 값에 대하여  Q^m의 구성 성분이 모두 양의 값을 가질 때,    \n",
    "   ![](https://latex.codecogs.com/gif.latex?%5C%5C%20P%28X_n%3D%20i%29%20%5Crightarrow%20s_i%5C%20as%5C%20n%20%5Crightarrow%20%5Cinfty%20%5C%5C%5C%5C%20%5CLeftrightarrow%20For%5C%20any%5C%20vector%5C%20%5Cvec%20t%2C%5C%20%5C%20%5C%20%5C%20%5Cvec%20t%20Q%5En%20%5Crightarrow%20%5Cvec%20s%5C%20as%5C%20n%5Crightarrow%20%5Cinfty%5C%20%28about%5C%20equation%5C%20of%5C%20matrix%29)  \n",
    "   위의 3가지 정리들은 '기약'(irreducible)만 가정하면 되지만, 이번 정리는 주기성(주기적 연쇄(periodic chain)) 문제가 없는 경우를 가정해야 하는데, 이러한 주기성 문제를 제거하는 방법 중 간단한 방법은 0을 원소로 갖지 않는 행렬이 되는 하나의 m만 찾으면 된다.  \n",
    "      \n",
    " 또한 이 경우는 수렴성을 가진다.     \n",
    " 임의의 분포를 따라서 임의의 상태를 선택한 뒤에 그 상태를 시작으로 결정하고, 초기조건으로 두기만 하면, 초기 조건이 무엇이든 n이 무한대로 갈 때, PMF로 표현되는 분포는 정상분포 s로 수렴하게 된다.   \n",
    "  \n",
    "  \n",
    "  \n",
    "  \n",
    "  \n",
    "  \n",
    "  \n",
    "  \n",
    "  \n",
    "  "
   ]
  },
  {
   "cell_type": "markdown",
   "metadata": {},
   "source": [
    "### 가역 마코프 체인(Reversible Markov Chain)  \n",
    "  \n",
    "정의)    \n",
    "![](https://latex.codecogs.com/gif.latex?%5C%5C%20Markov%5C%20chain%5C%20with%5C%20transition%5C%20matrix%5C%20Q%20%3D%20%28%5C%20q_%7Bij%7D%5C%20%29%5C%20is%5C%20reversible%20%5C%5C%20if%5C%20there%5C%20is%5C%20a%5C%20prob.%5C%20vector%5C%20%5Cvec%7Bs%7D%5C%20such%5C%20that%20%5C%5C%5Cmathbf%7Bs_iq_%7Bij%7D%20%3D%20s_jq_%7Bji%7D%7D%5C%20for%5C%20all%5C%20states%5C%20i%2Cj)  \n",
    "  \n",
    "마르코프 체인에서 n개의 상태를 가지지만 n을 모르는 경우처럼 이것은 공간의 크기를 정확히 모르는 경우에도 등식을 풀 수 있다.    \n",
    "  \n",
    "정리)    \n",
    " 벡터 s에 대하여 가역적(reversible)일 때, 벡터 s는 고정적(stationary)이다.   \n",
    "  \n",
    "'가역'이라는 말은 예를 들어 녹화된 비디오를 뒤로 감기를 하거나, 정상적으로 재생하는 것을 비교했을 때, 똑같은 과정으로 보이는 것을 뜻한다.  \n",
    "  \n",
    "그렇다면 가역적일 때, s가 정상 분포를 따른다는 것을 증명해보자.   \n",
    "  \n",
    "증명)    \n",
    "![](https://latex.codecogs.com/gif.latex?%5C%5C%20Let%5Censpace%20s_i%20q_%7Bij%7D%20%3D%20s_jq_%7Bji%7D%5C%20for%5C%20all%5C%20i%2C%20j%2C%20%5C%5C%20%5Cdisplaystyle%20%5Csum%20_i%20s_i%20q_%7Bij%7D%20%3D%20%5Csum%20_i%20s_j%20q_%7Bji%7D%20%3D%20s_j%20%5Csum%20_i%20q_%7Bji%7D%20%3D%20s_j%5C%20%28%5Cbecause%20%5Csum%20_i%20q_%7Bji%7D%20%3D%201%20%5Cleftarrow%20each%5C%20sum%5C%20of%5C%20row%20%3D%201%29%20%5C%5C%5C%5C%20%5Ctherefore%5C%20%5Cvec%20s%20Q%20%3D%20%28s_1%2Cs_2%2C...%2Cs_m%29Q%20%3D%20%5Cvec%20s)  \n",
    "  \n",
    "---  \n",
    "  \n",
    "ex) 무방향 네트워크(undirected network)에서의 random walk  \n",
    "![](https://cphinf.pstatic.net/mooc/20180912_87/1536686566821O6aXk_PNG/32-3.PNG)  \n",
    "![](https://latex.codecogs.com/gif.latex?%5C%5C%20Let%5Censpace%20d_i%5C%20be%5C%20%5Cmathbf%7Bdegree%7D%5C%20of%5C%20i%5C%20%5Cbegin%7Bbmatrix%7D%20d_1%20%3D%202%2C%5Censpace%20d_2%20%3D%202%20%5C%5C%20d_3%20%3D%203%2C%5Censpace%20d_4%20%3D%201%20%5Cend%7Bbmatrix%7D%20%5C%5C%20Then%5C%20%5Cmathbf%7Bd_iq_%7Bij%7D%20%3D%20d_jq_%7Bji%7D%7D%5C%20for%5C%20all%5C%20i%2C%5C%20j.%20%5C%5C%5C%5C%20proof%29%5C%5C%20Let%5C%20i%20%5Cneq%20j.%5Censpace%20q_%7Bij%7D%2C%5C%20q_%7Bji%7D%5C%20are%5C%20both%5C%200%2C%5C%20or%5C%20both%5C%20not%5C%200%5C%20%28%5Cbecause%5C%20undirected%29%20%5C%5C%20If%5C%20%5C%7Bi%2Cj%5C%7D%5C%20is%5C%20on%5C%20edge%5C%20then%5C%20q_%7Bij%7D%3D%5Cfrac%7B1%7D%7Bd_i%7D.%20%5C%5C%20%5Crightarrow%20if%5C%20q_%7Bij%7D%20%5Cneq%200%2C%20%5C%5Cd_iq_%7Bij%7D%20%3D%20d_jq_%7Bji%7D%20%5Crightarrow%20d_i%5Cfrac%7B1%7D%7Bd_i%7D%20%3D%20d_j%5Cfrac%7B1%7D%7Bd_j%7D%20%5Crightarrow%201%20%3D%201%20%5C%5C%5C%5C%5C%5C%20So%5C%20with%5C%20%5Cmathbf%7BM%7D%5C%20nodes%5C%201%2C2%2C...%2CM%2C%20%5C%5C%20degree%5C%20about%5C%20ith%5C%20node%5C%20is%5C%20d_i%5C%5C%20then%5C%20%5Cvec%20s%5C%20with%5C%20s_i%20%3D%20%5Cdfrac%7Bd_i%7D%7B%5Csum%20_j%20d_j%7D%5C%20is%5C%20%5Cmathbf%7Bstationary%7D)  \n",
    "위의 무방향 네트워크 예제의 식을 보면 d\\_i가 음이 아닌 정수라는 부분만 제외하면, 가역 등식과 정확히 같을 꼴이다. 따라서 양변에 적당한 상수를 곱해서 정규화를 시켜줘야한다.  \n",
    "  \n",
    "모든 차수를 취해서 벡터로 만들고, 모든 차수의 합으로 나눠서 모든 성분을 합하여 1이 되도록 만들면, 이 확률벡터는 정상분포를 따른다.    \n",
    "즉, 정상 분포가 차수에 비례한다는 직관적인 결과를 얻을 수 있다.  \n",
    "  "
   ]
  }
 ],
 "metadata": {
  "kernelspec": {
   "display_name": "Python 3",
   "language": "python",
   "name": "python3"
  },
  "language_info": {
   "codemirror_mode": {
    "name": "ipython",
    "version": 3
   },
   "file_extension": ".py",
   "mimetype": "text/x-python",
   "name": "python",
   "nbconvert_exporter": "python",
   "pygments_lexer": "ipython3",
   "version": "3.6.3"
  }
 },
 "nbformat": 4,
 "nbformat_minor": 2
}
