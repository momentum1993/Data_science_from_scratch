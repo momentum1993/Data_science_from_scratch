{
 "cells": [
  {
   "cell_type": "markdown",
   "metadata": {},
   "source": [
    "# 31강- 마코프 체인(Markov Chains) "
   ]
  },
  {
   "cell_type": "markdown",
   "metadata": {},
   "source": [
    "### 마코프 체인(Markov Chains)  \n",
    "  \n",
    "마코프 체인은 확률과정의 예시로 확률변수가 시간에 지남에 따라 발달하는 것을 말한다.  \n",
    "  \n",
    "우리는 여태까지 이 변수들을 독립항등분포라는 가정을 내리고, i.i.d. 일 경우 매번 새로운 독립확률변수로 재설정된다고 보았다.  \n",
    "  \n",
    "하지만 마코프 체인은 확률 과정의 관점에서는 확률변수가 서로 의존성을 갖고 특정한 방식으로 발달한다는 점이 흥미롭다.  \n",
    "그래서 확률변수들을 완전히 독립적이라고 가정한다면 복잡해 질 것이다.    \n",
    "  \n",
    "그래서 특별한 방식으로 독립변수가 될 수 있도록 해준다.  \n",
    "  \n",
    "(→ i.i.d. 가정이 성립하지 않은 경우에는 어떻게 해야 하는가? (LLN 등이 여전히 성립하는가?)  \n",
    "  \n",
    "정의)  \n",
    "X\\_0, X\\_1, X\\_2,... 가 어떤 시간 구간(이산적인 시공간의 개념)에서의 '상태(state)'라고 하였을 때,   \n",
    "![](https://latex.codecogs.com/gif.latex?%5C%5C%20P%28X_%7Bn&plus;1%7D%20%3D%20j%7CX_n%20%3D%20i%2C%20X_%7Bn-1%7D%20%3D%20i_%7Bn-1%7D%2C%20...%2C%20X_0%20%3D%20i_0%29%20%5C%5C%20%3D%20P%28X_%7Bn&plus;1%7D%20%3D%20j%20%7CX_n%20%3D%20i%29%5C%20%5CRightarrow%20conditionally%5C%20independent%20%5C%5C%20%3D%20q_%7Bij%7D%5C%20%5Crightarrow%5C%20Transition%5C%20probability)  \n",
    "**마르코프 성질 : **  \n",
    "**과거와 미래는 현재의 상태가 주어졌을 때 조건부 독립이 성립한다(conditionally independent)**  \n",
    "**→ 과거 모든 시스템의 정보는 무시하고, 가장 최근의 정보만이 유일하게 바로 다음에 일어날 시스템의 정보에 대해 조건부로 관련이 있다는 것!!**  \n",
    "  \n",
    "**그리고 이는 독립을 말하는 것이 아니라 과거,미래, 현재가 주어졌을 때 조건부 독립인 것이다.**    \n",
    "  \n",
    "또한 q_ij를 **전이 확률(Transition probability)**, 때로는 **동질 마르코프 체인**(시점에 따라 확률이 변하지 않음)이라 하며, n에 의존하지 않는다.   \n",
    "  \n",
    "![](https://cphinf.pstatic.net/mooc/20180911_247/1536673831524tMlRj_PNG/31-1.png)  \n",
    "이는 X\\_n의 상태에서 X\\_n+1 상태로 넘어갈 때, 각각의 확률이다.  \n",
    "  \n",
    "우리는 전이 확률 q\\_ij를 알고 있고 이를 행렬로 쓸 수 있다.  \n",
    "![](https://latex.codecogs.com/gif.latex?%5C%5C%20Q%20%3D%20%28%5C%20q_%7Bij%7D%5C%20%29)\n",
    "![](https://cphinf.pstatic.net/mooc/20180911_78/1536675673276FPkbF_PNG/31-3.png)  \n",
    "이를 **전이 행렬**이라고 한다.  \n",
    "그리고 **이 전이 행렬의 모든 행은 합이 1이다.**    \n",
    "  \n",
    "그렇다면 이 전이 행렬을 실질적으로 어떻게 활용할 수 있는지 한번 보자.  \n",
    "i에서 j까지 n 단계를 거쳐서 가는 확률을 어떻게 알 수 있는지와 같은 것들을 알 수 있을 것이다.\n",
    "  \n",
    "![](https://latex.codecogs.com/gif.latex?%5C%5C%20Suppose%5C%20at%5C%20time%5C%20n%2C%5C%20X_n%5C%20has%5C%20distribution%5C%20%5Cvec%20s%5C%20%28row%5C%20vector%2C%5C%201%20%5Ctimes%20M%5C%20Matrix%29%2C%20%5C%5C%20%28M%5C%20is%5C%20number%5C%20of%5C%20states%2C%5C%20%5Cvec%20s%5C%20is%5C%20PMF%5C%20listed%5C%20out%29%20%5C%5C)  \n",
    "시간 n에 s라는 분포를 갖는 체인에서 s라는 분포를 따르는데, 행 벡터이며,  \n",
    "이는 확률질량함수를 취한다.(이산적이며, 유한한 값만이 존재하고 전부 목록으로 쓸 수 있다.).  \n",
    "그래서 s는 확률질량함수라고 할 수 있다.(즉, 벡터의 목록)  \n",
    "상태 1에 있을 확률 등이 리스트로 이어지는 것이다.  \n",
    "그래서 각 원소는 음수가 아니며 합해서 1일 것이다.    \n",
    "  \n",
    "그렇다면 이제 한단계 이후의 n+1시간에 무슨일이 일어나는지, 어떠한 상태 j에 대해 일어날 확률 PMF를 구해보자.   \n",
    "  \n",
    "![](https://latex.codecogs.com/gif.latex?%5C%5C%20P%28X_%7Bn&plus;1%7D%20%3Dj%29%20%5C%5C%20%3D%20%5Cdisplaystyle%20%5Csum%20_i%20P%28X_%7Bn&plus;1%7D%20%3D%20j%20%7C%20X_n%20%3D%20i%29P%28X_n%20%3D%20i%29%5C%20%28%5Cbecause%20L.O.T.P.%29%20%5C%5C%20%3D%20%5Cdisplaystyle%20%5Csum%20_i%20s_i%20q_%7Bij%7D%20%28%20%5Crightarrow%20jth%5C%20entry%5C%20of%5C%20%5Cvec%20sQ%5C%20%28%5Cvec%20s%5C%20is%5C%201%20%5Ctimes%20M%2C%5C%20Q%5C%20is%5C%20M%5Ctimes%20M%29%29%20%5C%5C%20%5C%5C%20So%5C%5C%20%5Cvec%20s%20Q%5C%20is%5C%20distribution%5C%20of%5C%20time%5C%20%28n&plus;1%29%2C%20%5C%5C%20%5Cvec%20s%20Q%5E2%5C%20is%5C%20distribution%5C%20of%5C%20time%5C%20%28n&plus;2%29%2C%20%5C%5C%20%5Cquad%5Ccdots%20%5C%5C%20%5Cvec%20s%20Q%20%5Ek%5C%20is%5C%20distribution%5C%20of%5C%20time%5C%20%28n&plus;k%29%20%5C%5C)  \n",
    "  \n",
    "![](https://latex.codecogs.com/gif.latex?%5C%5C%20one%5C%20step%5C%20ahead%2C%20%5C%5C%20P%28X_%7Bn&plus;1%7D%20%3D%20j%7C%20X_n%20%3D%20i%29%20%3D%20q_%7Bij%7D%20%5C%5C%5C%5C%20two%5C%20steps%5C%20ahead%2C%20%5C%5C%20P%28X_%7Bn&plus;2%7D%20%3D%20j%7C%20X_n%20%3D%20i%29%20%5C%5C%20%3D%20%5Csum%20_k%20P%28X_%7Bn&plus;2%7D%20%3D%20j%7C%20X_%7Bn&plus;1%7D%20%3D%20k%2C%20X_n%20%3D%20i%29P%28X_%7Bn&plus;1%7D%20%3D%20k%7CX_n%20%3D%20i%29%20%5C%5C%28%5Cbecause%20L.O.T.P%5C%20on%5C%20codition%5C%20X_n%3Di%29%20%5C%5C%20%3D%20%5Csum%20_k%20P%28X_%7Bn&plus;2%7D%20%3D%20j%7C%20X_%7Bn&plus;1%7D%20%3D%20k%29P%28X_%7Bn&plus;1%7D%20%3D%20k%7CX_n%20%3D%20i%29%5C%20%28%5Cbecause%20property%5C%20of%5C%20Markov%29%20%5C%5C%20%3D%20%5Csum%20_k%20q_%7Bik%7Dq_%7Bkj%7D%5C%20%28%5Crightarrow%20%28i%2Cj%29%5C%20entry%5C%20of%5C%20Q%5E2%29%20%5C%5C%5C%5C%5Ccdots%5C%5C%20m%5C%20steps%5C%20ahead%2C%20%5C%5C%20P%28X_%7Bn&plus;m%7D%20%3D%20j%20%7CX_n%20%3D%20i%29%20%28%5Crightarrow%20%28i%2Cj%29%5C%20entry%5C%20of%5C%20Q%5Em%29)  \n",
    "  \n",
    "  \n",
    "  \n",
    "  \n",
    "  \n",
    "  "
   ]
  },
  {
   "cell_type": "markdown",
   "metadata": {},
   "source": [
    "### 정상분포 (= 고정된 분포, Stationary Distribution)\n",
    "\n",
    "(→ 마코프 체인이 반복되다 보면 언젠가는 어떤 상태에 수렴하게 되는가?)\n",
    "\n",
    "![](https://latex.codecogs.com/gif.latex?%5C%5C%5Cvec%20s%5C%20%28prob%5C%20vector%5C%201%5Ctimes%20M%29%5C%20is%5C%20stationary%5C%20for%5C%20the%5C%20chain%20%5C%5Cif%5C%20%5Cvec%20s%20Q%20%3D%20%5Cvec%20s%20%5Cquad%20%28%5Cvec%20s%5C%20is%5C%201%20%5Ctimes%20M%2C%5C%20Q%5C%20is%5C%20M%5Ctimes%20M%29%20%5C%5C%5C%5C%20%28%5Cstar%20%5C%20eigen%5C%20value%2C%5C%20eigen%5C%20vector%29)  \n",
    "  \n",
    "체크사항:\n",
    "\n",
    "- 정상분포라는 것이 존재할 수 있는가?  \n",
    " (음수가 아니면서 합이 1이 되도록 하는 벡터 s가 존재하는가)\n",
    "- unique한 분포인가? \n",
    "- (장기적인 관점에서) 마코프 체인이 실제로  벡터 s 에 결국 수렴하는가?\n",
    "- 정상분포 벡터 s를 어떻게 구할 수 있는가?  \n",
    "  "
   ]
  }
 ],
 "metadata": {
  "kernelspec": {
   "display_name": "Python 3",
   "language": "python",
   "name": "python3"
  },
  "language_info": {
   "codemirror_mode": {
    "name": "ipython",
    "version": 3
   },
   "file_extension": ".py",
   "mimetype": "text/x-python",
   "name": "python",
   "nbconvert_exporter": "python",
   "pygments_lexer": "ipython3",
   "version": "3.6.3"
  }
 },
 "nbformat": 4,
 "nbformat_minor": 2
}
