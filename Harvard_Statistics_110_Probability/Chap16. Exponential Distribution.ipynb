{
 "cells": [
  {
   "cell_type": "markdown",
   "metadata": {},
   "source": [
    "# 16강- 지수분포(Exponential Distribution)"
   ]
  },
  {
   "cell_type": "markdown",
   "metadata": {},
   "source": [
    "### 지수분포(Exponential Distribution)  \n",
    "  \n",
    "비율 파라미터 λ가 있다고 하자.  \n",
    "X ~ Expo(λ) \n",
    "\n",
    "먼저 지수분포의 확률질량함수와 누적분포함수를 구해보자.\n",
    "![](https://latex.codecogs.com/gif.latex?%5C%5CPDF%3A%20f%28x%29%20%3D%20%5Clambda%20e%5E%7B-%5Clambda%20x%7D%2C%5C%20x%3E0%5C%20%280%5C%20otherwise%29%20%5C%5C%20It%5C%20is%5C%20valid%5C%20%5Cbecause%20%5Cdisplaystyle%20%5Cint%20%5E%5Cinfty%20_0%20%5Clambda%20e%5E%7B-%5Clambda%20x%7D%20dx%20%3D%201%20%5C%5C%5C%5C%20CDF%3A%20F%28x%29%20%3D%20%5Cdisplaystyle%20%5Cint%20%5Ex%20_0%20%5Clambda%20e%20%5E%7B-%5Clambda%20t%7Ddt%20%3D%201-e%5E%7B-%20%5Clambda%20x%7D%2C%5C%20x%3E0%20%5C%5C%28%5C%20x%20%5Crightarrow%20%5Cinfty%20%3A%20F%28X%29%20%5Crightarrow%201%2C%20x%20%5Crightarrow%200%20%3A%20F%28X%29%20%5Crightarrow%200%20%29)  \n",
    "  \n",
    "이제 평균과 분산을 구해보자.  \n",
    "그전에 표준화해서 구하자.  \n",
    "  \n",
    "먼저 Y = λX라고 할 때, Y ~ Expo(1)임을 보일 것이다.  \n",
    "  \n",
    "![](https://latex.codecogs.com/gif.latex?%5C%5C%20CDF%5C%20of%5C%20Y%3A%20P%28Y%5Cleq%20y%29%20%3D%20P%28X%20%5Cleq%20%5Cfrac%7By%7D%7B%5Clambda%7D%29%20%3D%201%20-%20e%5E%7B-y%7D%20%5C%20%5Ctherefore%20Y%20%5Csim%20Expo%281%29)  \n",
    "  \n",
    "Y ~ Expo(1)일 때, 평균(E(Y))과 분산(Var(Y))을 구해보자.\n",
    "  \n",
    "![](https://latex.codecogs.com/gif.latex?%5C%5CE%28Y%29%3D%20%5Cint_%7B0%7D%5E%7B%5Cinfty%7Dye%5E%7B-y%7Ddy%20%5C%5C%5C%5C%20u%20%3D%20y%5C%20%5C%20%5C%20%5C%20%5C%20%5C%20%5C%20dv%20%3D%20e%5E%7B-y%7Ddy%20%5C%5C%20du%20%3D%20dy%5C%20%5C%20%5C%20%5C%20v%20%3D%20-e%5E%7B-y%7D%20%5C%5C%20%5C%5C%20%3D%20%5Clarge%20%5B%28-ye%5E%7B-y%7D%29%5D%5E%5Cinfty%20_0%20&plus;%20%5Cdisplaystyle%20%5Cint%5E%5Cinfty%20_0%20e%5E%7B-y%7Ddy%20%3D%201%20%5C%5C%5C%5C%20Var%28Y%29%20%3D%20E%28Y%5E2%29-%5C%7BE%28Y%29%5C%7D%5E2%20%3D%20%5Cdisplaystyle%20%5Cint%5E%5Cinfty_0y%5E2e%5E%7B-y%7Ddy%20-1%20%5C%20%28%5Cbecause%20LOTUS%29%3D1)   \n",
    "  \n",
    "이제 일반적인 지수분포로 돌아가보자.  \n",
    "  \n",
    "![](https://latex.codecogs.com/gif.latex?%5C%5CX%20%3D%20%5Cfrac%20%7BY%7D%7B%5Clambda%20%7D%20%5C%5C%20%5Crightarrow%20E%28X%29%20%3D%20%5Cfrac%20%7B1%7D%7B%5Clambda%20%7D%2C%5C%20Var%28X%29%20%3D%20%5Cfrac%20%7B1%7D%7B%5Clambda%5E%7B2%7D%7D)  \n",
    "  \n",
    "하지만 아직 우리는 왜 지수분포가 중요한지 모른다.  \n",
    "  \n",
    "#### Memoryless Property(무기억성)                                                                                     → 연속 : 지수분포, 이산 : 기하분포 만이 지니고 있음.\n",
    "  \n",
    "ex) 전화를 기다리고 있다고 가정해보자. 대기시간의 특징이 얼마나 오래 기다리든 간에 기다린 시간은 고려하지 않고, 매시간 새롭게 시작하는 것이다.    \n",
    "아래에 정의된 무기억성을 예로 들자면 이미 s분 동안 기다렸고 아직 전화가 오지 않았다.   그래서 X ≥ s인 것을 알 수 있으며, 적어도 t분 더 기다려야되는 확률은 어떻게 되는지를 나타낸 것이다.  \n",
    "  \n",
    "![](https://latex.codecogs.com/gif.latex?%5C%5CP%28X%20%5Cgeq%20s&plus;t%5C%20%7C%5C%20X%20%5C%20%5Cgeq%20s%29%3DP%28X%20%5Cgeq%20t%29%20%5C%5C%5C%5C%20Proof%5C%20%29%20%5C%5C%20P%28X%20%5Cgeq%20s%29%3D%201-%20P%28X%20%5Cleq%20s%29%20%3D%20e%5E%7B-%5Clambda%20s%7D%20%5C%5C%5C%5C%20P%28X%20%5Cgeq%20s&plus;t%7CX%20%5Cgeq%20s%29%20%5C%5C%3D%20%5Cdisplaystyle%20%5Cfrac%7BP%28X%20%5Cgeq%20s&plus;t%2C%20X%5Cgeq%20s%29%7D%7BP%28X%20%5Cgeq%20s%29%7D%20%3D%20%5Cfrac%7BP%28X%20%5Cgeq%20s&plus;t%29%7D%7BP%28X%20%5Cgeq%20s%29%7D%28%5Cbecause%20X%20%5Cgeq%20s&plus;t%20%5Csupset%20X%20%5Cgeq%20s%29%20%5C%5C%3D%20%5Cfrac%7Be%5E%7B-%5Clambda%20%28s&plus;t%29%7D%7D%7Be%5E%7B-%5Clambda%20s%7D%7D%20%3D%20e%5E%7B-%5Clambda%20t%7D%20%5C%5C%5C%5C%3D%20P%28X%5Cgeq%20t%29)  \n",
    "  \n",
    "#### 지수분포의 조건부기댓값  \n",
    "  \n",
    "![](https://latex.codecogs.com/gif.latex?%5C%5CX%20%5Csim%20Expo%28%5Clambda%29%20%5C%5C%5C%5C%20E%28X%20%7C%20X%20%3E%20a%29%20%3D%20a%20&plus;%20E%28X%20-%20a%7CX%20%3E%20a%29%20%3D%20a%20&plus;%20%5Cfrac%20%7B1%7D%7B%5Clambda%7D%5C%20%28%5Cbecause%20memoryless%29)  \n",
    "위에서의 a초 이상 기다렸을 때의 X-a는 다시 기다려야하는 추가시간이 되며,  \n",
    "이에 대한 지수분포는 무기억성에 의해 새로운 지수분포가 된다.  \n",
    "이를 통해 a + 1/λ 라는 식이 나온다.  "
   ]
  },
  {
   "cell_type": "code",
   "execution_count": null,
   "metadata": {
    "collapsed": true
   },
   "outputs": [],
   "source": []
  }
 ],
 "metadata": {
  "kernelspec": {
   "display_name": "Python 3",
   "language": "python",
   "name": "python3"
  },
  "language_info": {
   "codemirror_mode": {
    "name": "ipython",
    "version": 3
   },
   "file_extension": ".py",
   "mimetype": "text/x-python",
   "name": "python",
   "nbconvert_exporter": "python",
   "pygments_lexer": "ipython3",
   "version": "3.6.3"
  }
 },
 "nbformat": 4,
 "nbformat_minor": 2
}
