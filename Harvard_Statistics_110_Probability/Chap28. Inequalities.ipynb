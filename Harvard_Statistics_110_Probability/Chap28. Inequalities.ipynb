{
 "cells": [
  {
   "cell_type": "markdown",
   "metadata": {},
   "source": [
    "# 28강- 부등식(Inequalities)"
   ]
  },
  {
   "cell_type": "markdown",
   "metadata": {},
   "source": [
    "#### 27강에 이어서 예제를 한 번 더 살펴보자\n",
    "![](https://latex.codecogs.com/gif.latex?%5C%5C%20A%5C%20store%5C%20with%5C%20a%5C%20random%5C%20%5C%23%5C%20of%5C%20customers%2C%5C%20N%20%3D%20%28%5C%23%5C%20customers%29%20%5C%5C%20Let%5C%20X_j%3A%20the%5C%20money%5C%20which%5C%20jth%5C%20customer%5C%20spend%5C%20%28mean%5C%20%5Cmu%2C%5C%20variance%5C%20%5Csigma%20%5E2%29%20%28N%2C%20X_1%2C%20...%2C%20X_n%2C%5C%20N%3Aindependent%29%2C%20%5C%5C%20Find%5C%20mean%2C%5C%20var%5C%20of%5C%20X%3D%5Csum%20%5EN%20_%7Bj%3D1%7D%20X_j%20%5C%5C%20E%28X%29%20%5C%5C%20%3D%20%5Cdisplaystyle%20%5Csum%20%5E%5Cinfty%20_%7Bn%3D0%7DE%28X%7CN%3Dn%29P%28N%3Dn%29%5C%20%28%5Cbecause%20LOTP%29%20%5C%5C%20%3D%20%5Cdisplaystyle%20%5Csum%20%5E%5Cinfty%20_%7Bn%3D0%7D%20%5Cmu%20n%20P%28N%3Dn%29%20%5C%20%28%5Cbecause%20E%28X%7CN%3Dn%29%20%3D%20%5Cmu%20n%20%5Crightarrow%20Linearity%29%20%5C%5C%20%3D%20%5Cmu%20E%28N%29%20%5C%5C%5C%5C%20Adam%27s%5C%20Law%5C%20%29%20%5C%5C%20E%28X%29%20%3D%20E%28E%28X%7CN%29%29%20%5C%5C%20%3D%20E%28%5Cmu%20N%29%5C%20%28%5Cbecause%20Linearity%29%3D%20%5Cmu%20E%28N%29%20%5C%5C%5C%5C%20Eve%27s%5C%20Law%5C%20%29%20%5C%5C%20Var%28X%29%20%3D%20E%28Var%28X%7CN%29%29&plus;Var%28E%28X%7CN%29%29%20%5C%5C%20%3D%20E%28N%20%5Csigma%5E2%29&plus;Var%28%5Cmu%20N%29%20%5C%5C%20%3D%20%5Csigma%20%5E2%20E%28N%29%20&plus;%20%5Cmu%20%5E2%20Var%28N%29)  \n",
    "  \n",
    "X는 지출의 총합, 총지출을 뜻한다. 이는 이전과는 달리 상위 지수에 확률변수인 N이 있다.   \n",
    "확률변수를 임의의 수만큼 더한다는 의미  \n",
    "  \n",
    "밑에서 분산의 경우 단위비교라는 관점에서\n",
    "N 혹은 n은 사람수를 의미하므로, 미터, 인치 등의 단위가 따로 존재하지 않으며,  \n",
    "μ를 측정하는 단위는 달러, 유로 등이 존재한다.  \n",
    "편의상 달러라고 하면, σ^2는 달러의 제곱이 되며, 이것이 분산 대신 표준편차를 사용하는 이유이기도 하다.  \n",
    "만약 표준편차를 원할 경우 V(X)의 제곱근을 구하면 된다.  \n",
    "  \n",
    "식을 보면 우변의 제곱근의 단위는 원이라는 것을 알 수 있으며,  \n",
    "이 식은 양변의 단위가 일치한다.  \n",
    "  \n",
    "MGF를 구할 때도 N에 대한 조건을 두고 구할 수 있다.  "
   ]
  },
  {
   "cell_type": "markdown",
   "metadata": {},
   "source": [
    "### 부등식(Inequalities)  \n",
    "  \n",
    "#### (1) 코시-슈바르츠 부등식(Cauchy-Schwartz Inequality)    \n",
    "  \n",
    "![](https://latex.codecogs.com/gif.latex?%7CE%28XY%29%7C%20%5Cleq%20%5Csqrt%7BE%28X%5E2%29E%28Y%5E2%29%7D%20%u200B%20%u200B%u200B)  \n",
    "(X,Y가 서로 비상관일 때,  E(XY) = E(X)E(Y))  \n",
    "X,Y가 평균 0을 가질 때,  \n",
    "![](https://latex.codecogs.com/gif.latex?%5C%5C%20%7CCorr%28X%2CY%29%7C%20%3D%20%5Cdisplaystyle%20%5Cspace%20%7C%5Cfrac%7BE%28XY%29%7D%7B%5C%7BE%28X%5E2%29E%28Y%5E2%29%20%5C%7D%5E%7B1/2%7D%7D%7C%20%5Cle%201)  \n",
    "  \n",
    "#### (2) 젠슨 부등식(Jensen's Inequality)   \n",
    "  \n",
    "![](https://latex.codecogs.com/gif.latex?%5C%5C%20When%5C%20g%5C%20is%5C%20convex%28%3Dg%27%27%28x%29%20%5Cge%200%29%5C%20%2C%5C%20%5C%20E%28g%28X%29%29%20%5Cge%20g%28E%28X%29%29%20%5C%5C%5C%5C%20When%5C%20h%5C%20is%5C%20concave%2C%5C%20%5C%20E%28h%28X%29%29%20%5Cle%20h%28E%28X%29%29)  \n",
    "볼록일 경우 E(g(X))≥g(E(X)), 오목일 경우 E(h(X))≤h(E(X))이다.  \n",
    "그리고 y = x^2식에서 적용해보면 (E(X))^2 ≥ E(X^2)가 나오는데  \n",
    "이는 분산의 정의 Var(X) = (E(X))^2 - E(X^2) 를 생각하면, 분산이 0 이상이기에 이 식이 만족함을 알 수 있다.  \n",
    "  \n",
    "ex) 1/x와 lnx에 대해서     \n",
    "![](https://latex.codecogs.com/gif.latex?%5C%5C%20When%5C%20x%20%3E%200%2C%20%5C%5C%5C%5C%20%5Cdisplaystyle%20E%28%5Cfrac%7B1%7D%7BX%7D%29%20%5Cge%20%5Cfrac%7B1%7D%7BE%28X%29%7D%20%5C%5C%20E%28ln%28X%29%29%20%5Cle%20ln%28E%28X%29%29)  \n",
    "  \n",
    "Proof)  \n",
    "![](https://cphinf.pstatic.net/mooc/20180909_263/1536504383832QT5pt_PNG/28-1.PNG)  \n",
    "확률변수 X에 대하여 g(X)≥a+bX 를 만족할 때,   \n",
    "![](https://latex.codecogs.com/gif.latex?%5C%5C%20E%28g%28X%29%29%20%5Cge%20a&plus;bE%28X%29%20%5C%5C.%5C%20%5C%20%5C%20%5C%20%5C%20%5C%20%5C%20%5C%20%5C%20%5C%20%3D%20a&plus;b%5Cmu%20%5C%5C.%5C%20%5C%20%5C%20%5C%20%5C%20%5C%20%5C%20%5C%20%5C%20%5C%20%3D%20g%28%5Cmu%29%20%5C%5C.%5C%20%5C%20%5C%20%5C%20%5C%20%5C%20%5C%20%5C%20%5C%20%5C%20%3Dg%28E%28X%29%29)  \n",
    "  \n",
    "#### (3) 마르코프 부등식(Markov's Inequality)  \n",
    "  \n",
    "![](https://latex.codecogs.com/gif.latex?%5C%5C%20P%28%7CX%7C%20%5Cgeq%20a%29%20%5Cleq%20%5Cfrac%7BE%28%7CX%7C%29%7D%7Ba%7D%2C%5C%20for%5C%20any%5C%20a%3E0)  \n",
    "  \n",
    "Proof)  \n",
    "![](https://latex.codecogs.com/gif.latex?%5C%5C%20a%28I_%7B%7CX%7C%20%5Cgeq%20a%7D%29%5Cleq%20%7CX%7C%5C%20is%5C%20valid.%20%5C%5C%20I_%7B%7CX%7C%20%5Cgeq%20a%7D%3D%20%5Cleft%5C%7B%5Cbegin%7Bmatrix%7D%200%20%5Crightarrow%200%5C%20%5C%20%5C%20%5C%20%5C%20%5C%20%5C%20%5C%20%5C%20%5C%20%5C%20%5C%20%5C%20%5C%5C%201%20%5Crightarrow%20a%20%5C%20%28%7CX%7C%20%5Cgeq%20a%29%20%5Cend%7Bmatrix%7D%5Cright.%20%5C%5C%5C%5C%20%5CRightarrow%20%5Censpace%20aE%28I_%7B%7CX%7C%5Cge%20a%7D%29%20%5Cle%20E%28%7CX%7C%29%20%5C%5C%20E%28I_%7B%7CX%7C%5Cge%20a%7D%29%20%3D%20P%28%7CX%7C%5Cge%20a%29%20%5Cle%20%5Cdisplaystyle%20%5Cspace%20%5Cfrac%7BE%28X%29%7D%7Ba%7D%5C%20%5C%20%28fundamental%5C%20bridge%29)  \n",
    "  \n",
    "ex)  \n",
    "100명의 사람들 중에서 95% 이상의 사람들이 평균 나이보다 어린 경우가 있을 수 있는가?   \n",
    "→ 예  \n",
    "  \n",
    "100명의 사람들 중에서 50% 이상의 사람들이 평균 나이\\*2 보다 나이가 많은 경우가 있을 수 있는가?  \n",
    "→ 아니오  \n",
    "  \n",
    "#### (4) 체비셰브 부등식(Chebyshev's Inequality)   \n",
    "  \n",
    "마르코프 부등식과 비슷하지만 평균과의 차이를 본다는 것과 a^2의 분자에 분산이 있다는 것이 차이이다.  \n",
    "![](https://latex.codecogs.com/gif.latex?%5C%5C%20P%28%7CX-%5Cmu%7C%20%5Cge%20a%29%20%5Cle%20%5C%20%5Cfrac%20%7BVar%28X%29%7D%7Ba%5E2%7D%5C%20%28%5Cmu%3DE%28X%29%2C%5C%20a%3E0%29%20%5C%5C%20P%28%7CX-%5Cmu%7C%20%5Cge%20c%5Ccdot%20sd%28X%29%29%20%5Cle%20%5Cdisplaystyle%20%5Cspace%20%5Cfrac%7B1%7D%7Bc%5E2%7D%20%5Cqquad%20%28c%3E0%2C%5C%20sd%28X%29%5C%20is%5C%20Standard%5C%20deviation%5C%20of%5C%20X%29%20%5C%5C%5C%5C%20Proof%29%20%5C%5C%20P%28%7CX-%5Cmu%7C%20%5Cge%20a%29%20%3D%20P%28%28X-%5Cmu%29%5E2%20%5Cge%20a%5E2%29%20%5Cle%20%5Cspace%20%5Cdisplaystyle%20%5Cfrac%7BE%28X-%5Cmu%29%5E2%7D%7Ba%5E2%7D%20%3D%20%5Cfrac%7BVar%28X%29%7D%7Ba%5E2%7D%20%5C%5C%28Using%5C%20Markov%27s%5C%20Inequality%29)  \n",
    "위의 증명의 경우, P(|X-μ|>a)에서 |X-μ|와 a가 모두 양수이므로 제곱을 해주어서, 마르코프 부등식을 이용해서 증명을 할 수 있게 만들었다.  \n",
    "  \n",
    "X가 X의 평균과 표준편차의 2배인 2σ 이상 차이날 확률이 최대 1/4이라는 것.  \n",
    "정규분포처럼  \n",
    "σ 내에 속할 확률은 0.68    \n",
    "2σ 내에 속할 확률은 0.995  \n",
    "3σ 내에 속할 확률은 0.997  \n",
    "이라는 것을 알고 있을 때는 유용하진 않을 것이다.  \n",
    "  \n",
    "이 경우 X가 X의 평균과 2σ 이상 차이날 확률은 0.05라는 것을 알고 있지만,  \n",
    "체비셰프 부등식은 0.25보다만 작으면 성립 하므로 0.05보다는 안 좋은 상한이다.  "
   ]
  }
 ],
 "metadata": {
  "kernelspec": {
   "display_name": "Python 3",
   "language": "python",
   "name": "python3"
  },
  "language_info": {
   "codemirror_mode": {
    "name": "ipython",
    "version": 3
   },
   "file_extension": ".py",
   "mimetype": "text/x-python",
   "name": "python",
   "nbconvert_exporter": "python",
   "pygments_lexer": "ipython3",
   "version": "3.6.3"
  }
 },
 "nbformat": 4,
 "nbformat_minor": 2
}
