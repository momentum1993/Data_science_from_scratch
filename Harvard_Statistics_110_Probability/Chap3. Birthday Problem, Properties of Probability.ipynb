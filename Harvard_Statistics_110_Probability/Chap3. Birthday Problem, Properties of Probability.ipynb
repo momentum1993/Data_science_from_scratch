{
 "cells": [
  {
   "cell_type": "markdown",
   "metadata": {},
   "source": [
    "# 3강- Birthday Problem과 확률의 특성 (Birthday Problem, Properties of Probability) "
   ]
  },
  {
   "cell_type": "markdown",
   "metadata": {},
   "source": [
    "Birthday Problem - 어떠한 그룹 내에 n명의 생일이 같을 확률을 찾는 문제  \n",
    "K people, find probability that 2 have same birthday.\n",
    "\n",
    "Exclude Feb 29(윤년, 특이케이스 제외), assume other 365 days equally likely,  \n",
    "assume independence of births(쌍둥이 제외).\n",
    "\n",
    "If k > 365 때, 확률은 1. \n",
    "| 1월 1일 | 1월 2일 | ... | 12월 31일 |\n",
    "이렇게 각각 날짜마다 상자가 있다고 할 때 k > 365일 경우 무조건 어떤 한 상자는 무조건 1개 이상의 값을 지녀야한다. => 이를 **pigeon hole principle**이라고 한다.  \n",
    "  \n",
    "Let K <= 365 때,   \n",
    "P(no match) = 365*364*363*...*(365-k+1) / 365^k\n",
    "            = 365일 * 앞에서 선택된 1일 빼고 364일 * ... * (365-k+1) / 365일 중 하나의 생일을 지닌 k명\n",
    "            \n",
    "P(match)는  k  = 23일 때 50.7%, k = 50명일 때 97%, k=100명일 때 99.9%\n",
    "\n",
    "어떻게 k에 따라 확률이 나오는지 알 수 있을까?\n",
    "\n",
    "이러한 직관에 대해서 보자.  \n",
    "  \n",
    "k를 직관적인 수로 일단 보자.\n",
    "위의 생일 문제에서 중요한 값은 k가 아닌 k에서 2개를 고르는 경우의 수이다!  \n",
    "  \n",
    "k C 2 = k(k-1) / 2,  \n",
    "23 C 2 = 23 * 22 / 2 = 253  \n",
    "\n",
    "만약 생일이 같거나 하루 차이 나는 경우의 확률을 구할 때면,\n",
    "k = 14일 때 약 50%가 됩니다.\n",
    "\n",
    "그래서 이 경우를 구해보기 위해 이전날, 선택날, 다음날 3일을 빼서 363\\*362...순으로 곱해서 P(no match)를 구한다면 이 답은 1년 기준으로 날짜를 채워넣듯 생각해서 차이가 나게 된다."
   ]
  },
  {
   "cell_type": "markdown",
   "metadata": {},
   "source": [
    "** 가장 큰 우연은 우연한 일이 전혀 없는 상태 **"
   ]
  },
  {
   "cell_type": "markdown",
   "metadata": {},
   "source": [
    "### Non Naive Def of Probability"
   ]
  },
  {
   "cell_type": "markdown",
   "metadata": {},
   "source": [
    ": A probability space consists of S and P, where S is a samplespace(표본공간), and P, a function which takes an event A(subset of S) as input, returns P(A) (단, P(A)는 0과 1사이의 확률) as output,  \n",
    "such that   \n",
    "axioms  \n",
    "(1) P(Φ) = 0,  P(S) = 1  \n",
    "(2)![](https://latex.codecogs.com/gif.latex?P%28%5Cbigcup_%7Bn%3D1%7D%5E%7B%5Cinfty%7DA_%7Bn%7D%29%20%3D%20%5Csum_%7Bn%3D1%7D%5E%7B%5Cinfty%7DP%28A_%7Bn%7D%29)(단, A_i, A_j는 (disjoint event)서로소이다.)"
   ]
  },
  {
   "cell_type": "markdown",
   "metadata": {},
   "source": [
    "Properties  \n",
    "(1) P(A^c) = 1 - P(A)  \n",
    "**Proof.** 1 = P(S) (by axiom1) = P(A ∪ A^c) = P(A) + P(A^c) since A ∩ A^c = ∮(by axiom2)  \n",
    "  \n",
    "(2) If A ⊆ B, then P(A) ≤ P(B)  \n",
    "**Proof.** B = A ∪ ( B ∩ A^c), 이것들은 서로소(disjoint)  \n",
    "P(B) = P(A) + P( B ∩ A^c) ≥ P(A) (by axiom2)  \n",
    "  \n",
    "(3) P(A∪B) = P(A) + P(B) - P(A∩B)  \n",
    "**Proof.** P(A∪B) =P( A ∪ ( B ∩ A^c)) = P(A) + P( B∩A^c),  \n",
    "P(A) + P( B∩A^c) =? P(A) + P(B) - P(A∩B)(By Wishful Thinking: 이것이 정답이길 원하는것..),   \n",
    "P(A∩B) + P(B∩A^c) = P(B) \n",
    "It is **true**. A∩B과 B∩A^c가 서로소이고, 이를 합집합하면 B가 된다.(by axiom2)"
   ]
  },
  {
   "cell_type": "markdown",
   "metadata": {},
   "source": [
    "### 포함배제의 원리(Inclusion-exclusion Principle)"
   ]
  },
  {
   "cell_type": "markdown",
   "metadata": {},
   "source": [
    "P(A ∪ B ∪ C) = P(A) + P(B) + P(C) - P(A∩B) - P(B∩C) - P(C∩A) + P(A∩B∩C)  \n",
    "  \n",
    "![](https://wikimedia.org/api/rest_v1/media/math/render/svg/4397f0e2aeb63420457f75447ddd372a554c49f5)  \n",
    "반복되는 부분을 없애기 위해 포함과 배제를 번갈아해주는 것이다."
   ]
  },
  {
   "cell_type": "markdown",
   "metadata": {},
   "source": [
    "#### De Montmort's Problem(1713) = Matching problem  \n",
    "1~n까지 라벨링된 n개의 카드가 있다고 하자.  \n",
    "카드를 섞고 1장씩 뒤집을 때 1부터 세는데 세는 수와 카드의 수가 일치할 때 이기는 것.(ex. 7번째 카드에 7번이 적혀있으면 이기는 것.)  \n",
    "  \n",
    "Let A_j, be the event \"jth card matches(= j번째 카드에 j가 라벨링되어있음\".  \n",
    "P(A_1 ∪ A_2 ∪ ... ∪ A_n)(= 최소 한 장의 카드가 매칭되는 확률) =   \n",
    "  \n",
    "P(A_j) = 1 / n since all position eqully likely for card labeled j.\n",
    "(j가 특정 위치에 있을 확률은 n군데 중 1군데이다.)  \n",
    "\n",
    "1번째카드 위에 1, 2번째카드 위에 2가 있는 경우  \n",
    "P(A_1∩A_2) = (n-2)! / n! = 1 / n(n-1)  \n",
    "ㆍ  \n",
    "ㆍ  \n",
    "ㆍ\n",
    "P(A_1∩A_2∩ㆍㆍㆍ∩A_k) = (n-k)! / n!  \n",
    "  \n",
    "P(A_1 ∪ A_2 ∪ ... ∪ A_n)  \n",
    "= nㆍ1/n - n(n-1)/2!ㆍ1/n(n-1) + n(n-1)(n-2)/3!ㆍ1/n(n-1)(n-2)  \n",
    "= 1 - 1/2! + 1/3! - 1/4! + ... + (-1)^(n+1)ㆍ1/n!(테일러 급수) ≒ **1 - 1/e**  "
   ]
  }
 ],
 "metadata": {
  "kernelspec": {
   "display_name": "Python 3",
   "language": "python",
   "name": "python3"
  },
  "language_info": {
   "codemirror_mode": {
    "name": "ipython",
    "version": 3
   },
   "file_extension": ".py",
   "mimetype": "text/x-python",
   "name": "python",
   "nbconvert_exporter": "python",
   "pygments_lexer": "ipython3",
   "version": "3.6.3"
  }
 },
 "nbformat": 4,
 "nbformat_minor": 2
}
