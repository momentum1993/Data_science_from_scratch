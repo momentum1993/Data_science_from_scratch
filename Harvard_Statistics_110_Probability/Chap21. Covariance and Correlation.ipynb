{
 "cells": [
  {
   "cell_type": "markdown",
   "metadata": {},
   "source": [
    "# 21강- 공분산과 상관계수(Covariance and Correlation) "
   ]
  },
  {
   "cell_type": "markdown",
   "metadata": {},
   "source": [
    "### 공분산(covariance)  \n",
    "  \n",
    "정의)\n",
    "![](https://latex.codecogs.com/gif.latex?%5C%5C%20Cov%28X%2CY%29%20%3D%20E%5B%28X-%28E%28X%29%29%28Y-E%28Y%29%29%5D%20%3D%20E%28XY%29%20-%20E%28X%29E%28Y%29)  \n",
    "  \n",
    "속성)  \n",
    "![](https://latex.codecogs.com/gif.latex?%5C%5C%20%281%29%5C%20Cov%28X%2CX%29%20%3D%20Var%28X%29%5C%20%28%5Cbecause%20Var%28X%29%20%3D%20E%28%28X-E%28X%29%29%5E2%29%29%5C%5C%20%282%29%5C%20Cov%28X%2C%20Y%29%20%3D%20Cov%28Y%2C%20X%29Cov%28X%2CY%29%3DCov%28Y%2CX%29%5C%20%28%5Cbecause%20Symmetry%29%5C%5C%20%283%29%5C%20Cov%28X%2Cc%29%20%3D%200%5C%20%28c%5C%20is%5C%20Constant%29%5C%5C%20%284%29%5C%20Cov%28cX%2CY%29%20%3Dc%20%5Ccdot%20Cov%28X%2CY%29%5C%20%28%5Cbecause%20Bilinearity%29%5C%5C%20%285%29%5C%20Cov%28X%2C%20Y&plus;Z%29%20%3DCov%28X%2CY%29&plus;Cov%28X%2C%20Z%29%5C%20%28%5Cbecause%20Bilinearity%29%5C%5C%20%286%29%5C%20Cov%28X&plus;Y%2C%20Z&plus;W%29%20%5C%5C%20%5C%20%5C%20%3DCov%28X%2CZ%29&plus;Cov%28X%2CW%29&plus;Cov%28Y%2CZ%29&plus;Cov%28Y%2CW%29%5C%20%28by%5C%20property%5C%20%285%29%29%5C%5C%20%5CRightarrow%20Cov%28%5Cdisplaystyle%20%5Csum%20%5Em%20_%7Bi%20%3D%201%7D%20a_i%20X_i%2C%20%5Csum%20%5En%20_%7Bj%3D1%7Db_jY_j%29%20%3D%20%5Csum%20_%7Bi%2C%20j%7D%20a_ib_jCov%28X_i%2C%20Y_j%29%5C%5C%20%287%29%5C%20Var%28X_1&plus;X_2%29%20%3D%20Var%28X_1%29&plus;Var%28X_2%29%20&plus;2Cov%28X_1%2CX_2%29%5C%5C%20%5Crightarrow%20When%5C%20Cov%28X_1%2CX_2%29%3D0%2C%20%5C%5CX_1%2C%5C%20X_2%5C%20are%5C%20independent%20%5CLeftrightarrow%20Var%28X_1&plus;X_2%29%20%3D%20Var%28X_1%29&plus;Var%28X_2%29%5C%5C%20%5CRightarrow%20Var%28X_1&plus;...&plus;X_n%29%20%3D%20Var%28X_1%29%20&plus;...&plus;Var%28X_n%29%20&plus;2%20%5Csum%20_%7Bi%3Cj%7DCov%28X_i%2C%20X_j%29)  \n",
    "(7)번 속성의 마지막 식에서 공분산을 더하는 데 있어 i < j를 해준 이유는 Cov(X_1, X_2) = Cov(X_2,X_1)이라서 2Cov(X_1, X_2)로 계산하기 위함( Cov(X_2, X_1)은 나올 수 없음 )이다.\n",
    "  \n",
    "정리)   \n",
    "**X,Y are independent ⇒ Cov(X, Y) = 0**  \n",
    "X, Y가 독립일 때, 공분산 Cov(X, Y) = 0 이며, 이 명제의 역(반대방향)은 성립하지 않는다.  \n",
    "\n",
    "역이 성립하지 않는 예제)\n",
    "![](https://latex.codecogs.com/gif.latex?%5C%5CWhen%5C%20Z%20%5Csim%20N%280%2C1%29%2C%5C%20X%3DZ%2C%5C%20Y%20%3D%20Z%5E2%2C%20%5C%5CCov%28X%2C%20Y%29%20%3D%20E%28XY%29-%20E%28X%29E%28Y%29%3D%20E%28Z%5E3%29%20-%20E%28Z%29E%28Z%5E2%29%20%3D%200%20%5C%5C%28%5Cbecause%20when%5C%20Z%20%5Csim%20N%280%2C1%29%2C%5C%20E%28Z%5En%29%20%3D%200%28n%5C%20is%5C%20odd%5C%20number%29%29)  \n",
    "  \n",
    "X,Y는  Cov(X, Y) = 0이지만  Y는 X에 대한 함수(= X,Y는 종속적)이므로 절대 독립이 아니다.  \n",
    "  \n",
    "  \n",
    "  \n",
    "  \n",
    "  \n",
    "  "
   ]
  },
  {
   "cell_type": "markdown",
   "metadata": {},
   "source": [
    "### 상관(Correlation)  \n",
    "  \n",
    "공분산의 표준화 된 것이라고 생각하면 된다.    \n",
    "  \n",
    "정의)  \n",
    "![](https://latex.codecogs.com/gif.latex?%5C%5CCorr%28X%2C%20Y%29%20%3D%20%5Cdisplaystyle%20%5Cfrac%7BCov%28X%2C%20Y%29%7D%7Bsd%28X%29sd%28Y%29%7D%20%3D%20Cov%28%5Cfrac%7BX-E%28X%29%7D%7Bsd%28X%29%7D%2C%20%5Cfrac%7BY-E%28Y%29%7D%7Bsd%28Y%29%7D%29)  \n",
    "sd(standard deviation, 표준편차)는 분산의 제곱근이다.  \n",
    "즉, 공분산을 분산의 제곱근들로 나눠주면 된다.  \n",
    "상관(Correlation)은 정규화(단위를 없앰)를 먼저 하고 공분산을 계산하는 것이다.  \n",
    "→ 이를 통해 공분산의 단위에 대한 해석을 할 경우 생기는 짜증나는 특성을 없애줄 수 있다.    \n",
    "  \n",
    "정리)  \n",
    "**-1 ≤ Corr(X,Y) ≤ 1 (이는 코시-슈바르츠(Cauchy-Schwarz) 부등식과 같다)**  \n",
    "  \n",
    "증명)  \n",
    "WLOG(일반성을 잃지 않고) 정규화(standardize)된 확률변수 X,Y에 대해, Corr(X,Y) = ρ라고 할 때,  \n",
    "![](https://latex.codecogs.com/gif.latex?%5C%5C%20Var%28X&plus;Y%29%20%3D%20Var%28X%29%20&plus;Var%28Y%29%20&plus;2Cov%28X%2C%20Y%29%20%3D%202%20&plus;%20%5Crho%20%5Cgeq%200%20%5C%5C%20Var%28X-Y%29%20%3D%20Var%28X%29%20&plus;Var%28Y%29%20-2Cov%28X%2C%20Y%29%20%3D%202%20-%5Crho%20%5Cgeq%200%20%5C%5C%20%5Ctherefore%20-1%20%5Cle%20%5Crho%20%5Cle%201%u2234%u22121%u2264%u03C1%u22641)  \n",
    "  \n",
    "  \n",
    "  \n",
    "  \n",
    "  \n",
    "  "
   ]
  },
  {
   "cell_type": "markdown",
   "metadata": {
    "collapsed": true
   },
   "source": [
    "--- \n",
    "ex) 다항분포의 공분산  \n",
    "  \n",
    "![](https://latex.codecogs.com/gif.latex?%5C%5C%20When%5C%20%28X_1%2C%20...%2C%20X_k%29%20%5Csim%20Mult%28n%2C%20%5Cvec%20p%29%2C%5C%20Cov%28x_i%2C%20x_j%29%5C%20for%5C%20all%5C%20x%2Cy%20%5C%5C%5C%5C%20i%29%20i%20%3D%20j%20%3A%5C%20Cov%28X_i%2C%20X_i%29%20%3D%20Var%28X_i%29%20%3D%20np_i%281-p_i%29%20%5C%5C%5C%5C%20ii%29%20i%20%5Cne%20j%20%3A%5C%5C%20When%5C%20Cov%28X_1%2C%20X_2%29%20%3D%20c%2C%20%5C%5C%20Var%28X_1&plus;X_2%29%20%5C%5C%3D%20np_1%281-p_1%29&plus;np_2%281-p_2%29%20&plus;2c%20%5C%5C%5C%20%28%5Cbecause%20Var%28X_1&plus;X_2%29%20%3D%20Var%28X_1%29%20&plus;%20Var%28X_2%29%20&plus;%202Cov%28X_1%2C%20X_2%29%29%20%5C%5C%3D%20n%28p_1&plus;p_2%29%281-%28p_1&plus;p_2%29%29%5C%20%28%5Cbecause%20Lumping%5C%20property%5C%20of%5C%20Mult.%29%20%5C%5C%20%5CRightarrow%20Cov%28X_1%2C%20X_2%29%20%3D%20-np_1p_2%20%5C%5C%5C%5C%20General%20%3A%20Cov%28X_i%2C%20X_j%29%20%3D%20-np_ip_j%5C%20for%5C%20i%20%5Cneq%20j)  \n",
    "  \n",
    "---  \n",
    "  \n",
    "ex) 이항분포의 분산  \n",
    "  \n",
    "X_j = j번째 시도의 성공에 대한 지시확률변수  \n",
    "\n",
    "![](https://latex.codecogs.com/gif.latex?%5C%5C%20X%20%5Csim%20Bin%28n%2C%20p%29%20X%20%3D%20X_1&plus;...&plus;X_n%20%5C%20%28X_i%20%5Csim%5E%7Biid%7D%20Bern%28p%29%29%20%5C%5C%5C%5C%20When%5C%20let%5C%20I_A%5C%20be%5C%20indicator%5C%20random%5C%20variable%5C%20of%5C%20event%5C%20A%2C%20%5C%5C%20%7BI_A%7D%5E2%20%3D%20I_A%2C%5C%20%5C%20%7BI_A%7D%5E3%20%3D%20I_A%2C%5C%20%5C%20I_AI_B%20%3D%20I_%7BA%20%5Ccap%20B%7D%20%5C%5C%5C%5CVar%28X_j%29%20%3D%20E%28X_j%5E2%29-%5C%7BE%28X%29%5E2%5C%7D%20%3D%20E%28X_j%29-%5C%7BE%28X%29%5E2%5C%7D%20%3D%20p-p%5E2%20%3D%20p%281-p%29%20%3D%20pq%20%5C%5C%20%5CRightarrow%20Var%28X%29%20%3D%20npq%5C%20%28%20%5Cbecause%20Cov%28X_i%2C%20X_j%29%20%3D%200%2C%5C%20when%5C%20i%20%5Cneq%20j%29)  \n",
    "  \n",
    "---  \n",
    "  \n",
    "ex) 초기하분포의 분산\n",
    "![](https://latex.codecogs.com/gif.latex?%5C%5C%20X%20%5Csim%20HyperGeo%28w%2Cb%2Cn%29%20%5C%5C%20%5Crightarrow%20X%20%3D%20X_1&plus;...&plus;X_n%5C%20%2C%5C%20X_j%20%5Cleft%5C%7B%5Cbegin%7Bmatrix%7D1%5C%20%5C%20if%5C%20jth%5C%20ball%5C%20is%5C%20white.%20%5C%5C%200%5C%20%5C%20%5C%20%5C%20%5C%20%5C%20%5C%20%5C%20%5C%20%5C%20%5C%20%5C%20%5C%20%5C%20%5C%20otherwise%20%5Cend%7Bmatrix%7D%5Cright.%20%5C%5C%20Var%28X%29%20%3D%20nVar%28X_1%29&plus;2%7Bn%20%5Cchoose%202%7DCov%28X_1%2CX_2%29%5C%20%28%5Cbecause%20symmetry%29%20%5C%5C%20Cov%28X_1%2C%20X_2%29%20%3D%20E%28X_1X_2%29-%20E%28X_1%29E%28X_2%29%20%5C%5C%3D%20%5Cfrac%7Bw%28w-1%29%7D%7B%28w&plus;b%29%28w&plus;b-1%29%7D-%28%5Cfrac%7Bw%7D%7Bw&plus;b%7D%29%5E2)\n",
    "  \n",
    "  "
   ]
  }
 ],
 "metadata": {
  "kernelspec": {
   "display_name": "Python 3",
   "language": "python",
   "name": "python3"
  },
  "language_info": {
   "codemirror_mode": {
    "name": "ipython",
    "version": 3
   },
   "file_extension": ".py",
   "mimetype": "text/x-python",
   "name": "python",
   "nbconvert_exporter": "python",
   "pygments_lexer": "ipython3",
   "version": "3.6.3"
  }
 },
 "nbformat": 4,
 "nbformat_minor": 2
}
