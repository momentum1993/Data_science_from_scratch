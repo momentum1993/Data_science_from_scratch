{
 "cells": [
  {
   "cell_type": "markdown",
   "metadata": {},
   "source": [
    "# 4강- 조건부 확률 (Conditional Probability)"
   ]
  },
  {
   "cell_type": "markdown",
   "metadata": {
    "collapsed": true
   },
   "source": [
    "#### De Montmort's Problem(1713) = Matching problem  \n",
    "1~n까지 라벨링된 n개의 카드가 있다고 하자.  \n",
    "카드를 섞고 1장씩 뒤집을 때 1부터 세는데 세는 수와 카드의 수가 일치할 때 이기는 것.(ex. 7번째 카드에 7번이 적혀있으면 이기는 것.)  \n",
    "이길 수 있는 확률을 구하는 것이다.  \n",
    "  \n",
    "Let A_j, be the event \"jth card matches(= j번째 카드에 j가 라벨링되어있음\".  \n",
    "P(A_1 ∪ A_2 ∪ ... ∪ A_n)(= 최소 한 장의 카드가 매칭되는 확률) =   \n",
    "  \n",
    "P(A_j) = 1 / n since all position eqully likely for card labeled j.\n",
    "(j가 특정 위치에 있을 확률은 n군데 중 1군데이다.)  \n",
    "\n",
    "1번째카드 위에 1, 2번째카드 위에 2가 있는 경우  \n",
    "P(A_1∩A_2) = (n-2)! / n! = 1 / n(n-1)  \n",
    "ㆍ  \n",
    "ㆍ  \n",
    "ㆍ  \n",
    "P(A_1∩A_2∩ㆍㆍㆍ∩A_k) = (n-k)! / n!  \n",
    "카드 더미에 있는 각 카드가 배열될 확률은 동등하다고 가정.  \n",
    "배열된 k개를 제외한 나머지 n-k의 카드가 배열될 경우의 수 / 모든 카드가 배열 될 경우의 수  \n",
    "그리고 이러한 교집합은 집합의 부분집합 중 크기가 k인 것들에 대해서 적용해야 한다.  \n",
    "그래서 크기가 k인 모든 부분집합의 개수는 n C k = n! / (n-k)!k! 가 된다.  \n",
    "그리고 __대칭성__에 의해 다 똑같을 것이다.  \n",
    "그래서  \n",
    "P(A_1 ∪ A_2 ∪ ... ∪ A_n)  \n",
    "= nㆍ1/n - n(n-1)/2!ㆍ1/n(n-1) + n(n-1)(n-2)/3!ㆍ1/n(n-1)(n-2) - ....  \n",
    "= 1 - 1/2! + 1/3! - 1/4! + ... + (-1)^(n+1)ㆍ1/n!(테일러 급수) ≒ **1 - 1/e**  "
   ]
  },
  {
   "cell_type": "markdown",
   "metadata": {},
   "source": [
    "P(no match) = P(A_1^c ∩ A_2^c ∩ ... ∩ A_n^c) = 1 - 1 + 1/2! - 1/3! + ... + (-1)^nㆍ1/n!  \n",
    "≒ **1/e** "
   ]
  },
  {
   "cell_type": "markdown",
   "metadata": {},
   "source": [
    "### 독립(Independence)  \n",
    "Definition : 사건 A,B가 독립(indepentdent) if P(A∩B) = P(A)P(B) (즉 , A와 B가 서로 관계가 없다는 것)  \n",
    "  \n",
    "Note: Completely different from disjointness(배반사건).\n",
    "배반사건의 경우 A가 일어난다면 B가 일어나지 않을 사건 A,B를 말하는 것. 엄연히 독립의 개념과는 다름  \n",
    "\n",
    "A,B,C가 독립. if P(A,B) = P(A)P(B), P(A,C) = P(A)P(C), P(B,C) = P(B)P(C), P(A,B,C) = P(A)P(B)P(C).  \n",
    "  \n",
    "유사하게, A_1, ... A_n 의 사건들에 대해서 사건들의 부분집합들의 교집합의 확률은 부분집합에 속한 각 사건에 대한 확률들의 곱과 같다면 해당 사건들은 독립이다.(필요충분조건)  \n",
    "  \n",
    "#### Newton-Pepys Problem(1693)  \n",
    "1~6까지 있는 확률이 같은 주사위를 갖고 있을 때 다음 3가지 중에 어떤 것이 가장 확률이 높을까?  \n",
    "(A) 6개의 주사위를 던졌을 때 적어도 1개의 6이 나올 사건  \n",
    "(B) 12개의 주사위를 던졌을 때 적어도 2개의 6이 나올 사건   \n",
    "(C) 18개의 주사위를 던졌을 때 적어도 3개의 6이 나올 사건   \n",
    "\n",
    "Pepys는 C가 정답일 것이라고 추측. But A가 정답.  \n",
    "P(A) = 1 - (5/6)^6 ≒ 0.665  \n",
    "P(B) = 1 - (5/6)^12 - 12ㆍ1/6ㆍ(5/6)^11 ≒ 0.619   \n",
    "P(C) = ![](https://latex.codecogs.com/gif.latex?1%20-%20%5Csum_%7Bk%3D0%7D%5E%7B2%7D%5Cbinom%7B18%7D%7Bk%7D%5C*%28%5Cfrac%7B1%7D%7B6%7D%29%5E%7Bk%7D%28%5Cfrac%7B5%7D%7B6%7D%29%5E%7B18-k%7D%20%5Capprox%200.597)  \n",
    "그리고 P(C)의 18 C kㆍ(1/6)^kㆍ(5/6)^(18-k) 는 Binomial prob.(이항확률)  "
   ]
  },
  {
   "cell_type": "markdown",
   "metadata": {},
   "source": [
    "### 조건부 확률(Conditional Probability)  \n",
    "살아가는데 있어 자신의 신념에 대해서 그것을 이루어내기 위해 노력을 한다.  \n",
    "새로운 정보를 얻으면 이전의 성공확률, 믿음, 불확실성에 대해서 계속 달라질 것이다.  \n",
    "이것에 대해서 새로운 정보를 기반으로 확률(probability)/믿음(beliefs)/불확실성(uncertainty)을 어떻게 갱신하는가?  \n",
    "  \n",
    "Definition.  \n",
    "P(A|B)(= B가 일어났을 때 A가 일어날 확률) = P(A∩B) / P(B), if P(B) > 0.  \n",
    "  \n",
    "Intuition(직관) 1:  조약돌 세계\n",
    "![](https://cphinf.pstatic.net/mooc/20180821_28/1534839983397rwugW_PNG/4-1.png)\n",
    "![](https://cphinf.pstatic.net/mooc/20180821_295/1534839995103Wbfbi_PNG/4-2.png)  \n",
    "Intuition(직관) 2:  빈도학파(Frequentist) 세계 -> 똑같은 실험을 되풀이 할 수 있다고 가정.   \n",
    "![](https://cphinf.pstatic.net/mooc/20180821_17/1534840006106yXzeo_PNG/4-3.png)  \n",
    "  \n",
    "Theorem(정리) 1  \n",
    ": P(A∩B) = P(B)ㆍP(A|B) = P(A)ㆍP(B|A)  \n",
    "  \n",
    "Theorem(정리) 2  \n",
    ": P(A_1, ..., A_n) =  P(A_1)ㆍP(A_2|A_1)ㆍP(A_3|A_1,A_2)ㆍ...ㆍP(A_n|A\\_1,...,A_\\(n-1))  \n",
    "  \n",
    "__Theorem(정리) 3__  \n",
    "![](https://latex.codecogs.com/gif.latex?%3A%20P%28A%7CB%29%20%3D%20%5Cfrac%7BP%28B%7CA%29P%28A%29%7D%7BP%28B%29%7D)\n",
    "**베이즈 정리(Bayes' Rules)**  "
   ]
  },
  {
   "cell_type": "code",
   "execution_count": null,
   "metadata": {
    "collapsed": true
   },
   "outputs": [],
   "source": []
  }
 ],
 "metadata": {
  "kernelspec": {
   "display_name": "Python 3",
   "language": "python",
   "name": "python3"
  },
  "language_info": {
   "codemirror_mode": {
    "name": "ipython",
    "version": 3
   },
   "file_extension": ".py",
   "mimetype": "text/x-python",
   "name": "python",
   "nbconvert_exporter": "python",
   "pygments_lexer": "ipython3",
   "version": "3.6.3"
  }
 },
 "nbformat": 4,
 "nbformat_minor": 2
}
