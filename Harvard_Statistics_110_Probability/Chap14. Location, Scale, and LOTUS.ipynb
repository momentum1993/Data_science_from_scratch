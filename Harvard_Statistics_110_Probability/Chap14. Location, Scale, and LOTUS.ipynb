{
 "cells": [
  {
   "cell_type": "markdown",
   "metadata": {},
   "source": [
    "# 14강- 위치, 척도 및 무의식적인 통계학자의 법칙(Location, Scale, and LOTUS)"
   ]
  },
  {
   "cell_type": "markdown",
   "metadata": {},
   "source": [
    "### 표준정규분포  \n",
    "![](https://latex.codecogs.com/gif.latex?Z%5C%20%5Csim%20%5C%20N%280%2C1%29%2C%5C%20CDF%5C%20%5CPhi%2C%5C%20E%28Z%29%20%3D%200%2C%5C%20Var%28Z%29%20%3D%20E%28Z%5E%7B2%7D%29%20%3D%201%2C%20E%28Z%5E3%29%20%3D%201%5C%5C%20%5C%5C%20E%28Z%5E3%29%20%3D%20%5Cint_%7B-%5Cinfty%7D%5E%7B%5Cinfty%7Dz%5E%7B3%7D%5Cfrac%7B1%7D%7B%5Csqrt%7B2%5Cpi%7D%7De%5E%7B%5Cfrac%7B-z%5E2%7D%7B2%7D%7Ddz%20%28by%5C%20LOTUS%29%20%3D%200%28%5Cbecause%20odd%5C%20funtion%29)  \n"
   ]
  },
  {
   "cell_type": "markdown",
   "metadata": {},
   "source": [
    "위의 z^3를 뺀 식은 확률밀도함수를 적분하는 것이며, 결과가 1이 되어야 한다.\n",
    "E(Z) = first moment(1차 적률) , E(Z^2) = second moment(2차 적률) E(Z^3) = third moment(3차 적률)  \n",
    "이라 하며, 위의 3차 적률 식은 LOTUS에 의해 ∫ 바로 뒤에 z^3이 온다.(1차 → z가 올것이다)  \n",
    "\n",
    "기함수(odd function)의 대칭성 때문에 홀수차 적률은 모두 0이 된다.  \n",
    "짝수차 적률은 Z^4의 경우 현재 상태로는 풀기가 어렵다.(나중에 알아 볼 것이다.)  \n",
    "  \n",
    "-Z에 대해서는   \n",
    "![](https://latex.codecogs.com/gif.latex?-Z%5C%20%5Csim%20%5C%20N%280%2C1%29%5C%20%28%5Cbecause%20symmetry%20%29)  \n",
    "부호를 바꿨기 때문에 확률변수는 음수에서 양수, 양수에서 음수로 바뀌지만 분포는 바뀌지 않는다.  "
   ]
  },
  {
   "cell_type": "markdown",
   "metadata": {},
   "source": [
    "### 정규분포  \n",
    "![](https://latex.codecogs.com/gif.latex?Let%5C%20X%20%3D%20%5Cmu%20&plus;%20%5Csigma%20Z%2C%5C%20%5Cmu%20%5Cin%20%5Cmathbb%7BR%7D%20%5C%20%28mean%2C%5C%20location%29%2C%20%5Csigma%20%3E%200%28%5Csigma%5C%20is%5C%20SD%2C%5C%20scale%29%20%5C%5C%2C%5C%20%5C%20%5C%20Then%5C%20we%5C%20say%5C%20X%20%5Csim%20N%28%5Cmu%2C%5Csigma%5E%7B2%7D%29%20%5C%5C.%20%5C%20%5C%20%5C%20E%28X%29%20%3D%20%5Cmu%2C%5C%20Var%28%5Cmu%20&plus;%20%5Csigma%20Z%29%20%3D%20%5Csigma%5E%7B2%7DVar%28Z%29%20%3D%20%5Csigma%5E%7B2%7D)  \n",
    "μ는 모든 실수고, 평균(mean), 위치(location)이라고 할 수 있다.  \n",
    "μ를 통해서 좌우로 이동하는 것을 뜻한다.  \n",
    "σ는 표준편차(Standard Deviation), 척도(scale)로 불린다.  \n",
    "σ > 0 이어야 하며, 밀도함수를 그릴 때 커브가 얼마나 넓고 좁은지 영향을 미친다.  \n",
    "그래도 항상 정규화상수를 곱해서 면적은 1을 유지하여야 한다.\n",
    "\n",
    "![](https://latex.codecogs.com/gif.latex?%5C%5C%20Var%28X%29%20%3D%20E%28%28X-E%28X%29%29%5E2%29%20%3D%20E%28X%29%5E2%20-%20%28E%28X%29%29%5E2%5C%5C%20Var%28X&plus;c%29%20%3D%20Var%28X%29%5C%5C%20Var%28cX%29%20%3D%20c%5E%7B2%7DVar%28X%29%5C%5C%20Var%28X%29%20%3E%200%5C%20for%5C%20all%5C%20X%2C%5C%20Var%28X%29%20%3D%200%5C%20if%5C%20and%5C%20only%5C%20if%5C%20P%28X%3Da%29%20%3D%201%5C%20for%5C%20some%5C%20a.%5C%5C%20Var%28X&plus;Y%29%20%5Cneq%20Var%28X%29%20&plus;%20Var%28Y%29%5C%20in%5C%20general.%5C%20%5Bequal%5C%20if%5C%20X%2CY%5C%20are%5C%20independent%5D)  \n",
    "ex) V(X+X) = Var(2X) = 4Var(X) ≠ 2Var(X)  "
   ]
  },
  {
   "cell_type": "markdown",
   "metadata": {},
   "source": [
    "정규분포에서 표준정규분포로 바꿔줄 때(**표준화**)  \n",
    "Standard Deviation  \n",
    "![](https://latex.codecogs.com/gif.latex?Z%20%3D%20%5Cfrac%7BX%20-%20%5Cmu%7D%20%7B%5Csigma%7D)"
   ]
  },
  {
   "cell_type": "markdown",
   "metadata": {},
   "source": [
    "정규분포 N(μ,σ^2)의 확률밀도함수(PDF)를 구해보자.  \n",
    "  \n",
    "X ~ N(μ,σ^2)  \n",
    "  \n",
    "![](https://latex.codecogs.com/gif.latex?CDF%20%3A%20P%28X%20%5Cleq%20x%29%20%3D%20P%28%5Cfrac%7BX%20-%20%5Cmu%7D%20%7B%5Csigma%7D%20%5Cleq%20%5Cfrac%7Bx%20-%20%5Cmu%7D%20%7B%5Csigma%7D%20%29%20%3D%20%5CPhi%20%28%5Cfrac%7Bx%20-%20%5Cmu%7D%20%7B%5Csigma%7D%29%20%5C%5C%20%5CRightarrow%5C%20PDF%20%3A%20%5Cfrac%7B1%7D%7B%5Csigma%5Csqrt%7B2%5Cpi%7D%7De%5E%7B-%5Cfrac%20%7B%28%5Cfrac%7BX%20-%20%5Cmu%7D%20%7B%5Csigma%7D%29%5E2%7D%7B2%7D%7D)  \n",
    "  \n",
    "그렇다면 -X는 어떻게 될까?  \n",
    "  \n",
    "-X = -μ + σ(-Z) ~ N(-μ,σ^2)  \n",
    "  \n",
    "나중에 증명할 것이지만,  \n",
    "![](https://latex.codecogs.com/gif.latex?if%5C%20X_j%20%5Csim%20N%28%5Cmu_j%2C%20%28%5Csigma_j%29%5E2%29%20independent%2C%20X_1&plus;X_2%20%5Csim%20N%28%5Cmu_1&plus;%5Cmu_2%2C%20%28%5Csigma_1%29%5E2%20&plus;%20%28%5Csigma_2%29%5E2%29)  \n",
    "독립적인 두 정규분포의 합이 정규분포라는 것을 알아두자.  \n",
    "X_1 - X_2 의 경우에도 X_1 + (-X_2)이며, X_1 + X_2일 경우와 같다.  \n",
    "  \n",
    "Φ함수의 경우 직접 계산하기 힘들다. 그래서!  \n",
    "  \n",
    "**68 - 95 - 99.7% Rule**을 알아보자.  \n",
    "  \n",
    "X ~ N(μ,σ^2)일 때,  \n",
    "![](https://latex.codecogs.com/gif.latex?%5C%5CP%28%7CX-%5Cmu%7C%20%5Cleq%20%5Csigma%29%20%5Capprox%200.68%20%5C%5CP%28%7CX-%5Cmu%7C%20%5Cleq%202%5Csigma%29%20%5Capprox%200.95%20%5C%5CP%28%7CX-%5Cmu%7C%20%5Cleq%203%5Csigma%29%20%5Capprox%200.997)  \n",
    "  \n",
    "![](https://cphinf.pstatic.net/mooc/20180901_298/1535729986483O21uK_PNG/14-1.png)  "
   ]
  },
  {
   "cell_type": "markdown",
   "metadata": {},
   "source": [
    "### 무의식적인 통계학자의 법칙(**L**aw **o**f **t**he **u**nconscious **S**tatistication, **LOTUS**)    \n",
    "  \n",
    "![](https://latex.codecogs.com/gif.latex?%5C%5CPMF%20%3A%20P_0%2C%20P_1%2C%20P_2%2C%20P_3%2C%20...%20%5C%5Cr.v.%5C%20X%3A%200%2C%201%2C%202%2C%203%2C%20...%20%5C%5CX%5E2%5C%20%5C%20%5C%20%5C%20%3A%200%5E2%2C%201%5E2%2C%202%5E2%2C%203%5E2%2C%20...%20%5C%5C%20%5C%5CE%28X%29%20%3D%20%5Csum_%7Bx%7DxP%28X%3Dx%29%20%5C%5CE%28X%5E2%29%20%3D%20%5Csum_%7Bx%7Dx%5E%7B2%7DP%28X%3Dx%29)  \n",
    "E(X^2)의 경우에도 0^2, 1^2,.. 와 같은 숫자들이 될 확률은 변하지 않고 그대로이기 때문에, 확률은 변하지 않는다. (⇒ 이것이 LOTUS가 뜻하는 것)  \n",
    "음수까지 있을 경우 -1, 1의 제곱이 1이 되어, 똑같은 결과가 2개 나오게 되는데, 이또한 LOTUS 적용이 가능하다.  \n",
    "위에서는 양수에 대해서 1대 1로 대응되기 때문에 LOTUS가 적용 가능하다.  \n",
    "  \n",
    "---  \n",
    "그렇다면 이제 포아송분포에 대해서도 한번 보자.  \n",
    "  \n",
    "![](https://latex.codecogs.com/gif.latex?%5C%5CX%20%5Csim%20Pois%28%5Clambda%29%20%5C%5C%20%5C%5CE%28X%5E2%29%20%3D%20%5Csum_%7Bk%3D0%7D%5E%7B%5Cinfty%7Dk%5E%7B2%7D%5Cfrac%7Be%5E%7B-%5Clambda%7D%5Clambda%5E%7Bk%7D%7D%7Bk%21%7D)  \n",
    "이 식을 풀기위해 테일러급수를 이용해보자.    \n",
    "![](https://latex.codecogs.com/gif.latex?%5C%5C%20%5Csum_%7Bk%3D0%7D%5E%7B%5Cinfty%7D%5Cfrac%7B%5Clambda%5E%7Bk%7D%7D%7Bk%21%7D%20%3D%20e%5E%7B%5Clambda%7D%20%5C%5C%5Clambda%5Csum_%7Bk%3D0%7D%5E%7B%5Cinfty%7D%5Cfrac%7B%5Clambda%5E%7Bk%7D%7D%7Bk%21%7D%20%3D%20%5Clambda%20e%5E%7B%5Clambda%7D%20%5C%5C%5Csum_%7Bk%3D1%7D%5E%7B%5Cinfty%7D%5Cfrac%7Bk%5Clambda%5E%7Bk-1%7D%7D%7Bk%21%7D%20%3D%20%5Clambda%20e%5E%7B%5Clambda%7D%20%5C%5C%5Csum_%7Bk%3D1%7D%5E%7B%5Cinfty%7D%5Cfrac%7Bk%5Clambda%5E%7Bk%7D%7D%7Bk%21%7D%20%3D%20%5Clambda%20e%5E%7B%5Clambda%7D%20%5C%5C%5Csum_%7Bk%3D1%7D%5E%7B%5Cinfty%7D%5Cfrac%7Bk%5E%7B2%7D%5Clambda%5E%7Bk-1%7D%7D%7Bk%21%7D%20%3D%20%5Clambda%20e%5E%7B%5Clambda%7D&plus;e%5E%7B%5Clambda%7D%20%3D%20e%5E%7B%5Clambda%7D%28%5Clambda%20&plus;%201%29%20%5C%5C%20%5C%5CE%28X%5E2%29%20%3D%20%5Csum_%7Bk%3D0%7D%5E%7B%5Cinfty%7Dk%5E%7B2%7D%5Cfrac%7Be%5E%7B-%5Clambda%7D%5Clambda%5E%7Bk%7D%7D%7Bk%21%7D%20%3D%20e%5E%7B-%5Clambda%7De%5E%7B%5Clambda%7D%5Clambda%28%5Clambda&plus;1%29%20%3D%20%5Clambda%5E%7B2%7D%20&plus;%20%5Clambda%20%5C%5C%20%5C%5C)  \n",
    "![](https://latex.codecogs.com/gif.latex?%5C%5CVar%28X%29%20%3D%20%5Clambda%5E%7B2%7D%20&plus;%20%5Clambda%20&plus;%20-%5Clambda%5E%7B2%7D%20%3D%20%5Clambda)  \n",
    "  \n",
    "포아송분포는 평균도 λ, 분산도 λ이다!!!  \n",
    "  \n",
    "그리고 표준화(standardization)이 좋은 이유가 다른 단위로 측정된 값이라 하여도 표준화 이후에는 값은 단위가 되기 때문에 비교할 수 있게 해준다.  \n",
    "  \n",
    "---\n",
    "  \n",
    "이번엔 이항분포에 대해서 한번 보자.  \n",
    "X ~ Bin(n, p)일 때, Var(X)는 ?  \n",
    "  \n",
    "![](https://latex.codecogs.com/gif.latex?%5C%5CX%20%3D%20I_1%20&plus;%20...%20&plus;%20I_n%2C%5C%20I_j%20%5Csim%20Bern%28p%29%2C%5C%20I_j%5C%20is%5C%20i.i.d.%20%5C%5C%5C%5C%20X%5E%7B2%7D%20%3D%20I_1%5E%7B2%7D%20&plus;%20...%20&plus;%20I_n%5E%7B2%7D%20&plus;%202I_1I_2%20&plus;%202I_2I_3%20&plus;%20...%20&plus;%202I_%7Bn-1%7DI_n%20%5C%5CE%28X%5E%7B2%7D%29%20%3D%20nE%28%28I_1%29%5E%7B2%7D%29%20&plus;%202%5Cbinom%7Bn%7D%7B2%7DE%28I_1I_2%29%20%3D%20np%20&plus;%20n%28n-1%29p%5E%7B2%7D%20%3D%20np%20&plus;%20n%5E%7B2%7Dp%5E%7B2%7D%20-%20np%5E%7B2%7D%20%5C%5CVar%28X%29%20%3D%20np-np%5E%7B2%7D%3Dnp%281-p%29%20%3D%20npq%5C%20%28q%3D1-p%29)  \n",
    "  \n",
    "이 I_j는 모두 독립항등분포(i.i.d.)이기 때문에,  \n",
    "대칭이므로 E((I_j)^2)는 모두 같고, 이부분은 n \\* E((I_1)^2)으로 n번 곱해주면 된다.  \n",
    "E((I_j)^2)의 경우 베르누이 시행에서 0,1만 나올 수 있기 때문에 I_1의 시행값이나 (I_1)^2의 시행값이나 동일하게 된다.  \n",
    "그리고 E(I_j)는 베르누이 확률변수 p의 기댓값이므로 p가 된다.  \n",
    "I_1I_2의 경우 첫번째 시행과 두번째 시행이 연달아 성공할 확률이며, 시행은 서로 독립적이기 때문에 성공확률 p^2이 된다.\n",
    "  \n",
    "---\n",
    "  \n",
    "#### LOTUS 증명  \n",
    "  \n",
    "이산 표본 공간(discrete sample space)에 대해서 LOTUS를 증명해보자.  \n",
    "  \n",
    "![](https://latex.codecogs.com/gif.latex?%5C%5Cshow%5C%20E%28g%28X%29%29%20%3D%20%5Csum_%7Bx%7Dg%28x%29P%28X%3Dx%29%20%5C%5C%5C%5C%20%5Csum_%7Bx%7Dg%28x%29P%28X%3Dx%29%20%3D%20%5Csum_%7Bs%5Cin%20S%7Dg%28X%28s%29%29P%28%5C%7Bs%5C%7D%29%20%5C%5C%5C%5C%5C%5C%5Csum_%7Bx%7Dg%28x%29P%28X%3Dx%29%20%3A%20grouped%20%5C%5C%5Csum_%7Bs%5Cin%20S%7Dg%28X%28s%29%29P%28%5C%7Bs%5C%7D%29%20%3A%20ungrouped%20%5C%5C%5C%5C%5C%5C%20%5Csum_%7Bx%7D%5Csum_%7BS%3A%20X%28s%29%3D%20x%7Dg%28X%28s%29%29P%28%5C%7Bs%5C%7D%29%20%5C%5C%3D%20%5Csum_%7Bx%7Dg%28x%29%5Csum_%7BS%3A%20X%28s%29%3D%20x%7DP%28%5C%7Bs%5C%7D%29%20%5C%5C%3D%20%5Csum_%7Bx%7Dg%28x%29P%28X%3Dx%29)  \n",
    "  \n",
    "위에서 group된 식은 모든 자갈을 합친 다음 같은 X값을 가지는 자갈들을 그룹화한 것을 의미하며, 묶어서 평균을 계산하는 것이다.\n",
    "ungrouped된 식은 각 자갈에 대해서 g(X(s))를 구하면 각각의 무게 P({s})가 포함된 평균을 구하는 것이다.  \n",
    "  \n",
    "이중합 부분에 있어서  \n",
    "x값에 대한 각 합에 대해서 전체 자갈들의 합을 구하는 것이다.\n",
    "S: X(s)=x 이기 때문에 g(X(s))는 g(x)가 될 것이다. 그리고 g(x)는 s에 대한 값이 아니기에 상수로서 밖으로 보낼 수 있다.  \n",
    "그리고 뒤에 남는 식은 모든 자갈을 각 x에 대한 그룹화된 자갈의 질량의 합이 된다.  \n",
    "그리고 X=x는 사건을 의미한다.  \n"
   ]
  }
 ],
 "metadata": {
  "kernelspec": {
   "display_name": "Python 3",
   "language": "python",
   "name": "python3"
  },
  "language_info": {
   "codemirror_mode": {
    "name": "ipython",
    "version": 3
   },
   "file_extension": ".py",
   "mimetype": "text/x-python",
   "name": "python",
   "nbconvert_exporter": "python",
   "pygments_lexer": "ipython3",
   "version": "3.6.3"
  }
 },
 "nbformat": 4,
 "nbformat_minor": 2
}
