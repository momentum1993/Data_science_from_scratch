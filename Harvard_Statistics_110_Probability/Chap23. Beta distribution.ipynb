{
 "cells": [
  {
   "cell_type": "markdown",
   "metadata": {},
   "source": [
    "# 23강- 베타분포(Beta distribution)"
   ]
  },
  {
   "cell_type": "markdown",
   "metadata": {},
   "source": [
    "### 베타분포  \n",
    "  \n",
    "균등분포의 일반화 (여태까지 교육내용 중 연속적이고 유한한 것은 균등분포 밖에 없었다.) 균등분포의 경우 0부터 1까지 정의되어 0부터 1까지 균등하고, 확률밀도함수가 평평했다.\n",
    "  \n",
    "베타분포는 파라미터들이 있어 여러 분포의 집합이라 할 수 있다.  \n",
    "  \n",
    "![](https://latex.codecogs.com/gif.latex?%5C%5C%20Beta%28a%2Cb%29%5C%20%28a%3E0%2Cb%3E0%29%20%5C%5C%5C%5C%20PDF%3A%20f%28x%29%20%3D%20cx%5E%7Ba-1%7D%281-x%29%5E%7Bb-1%7D%2C%5C%20%5C%20%280%20%3C%20x%3C1%29%2C%5C%20%5C%20c%5C%20is%5C%20normalizing%5C%20constant)  \n",
    "c는 정규화상수이다. 과연 PDF를 0부터 1까지 적분해서 1이 되는 상수 c를 구할 수 있느냐가 중요하다.(PDF의 적분식을 **베타 함수**라고 한다.)  \n",
    "  \n",
    "- 베타분포는 매우 유연한 분포이면서도, 0과 1사이의 연속적인 분포이다.  \n",
    "  (유연하다는 것은 a,b를 바꾸면 분포의 형태를 바꿀 수 있다는 것이다.)  \n",
    "![](https://cphinf.pstatic.net/mooc/20180905_48/1536129663721tN0TT_JPEG/23.jpg)  \n",
    "(1) a = b = 1인 경우  \n",
    "(2) a = 2, b = 1인 경우  \n",
    "(3) a = b = 1/2인 경우  \n",
    "(4) a = b = 2인 경우  \n",
    "  \n",
    "한가지의 형태가 아니기 때문에 모델링 도구로도 많이 이용된다.    \n",
    "  \n",
    "- 베타분포의 핵심적 역할은 확률의 확률로 사용된다는 것이다.  \n",
    "  사전(prior) 분포로 사용될 수 있고, 파라미터는 0과 1사이여야 한다.\n",
    "  \n",
    "- 이항분포에 \"켤레사전분포(conjugate prior)\"로 쓰인다.\n",
    "- 다른 분포와도 잘 연결된다. \n",
    "  \n",
    "  \n",
    "  "
   ]
  },
  {
   "cell_type": "markdown",
   "metadata": {},
   "source": [
    "ex)라플라스의 후속규칙(Laplace Rule of Succession)의 일반화  \n",
    "  \n",
    "여기서 균등사전분포가 아닌 베타사전분포를 쓰면 어떻게 될까?  \n",
    "  \n",
    "이항분포에 대한 \"켤레사전분포\"가 있다.  \n",
    "X | P ~ Bin(n, p),  P ~ Beta(a,b) [prior]  \n",
    "  \n",
    "X는 우리가 관찰할 자료이다.  \n",
    "여기서 P는 사전분포이다.(사전의 불확실성에 대한 확률이며, 실제 확률을 모르기 때문에 확률변수라고 하자. 베이즈의 정리를 이용해서 확률을 다시 계산할 것이다.)\n",
    "\n",
    "→사후 분포 P | X 를 구해보자.  \n",
    "\n",
    "f(p | X = k) 는 사후 확률밀도함수(p가 연속)이며, X값을 안다고 가정하고 p를 구하는 것이다.  \n",
    "  \n",
    "![](https://latex.codecogs.com/gif.latex?%5C%5Cf%28p%20%5Cmid%20X%20%3D%20k%29%20%5C%5C%3D%20%5Cspace%20%5Cfrac%20%7BP%28X%20%3D%20k%20%5Cmid%20p%29f%28p%29%7D%20%7BP%28X%3Dk%29%7D%20%5C%5C%28P%28X%20%3D%20k%20%5Cmid%20p%29f%28p%29%5C%20is%5C%20prior%2C%5C%20P%28X%3Dk%29%5C%20is%5C%20not%5C%20dependent%5C%20on%5C%20p%29%20%5C%5C%5C%5C%3D%20%5Cspace%20%5Cfrac%7B%5Cbinom%7Bn%7D%7Bk%7D%20p%5Ek%20%281-p%29%5E%7Bn-k%7Dcp%5E%7Ba-1%7D%281-p%29%5E%7Bb-1%7D%7D%7BP%28X%3Dk%29%7D%20%5C%5C%5Cpropto%20%5Cquad%20p%5E%7Ba&plus;k-1%7D%281-p%29%5E%7Bb&plus;n-k-1%7D%20%5C%5C%5CRightarrow%20%5Censpace%20P%7CX%20%5Censpace%20%5Csim%20Beta%28a&plus;x%2C%20%5Censpace%20b&plus;n-x%29)  \n",
    "P(X = k | p)f(p)는 p에 대한 함수이지만 p를 모르며,    \n",
    "P(X = k)는 전체 p를 적분했기 때문에 p에 독립적이며, k에 의존적이다.  \n",
    "f(p)는 베타분포의 확률밀도함수.  \n",
    "  \n",
    "위의 식에서 p에 독립적인 상수들을 무시할 경우 비례를 보면  \n",
    "위처럼 P|X는 베타분포를 따른 다는 것을 알 수 있다.  \n",
    "  \n",
    "베타분포에 사전분포, 사후분포를 계산해도 그대로 베타분포이며, 파라미터만 갱신되었다.    \n",
    "이것을 켤레 특성이라고 하는데, 이것이 이항분포의 켤레사전분포이다.    \n",
    "  \n",
    "실험 전 a번의 성공과 b번의 실패를 했는데, 실험 후 X번의 성공과 n-X번의 실패 횟수가 늘었다.       \n",
    "  \n",
    "---  \n",
    "  \n",
    "ex) Bayes' Billiards(베이즈의 당구공)  \n",
    "![](https://latex.codecogs.com/gif.latex?%5C%5CFind%20%5Cdisplaystyle%20%5Cint%20%5E1%20_0%20%7Bn%20%5Cchoose%20k%7D%20x%5Ek%20%281-x%29%5E%7Bn-k%7D%20dx%5C%20without%5C%20using%5C%20calculus%2C%5C%20using%5C%20a%5C%20story%28Bayes%27%5C%20Billiards%29%20%5C%5C)  \n",
    "적분없이 한번 위의 식을 구해보자.  \n",
    "![](https://cphinf.pstatic.net/mooc/20180905_129/1536130400322L5rnr_PNG/23-2.PNG)  \n",
    "n+1개의 흰색 당구공 중 하나를 분홍색으로 칠했다고 하자.  \n",
    "그 다음에 (0,1)에 각 공을 독립적으로 던졌다고 하자. 그러면 공들의 분포는 i.i.d. 균등분포를 따르게 된다.  \n",
    "  \n",
    "→ 그런데 이는 n+1개의 흰색 공을 던진 후에 하나를 분홍색으로 칠하는 것과 마찬가지이다.   \n",
    "\n",
    "X= 분홍색으로 칠해진 공 왼쪽에 있는 공의 갯수, p=분홍색 공의 위치  \n",
    "라고 했을 때,  \n",
    "  \n",
    "![](https://latex.codecogs.com/gif.latex?%5C%5C%20P%28X%20%3D%20k%29%20%5C%5C%20%3D%20%5Cint%20%5E1%20_0%20P%28X%20%3D%20k%20%5Cmid%20p%29f%28p%29dp%20%5C%5C%20%3D%20%5Cint%20%5E1%20_0%20%7Bn%20%5Cchoose%20k%7D%20p%5Ek%20%281-p%29%5E%7Bn-k%7Ddp%5C%20%28%5Cbecause%20f%28p%29%20%3D%201%5C%20%28Unifiorm%5C%20distribution%29%29%20%5C%5C%20%3D%20%5Cfrac%7B1%7D%7Bn&plus;1%7D)  \n",
    "  \n",
    "여기서는 흰색 공이 분홍색 공 왼쪽에 위치하는 것을 성공, 오른쪽에 위치하는 것을 실패로 한 이항분포로 생각.  \n",
    "그리고 1 / n + 1은 공이 더이에 있던 확률이 갖기 때문에 이미 있는 공 n+1개 중 1개에 분홍색을 칠하면 나오는 확률이다.  \n",
    "  \n",
    "이 주장을 통해 특정 베타분포에서 정규화상수를 구할 수 있게 해준다."
   ]
  }
 ],
 "metadata": {
  "kernelspec": {
   "display_name": "Python 3",
   "language": "python",
   "name": "python3"
  },
  "language_info": {
   "codemirror_mode": {
    "name": "ipython",
    "version": 3
   },
   "file_extension": ".py",
   "mimetype": "text/x-python",
   "name": "python",
   "nbconvert_exporter": "python",
   "pygments_lexer": "ipython3",
   "version": "3.6.3"
  }
 },
 "nbformat": 4,
 "nbformat_minor": 2
}
