{
 "cells": [
  {
   "cell_type": "markdown",
   "metadata": {},
   "source": [
    "# 17강- 적률생성함수(Moment Generating Functions) "
   ]
  },
  {
   "cell_type": "markdown",
   "metadata": {},
   "source": [
    "### 무기억성(memoryless property)  \n",
    "→ 이산확률분포는 기하분포, 연속확률분포는 지수분포에서만 적용됨.  \n",
    "  \n",
    "만약 무기억성을 지닌다면 몇몇 응용에서는 현실적이다.\n",
    "한 번 예를 들어보자.  \n",
    "기대수명을 80이라고 했을 때, 문제는 현재 5,60인 사람에게도 80세가 기대수명이라고 하는 것이다.  \n",
    "하지만 사실은 더 오래 살수록 기대수명은 더 길어져야한다.  \n",
    "그래서 수명 E(T)에 대하여, 최소 20년 이상 살 수 있다는 것이라는 조건을 달고\n",
    "E(T) < E(T |T > 20) = 20 + E(T)가 되며, 이는 얼마나 오래 살았던 추가로 평균 80년을 더 살수 있다는 것이다. 하지만 이는 비현실적이며,  \n",
    "진실은 E(T) 와 E(T| T < 20) 사이에 있을 것이다.   \n",
    "이처럼 무기억성이 말이 안된다고 느낄 수도 있지만, 합리적인 근사치가 될 수도 있다.    \n",
    "  \n",
    "그렇다면 이번엔 오직 지수분포에서만 무기억성이 성립한다는 것을 한번 보자.  \n",
    "  \n",
    "X가 양의 확률변수이고 무기억성을 지니고 있으며(즉, X에 대한 분포가 무기억성을 지닌다는 뜻), X ~ Expo(λ) 라고 하자.  \n",
    "  \n",
    "![](https://latex.codecogs.com/gif.latex?%5C%5C%20if%5C%20CDF%5C%20of%5C%20X%3A%20F%20%5Crightarrow%20G%28x%29%20%3D%20P%28X%20%5Cgeq%20x%29%20%3D%201-F%28x%29%2C%20%5C%5C%20G%28s&plus;t%29%3DG%28s%29G%28t%29%20%5Ccdots%20memoryless%20%5C%5C%20when%5C%20s%3Dt%2C%20%5C%5CG%282t%29%20%3D%20G%28t%29%5E2%20%5C%5CG%283t%29%20%3D%20G%282t%29G%28t%29%3DG%28t%29%5E%7B3%7D%20%5C%5C%20%5Ccdots%20%5C%5CG%28kt%29%20%3D%20G%28t%29%5E%7Bk%7D%20%28k%3E0%2C%20k%20%5Cin%20%5Cmathbb%7BR%7D%29%20%5C%5C%20%5C%5CG%28%5Cfrac%7Bt%7D%7B2%7D%29%20%3D%20%5Csqrt%7BG%28t%29%7D%20%5C%5CG%28%5Cfrac%7Bt%7D%7B3%7D%29%3D%20G%28t%29%5E%7B1/3%7D%20%5C%5CG%28%5Cfrac%7Bt%7D%7Bk%7D%29%20%3D%20G%28t%29%5E%7B1/k%7D%3D%20%5C%5CG%28%5Cfrac%7Bmt%7D%7Bn%7D%29%20%3D%20G%28t%29%5E%7Bm/n%7D%20%5C%5C%20%5C%5C%5Crightarrow%20G%28xt%29%20%3D%20G%28t%29%5Ex%5C%20for%5C%20all%5C%20real%5C%20x%3E0%20%5C%5Cwhen%5C%20t%3D1%2C%5C%20G%28x%29%20%3D%20G%281%29%5Ex%20%3D%20%5Clarge%20e%5E%7BxlnG%281%29%7D%3De%5E%7B-%5Clambda%20x%7D%20%5Crightarrow%201%20-%20CDF%5C%20of%5C%20Expo)    \n",
    "  \n",
    "결국 이 값은 1 - 지수분포의 누적분포함수(CDF)가 되며,  \n",
    "지수분포가 유일한 무기억성 분포가 된다.  "
   ]
  },
  {
   "cell_type": "markdown",
   "metadata": {},
   "source": [
    "### 적률생성함수(Moment Generating Function)  \n",
    "  \n",
    "CDF나 PMF처럼 분포를 설명하는 한가지 방법이다.  \n",
    "  \n",
    "#### 정의   \n",
    "확률변수 X가 MGF M(t)를 가질 때,    \n",
    "![](https://latex.codecogs.com/gif.latex?M%28t%29%3DE%28e%5E%7BtX%7D%29)  \n",
    "그런데 왜 적률 '생성(generating)' 함수 일까?  \n",
    "![](https://latex.codecogs.com/gif.latex?E%28e%5E%7BtX%7D%29%20%3D%5Cdisplaystyle%20E%28%20%5Csum%20%5E%5Cinfty%20_%7Bn%3D0%7D%20%5Cfrac%7BX%5En%20t%5En%7D%7Bn%21%7D%29%5C%20%28%5Cbecause%20taylor%5C%20series%29%20%3D%20%5Csum%20%5E%5Cinfty%20_%7Bn%3D0%7D%20%5Cfrac%7BE%28X%5En%29t%5En%7D%7Bn%21%7D)  \n",
    "→ M(t)를 테일러급수를 이용해서 식을 풀었으며, x의 모든 E(X^n)(n차 적률)에 대해서 테일러급수에 적용시켰기 때문에 적률생성함수로 불린다.  \n",
    "  \n",
    "**왜 MGF가 중요한가?**  \n",
    "X가 MGF M(t)를 가지고 있다고 하자.  \n",
    "  \n",
    "(1) n차 적률(moment) E(X^n)은 M의 0에서의 테일러 급수 전개식 내에 t^n/n!의 계수(Coefficient)이다.(즉, 매클로린 급수 안에 있다.)  \n",
    "(테일러급수를 풀 때 n차 적률부분에 0을 대입한 n차 미분 값을 넣는다. → 미분을 한 후 0을 대입)  \n",
    "M의 n차 미분 후 0을 대입하면 n차 적률이 나온다.  \n",
    "![](https://latex.codecogs.com/gif.latex?i.e.%2CM%5E%7B%28n%29%7D%280%29%3DE%28X%5En%29)  \n",
    "  \n",
    "(2) MGF가 분포를 결정하기 때문이다.  \n",
    "i.e., 만약 X,Y가 같은 MGF를 지닌다면, X,Y는 같은 분포(CDF)를 지니게 된다.  \n",
    "  \n",
    "(3) 확률변수 X는 MGF M\\_X, Y는 MGF M\\_Y를 가질 때(X,Y는 독립), X+Y의 기댓값은\n",
    "![](https://latex.codecogs.com/gif.latex?E%28e%5E%7Bt%28X&plus;Y%29%7D%29%3DE%28e%5E%7BtX%7D%29E%28e%5E%7BtY%7D%29%3DM_%7BX%7D%28t%29M_%7BY%7D%28t%29%20%u200B%u200B)\n",
    "를 만족한다. (X, Y는 독립일 때!!)    \n",
    "  \n",
    "  \n",
    "  \n",
    "  \n",
    "  "
   ]
  },
  {
   "cell_type": "markdown",
   "metadata": {},
   "source": [
    "ex1) X ~ Bern(p)일 때, q = 1-p (이항분포)  \n",
    "![](https://latex.codecogs.com/gif.latex?%5C%5CX%20%5Csim%20Bern%28p%29%20%5Crightarrow%20M%28t%29%3DE%28e%5E%7BtX%7D%29%3Dpe%5Et&plus;q%20%5C%5CX%20%5Csim%20Bin%28n%2Cp%29%20%5CRightarrow%20M%28t%29%20%3D%20%28pe%5Et&plus;q%29%5En)  \n",
    "각 X의 베르누이 시행이 독립적일 때, 바로 위의 (3)을 적용하면 M(t)는 베르누이 MGF의 n승이라는 것을 알 수 있다.    \n",
    "  \n",
    "ex2) Z ~ N(0,1)일 때, (정규분포)  \n",
    "![](https://latex.codecogs.com/gif.latex?%5C%5CZ%20%5Csim%20N%280%2C1%29%20%5C%5C%5CRightarrow%20M%28t%29%20%3D%20%5Cdisplaystyle%20%5Cfrac%7B1%7D%7B%5Csqrt%7B2%5Cpi%7D%7D%20%5Cint%20%5E%5Cinfty%20_%7B-%5Cinfty%7D%20e%5E%7B%5Cfrac%7Btz%20-%20z%5E2%7D%7B2%7D%7Ddz%5C%20%28by%5C%20LOTUS%29%20%5C%5C%3D%20%5Cfrac%7B1%7D%7B%5Csqrt%7B2%5Cpi%7D%7D%20%5Ccdot%20e%5E%7B%5Cfrac%7Bt%5E2%7D%7B2%7D%7D%20%5Cint%20%5E%5Cinfty%20_%7B-%5Cinfty%7D%20e%5E%7B%5Cfrac%7B-%28z-t%29%5E2%7D%7B2%7D%7D%20dz%20%5C%5C%5C%5C%3D%20e%5E%7B%5Cfrac%7Bt%5E2%7D%7B2%7D%7D)  \n",
    "정규밀도함수는 1이 되어야하기 때문에 이렇게 나온다.  "
   ]
  },
  {
   "cell_type": "markdown",
   "metadata": {},
   "source": [
    "### ex3) 라플라스의 후속 규칙(Laplace Rule of Succession)  \n",
    "  \n",
    "내일 해가 뜰 확률은??    \n",
    "  \n",
    "![](https://latex.codecogs.com/gif.latex?%5C%5CWhen%5C%20p%5C%20is%5C%20given%2C%20X_1%2CX_2%2C....%20%5Csim%5E%7Biid%7D%20Bern%28p%29%2C%20%5C%5C%20p%20%5Csim%20Unif%280%2C1%29%20%5Ccdots%20prior%20%5C%5CWhen%5C%20S_n%3DX_1&plus;...&plus;X_n%2C%20Sn%7Cp%20%5Csim%20Bin%28n%2Cp%29%2C%5C%20%5C%5Cp%7CS_n%20%5Ccdots%20posterior%20%5C%5C%5C%5C%20probability%20%5Crightarrow%20P%28X_%7Bn&plus;1%7D%3D1%7CS_n%20%3D%20n%29%20%5C%5C%5C%5Cf%28p%7CS_n%20%3D%20k%29%20%3D%20%5Cfrac%7BP%28S_n%20%3D%20k%7Cp%29f%28p%29%7D%7BP%28S_n%20%3Dk%29%7D%28%5Cbecause%20Bayes%27%5C%20theorem%29%20%5Cpropto%20p%5Ek%281-p%29%5E%7Bn-k%7D%20%5C%5Cf%28p%29%3A%5C%20prior%20%28%3D1%29%2C%5C%20P%28S_n%20%3D%20k%29%3A%5C%20not%5C%20conditional.%20does%5C%20not%5C%20depend%5C%20on%5C%20p.%20%5C%5C%5C%5Cf%28p%7CS_n%20%3D%20n%29%20%3D%20%28n&plus;1%29p%5En%5C%20%5Ccdots%20%28*%29%20%5C%5C%5C%5CP%28X_%7Bn&plus;1%7D%20%3D%201%7CS_n%20%3D%20n%29%20%5C%5C%3D%5Cint%20%5E1%20_0%20%28n&plus;1%29p%5Ccdot%20p%5En%20dp%20%5Crightarrow%20expection%5C%20value%5C%20of%5C%20%28*%29%5C%20%3CChap9.%27fundamental%20bridge%27%3E%20%5C%5C%3D%5Cspace%20%5Cdisplaystyle%20%5Cfrac%7Bn&plus;1%7D%7Bn&plus;2%7D)    \n",
    "prior probability: 사전확률 → 라플라스에 의하면 균등분포를 완전한 불확실성을 반영해야 한다고 한다.(완전히 임의적이며, p에 대한 사전지식이 하나도 없어야 한다.)   \n",
    "  \n",
    "S\\_n = X\\_1 + ... + X\\_n이라고 하면,  \n",
    "만약 해가 뜨는 확률 p를 알때, 여기서 가정하는 것은 독립적이며 같은 분포를 따른다는 것이고, 이는 Bin(n,p)를 따른 다는 것을 안다.  \n",
    "하지만 p는 균등분포의 확률변수이다.  \n",
    "  \n",
    "일단 사후분포를 보자.  \n",
    "posterior distribution : 사후분포(P | S\\_n) → 자료를 수집한 후의 분포  \n",
    "그리고 내일 해가 뜰 확률 P(X\\_(n+1) = 1 | S\\_n = n) 은?  \n",
    "  \n",
    "정답은 **베이즈의 정리**를 이용하는 것.  \n",
    "  \n",
    "f는 일반적으로 확률밀도함수(PDF)를 뜻한다. 그리고 p는 연속적이다.  \n",
    "f(p | S_n = k)라는 조건부 확률밀도함수로 어떻게 p에 대한 불확실성을 없앨까?  \n",
    "→ 베이즈의 정리    \n",
    "  \n",
    "유효한 확률밀도함수로서의 f(p | S\\_n = n) = (n+1)p^n 이 되며,  \n",
    "결국 우리가 구해야할 P(X\\_(n+1) = 1 | S\\_n = n)은  \n",
    "분모를 구하지 않고 답을 알수 있게 되었으며, n+1 / n+2 가 된다.  \n",
    "  "
   ]
  }
 ],
 "metadata": {
  "kernelspec": {
   "display_name": "Python 3",
   "language": "python",
   "name": "python3"
  },
  "language_info": {
   "codemirror_mode": {
    "name": "ipython",
    "version": 3
   },
   "file_extension": ".py",
   "mimetype": "text/x-python",
   "name": "python",
   "nbconvert_exporter": "python",
   "pygments_lexer": "ipython3",
   "version": "3.6.3"
  }
 },
 "nbformat": 4,
 "nbformat_minor": 2
}
