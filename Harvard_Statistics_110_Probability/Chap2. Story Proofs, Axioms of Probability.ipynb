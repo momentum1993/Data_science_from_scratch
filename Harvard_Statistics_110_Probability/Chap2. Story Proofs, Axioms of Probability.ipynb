{
 "cells": [
  {
   "cell_type": "markdown",
   "metadata": {},
   "source": [
    "# 2강- 해석을 통한 문제풀이 및 확률의 공리 (Story Proofs, Axioms of Probability)"
   ]
  },
  {
   "cell_type": "markdown",
   "metadata": {},
   "source": [
    "**상식적인 부분을 고려하라.**  \n",
    "**답을 체크 해보아라.(간단하고 극한적인 경우들을 대입해보아라.)**  \n",
    "**문제 풀 때 각 객체에 labeling 하며 풀어본다.**  \n",
    "  \n",
    "ex) 10명으로 이루어진 사람을 6명, 4명으로 팀을 나누는 경우  \n",
    " $$ \\binom{10}{4} = \\binom{10}{6} $$    \n",
    " 10명 중에 4명을 골라 팀을 구성하면 남은 6명으로 다른 팀을 구성 =  \n",
    " 10명 중에 6명을 골라 팀을 구성하면 남은 4명으로 다른 팀을 구성  \n",
    "   \n",
    " 10명의 사람들을 5명, 5명으로 팀을 나누는 경우  \n",
    " $$ \\frac{ \\binom{10} {5} } {2} $$   \n",
    " 10명 중에 5명을 고르게 되면 중복되는 경우가 생기게 되므로 2로 나누어준다.  \n"
   ]
  },
  {
   "cell_type": "markdown",
   "metadata": {},
   "source": [
    "![](https://cphinf.pstatic.net/mooc/20180817_103/1534468198719P5Grq_PNG/image.PNG)"
   ]
  },
  {
   "cell_type": "markdown",
   "metadata": {},
   "source": [
    "#### 복원이 있고, 순서가 상관 없을 경우 어떻게 $\\binom{n+k-1}{k}$ 가 나오는 가 확인해보자.  \n",
    "\n",
    "Extreme case를 한번 넣어보자.  \n",
    "  \n",
    "(극단적 경우) k = 0 => 아무것도 하지 않는다. = $\\binom{n-1}{0}$ = 1가지  \n",
    "(가장 일반적 경우) k = 1 => $\\binom{n}{1}$ = n가지 (순서 유무. 복원 유무 상관 없이 값이 같음) \n",
    "  \n",
    "k = n => $\\binom{n-1}{n}$ = 0가지가 나온다. n-1명 중에서는 n명을 선택할 수 없다. 그리고 정답이 0이 아닌 1이기 때문에 틀림.  \n",
    "  \n",
    "n = 2 일 경우를 한 번 보자.(가장 간단한 형태의 예시)  \n",
    "n = 2 => $ \\binom{k+1}{k} $ = $\\binom{k+1}{1}$ = k+1  \n",
    "A, B 2개 중에 한가지를 k번 선택하는 경우, A는 0 ~ k번 선택받을 수 있고, 나머지 B는 \n",
    "k - A가 선택된 횟수가 된다.\n",
    "그렇기에 0 ~ k 까지 k+1가지가 되며 k+ 1이 맞다는 것을 알 수 있다.  \n",
    "  \n",
    "![](https://cphinf.pstatic.net/mooc/20180819_125/1534689242107eUFyf_PNG/2-1.png)  \n",
    "  \n",
    "→ 일반화: n개의 상자에 k개의 구별 불가능한 object들을 넣을 수 있는 경우의 수는 얼마인가?    \n",
    "  \n",
    "![](https://cphinf.pstatic.net/mooc/20180819_288/1534689593092hotUU_PNG/2-2.png)  \n",
    "  \n",
    "구슬과 같이 실물이 있는 물체는 labeling이 가능하며 서로 구별이 가능하다. 따라서 확률의 naive한 정의로 접근이 가능하다. 하지만 물리학, counting problem에서의 경우에는 object들이 항상 구별 가능한 것이 아니기 때문에 이와 같은 접근이 어렵다.  \n",
    "  \n",
    "동일하게, 구분이 불가능한 입자 k를 구분이 가능한 박스 n개에 넣는 방법을 찾아보도록 해보자.\n",
    "\n",
    "![](https://cphinf.pstatic.net/mooc/20180819_204/1534689844718DEu07_PNG/2-3.png)  \n",
    "  \n",
    "위 문제는 n+k-1개의 위치에 원과 구분선을 배열하는 것과 같다. 원의 위치를 먼저 정하면 구분선의 위치도 결정되고, 그 반대도 성립하게 된다.    \n",
    "  \n",
    " 구분선을 |로 입자를 .로 표시를 한것.  \n",
    " ...||..|.  \n",
    "   \n",
    " k개의 .과 n-1의 |이 있다.  \n",
    " = n+k-1의 공간이 있고 그 중에 .을 놓을 수 있는 k의 공간이 있다.  \n",
    " = n+k-1의 공간이 있고 그 중에 |를 놓을 수 있는 n-1의 공간이 있다.  \n",
    " $$ \\binom{n+k-1}{k} = \\binom{n+k-1}{n-1}$$  \n",
    " \n",
    " \n",
    " \n",
    "  \n",
    "  \n"
   ]
  },
  {
   "cell_type": "markdown",
   "metadata": {},
   "source": [
    "### Story Proof(스토리 증명) : proof by interpretatation 해석에 의한 증명  \n",
    "  \n",
    "ex1) $ \\binom{n}{k} = \\binom{n}{n-k} $  \n",
    "\n",
    "ex2 ) ① $ n \\times \\binom{n-1}{k-1} $ = ②  $k \\times \\binom{n}{k}$  \n",
    "n명 중에 k명을 선택하고 그 중에 한명을 대표로 뽑는다고 생각해보자.  \n",
    "① n명 중에 대표를 한명 뽑은 후, 남은 n-1명 중에 k-1명을 선택하는 방법.  \n",
    "② n명 중에 k명을 선택한 후, k명 중에 한 사람을 대표로 선택하는 방법.  \n",
    "이렇게 같은 것을 다른 방식으로 구할 수 있다.  \n",
    "  \n",
    "위의 식은 맞다고 증명될 수 있다.   \n",
    "  \n",
    "ex3)  \n",
    "Vandermonde Identity(반데르몬드 항등식) \n",
    "$$ \\binom{m+n}{k} = \\large \\sum_{j=0}^{k} {m\\choose j} {n\\choose {k-j}}$$\n",
    "\n"
   ]
  },
  {
   "cell_type": "markdown",
   "metadata": {},
   "source": [
    "![](https://cphinf.pstatic.net/mooc/20180820_116/1534692264365zvS24_PNG/2-4.png)  \n",
    "  \n",
    "m+n명 중에 k명을 선택하는 것.  \n",
    "= 한 그룹에 있는 m명, 다른 그룹에 있는 n명 중 k명을 선택하는 것.  \n",
    "= 한 그룹에 있는 m명 중 j명 선택, 다른 그룹에 있는 n명 중 k-j명 선택하는 것.(단, 0 <= j <= k) 모두 다른 방법을 더해줌.  \n"
   ]
  },
  {
   "cell_type": "markdown",
   "metadata": {},
   "source": [
    "### Non-Naive Definition of Probability(확률의 단순하지 않은 정의)\n",
    "확률공간(Probability space) → S와 P로 구성됨  \n",
    "S = 표본공간  \n",
    "P = 함수    \n",
    "![](https://cphinf.pstatic.net/mooc/20180820_141/1534691393181x9EWC_PNG/2-5.png)  \n",
    ": A probability space consists of S and P, where S is a samplespace(표본공간), and P, a function which takes an event A(subset of S) as input, returns P(A) (단, P(A)는 0과 1사이의 확률) as output,  \n",
    "such that   \n",
    "  \n",
    "(1) $P(\\phi) = 0,  P(S) = 1$  \n",
    "(2) $ P(\\bigcup_{n=1} ^\\infty A_n) = \\sum_{n=1} ^\\infty P(A_n) $ (단, $A_i$, $A_j$는 (disjoint event)서로소이다.)"
   ]
  }
 ],
 "metadata": {
  "kernelspec": {
   "display_name": "Python 3",
   "language": "python",
   "name": "python3"
  },
  "language_info": {
   "codemirror_mode": {
    "name": "ipython",
    "version": 3
   },
   "file_extension": ".py",
   "mimetype": "text/x-python",
   "name": "python",
   "nbconvert_exporter": "python",
   "pygments_lexer": "ipython3",
   "version": "3.6.3"
  }
 },
 "nbformat": 4,
 "nbformat_minor": 2
}
