{
 "cells": [
  {
   "cell_type": "markdown",
   "metadata": {},
   "source": [
    "# 33강- 마코프 체인\\_3(Markov Chains Continued Further) "
   ]
  },
  {
   "cell_type": "markdown",
   "metadata": {
    "collapsed": true
   },
   "source": [
    "### 가역적 마코프 체인의 일반화  \n",
    "  \n",
    "![](https://latex.codecogs.com/gif.latex?%5C%5C%20Edge%5C%20%5C%7Bi%2Cj%5C%7D%5C%20exists%5C%20%5Cleft%5C%7B%5Cbegin%7Bmatrix%7Dyes%20%5Crightarrow%20w_%7Bij%7D%20%5Cge%200%20%5C%5C%20no%5C%20%5Crightarrow%20w_%7Bij%7D%20%3D%200%20%5Cend%7Bmatrix%7D%5Cright.%5C%20%5C%20%2C%5C%20%5Censpace%20w_%7Bij%7D%20%3D%20w_%7Bji%7D%20%5C%5C%5C%5C%20random%5C%20walk%20%3A%5C%20the%5C%20prob.%5C%20from%5C%20state%5C%20i%2C%5C%20go%5C%20to%5C%20j%5C%20%5Cpropto%20w_%7Bij%7D%20%5C%5C%5C%5C%20If%5C%20%5C%7B%20i%2C%20j%20%5C%7D%5C%20is%5C%20an%5C%20edge%2C%5C%20%5Cmathbf%7B%20q_%7Bij%7D%20%3D%20%5Cdfrac%20%7Bw_%7Bij%7D%7D%7B%5Csum%20_k%20w_%7Bik%7D%7D%20%7D%20%5C%5C%5C%5C%20Note%3A%5C%20%5Cunderline%7B%28%5Csum%20_k%20w_%7Bik%7D%20%29%7D%20q_%7Bij%7D%20%3D%20w_%7Bij%7D%20%3D%20w_%7Bji%7D%20%3D%20%28%5Csum%20_k%20w_%7Bjk%7D%29%20q_%7Bji%7D%20%5Cquad%20%5C%5C%5C%5C%20%5CRightarrow%20%5Cmathbf%7B%5Cspace%20s_i%20%5Cpropto%20%5Csum%20_k%20w_%7Bik%7D%7D)  \n",
    "i에서 j로의 이동 확률(q\\_ij)은 i에서 j로의 가중치 / 모든 모서리 가중치의 합이다.  \n",
    "어떠한 상태에서 갈 수 있는 edge들에 대한 가중치의 합으로 차수를 일반화해주었고,  \n",
    "i상태의 정상분포(s\\_i)는 일반화된 차수에 비례한다.  \n",
    "  \n",
    "반대로, 모든 가역적 마코프 체인은 저번 시간에 그린 그래프의 형태로 그릴 수 있다!    \n",
    "  \n",
    "![](https://latex.codecogs.com/gif.latex?%5C%5C%20Let%5C%20%5Cmathbf%7Bw_%7Bij%7D%20%3D%20s_i%20q_%7Bij%7D%3D%20s_jq_%7Bji%7D%20%3Dw_%7Bji%7D%7D%5C%20%28%3D%20reversible%29%2C%20%5C%5C%5C%5C%20P%28X_%7Bn&plus;1%7D%3D%20j%20%7CX_n%20%3D%20i%29%20%5C%5C%20%3D%20%5Cdfrac%20%7Bw_%7Bij%7D%7D%7B%5Csum%20_k%20w_%7Bik%7D%7D%20%3D%20%5Cdfrac%7Bs_i%20q_%7Bij%7D%7D%7B%5Csum%20_k%20s_i%20q_%7Bik%7D%7D%20%3D%20%5Cdfrac%7B%5Cnot%7Bs_i%7D%20q_%7Bij%7D%7D%7B%5Cnot%7Bs_i%7D%5Csum%20_k%20q_%7Bik%7D%7D%20%3D%20%5Cdfrac%7Bq_%7Bij%7D%7D%7B%5Csum%20_k%20q_%7Bik%7D%7D%20%3D%20q_%7Bij%7D%20%5C%20%28%5Cbecause%20%5Csum%20_k%20q_%7Bik%7D%20%3D%201%29)  \n",
    "  "
   ]
  },
  {
   "cell_type": "markdown",
   "metadata": {},
   "source": [
    "### 비가역적 마코프 체인  \n",
    "  \n",
    "→ Google Pagerank 알고리즘: 어떤 순서로 검색 결과를 보여줄 것인가?  \n",
    "\n",
    "초기의 검색 엔진은 박물관의 큐레이터처럼 사람이 직접 추천하거나,  \n",
    "알파벳 순서로 정리해주곤 했다.  \n",
    "이후 검색어의 등장 횟수로 순서를 정해주기도 했지만, 이들은 웹의 구조를 전혀 활용하지 않은 것이다.  \n",
    "  \n",
    "그 이후 웹의 구조를 활용해서 어떤 페이지가 다른 페이지에 많이 연결되어 있다면, 중요한 페이지로 생각하기 시작했다.    \n",
    "하지만 다른 페이지로부터 많이 연결되어 있다고 그 페이지가 중요하다고 할 수 없다. 쓸모 없는 페이지에서 연결된 것일 수도 있기 때문이다.  \n",
    "    \n",
    "그래서 대학원생이던 브린과 페이지는 구글의 PageRank 방법을 생각해냈는데,   \n",
    "페이지의 '중요도'는 그 페이지에 연결된 페이지들이 얼마나 많는지와, 그 연결된 페이지들의 중요도에 의해 결정된다.  \n",
    "  \n",
    "먼저 모든 페이지에 중요도 점수를 줘야하는데,  \n",
    "중요도를 계산할 때 그 페이지로 연결하는 링크의 갯수와 더불어 링크를 가진 페이지들의 중요도도 포함해야 한다. (eigen value, eigen vector)    \n",
    "  \n",
    "![](https://latex.codecogs.com/gif.latex?%5C%5C%20s_j%3D%20%5Cdisplaystyle%20%5Csum%20_i%20s_i%20q_%7Bij%7D%5Censpace%20%5Censpace%20%5Ctherefore%20%5C%20%5Cvec%20s%20%3D%20%5Cvec%20s%20Q)  \n",
    "s\\_i는 웹페이지 i가 받는 점수를 나타낸다고 하자.  \n",
    "즉, 그 페이지로 링크가 있는 모든 페이지의 점수의 합을 뜻한다.  \n",
    "( = 링크를 걸었다는 것은 그 페이지를 추천하는 것이라고 생각하는 것)  \n",
    "그리고 추천자의 점수를 다 더하는 것이다.  \n",
    "  \n",
    "하지만 이에 똑같은 점수를 더하는 것은 문제가 있을 수 있다.\n",
    "(예를 들어, 어떤 페이지가 j번째 페이지로 링크를 1번 걸고, 다른 페이지는 100번 걸 경우 똑같은 점수를 주는 것은 불공평해 보인다.)  \n",
    "  \n",
    "그래서 각 페이지당 추천할 수 있는 페이지 수가 정해져 있어서 1000개의 추천을 할 경우, 1/1000으로 각 추천의 효과를 주어야 할 것이다.    \n",
    "  \n",
    "이러한 역할을 하는 것이 바로 q\\_{ij}이다.    \n",
    "  \n",
    "이를 마르코프 연쇄로 만들 때, 연결되는 링크가 없을 경우 돌아갈 수 있도록  \n",
    "각 페이지에 대해서 똑같은 확률로 가중치를 주는 것이다.    \n",
    "  \n",
    "만약, s가 정규화되었다면, 벡터 s는 랜덤하게 웹서핑하는 것을 나타내는 **정상 분포(Stationary distribution)**이다.  \n",
    "  \n",
    "그래서 긴 시간동안 웹 서핑을 한다고 할 경우, 정상 분포는 각 상태(페이지)에 있을 확률 분포로, 해당 페이지에서 쓴 시간이 차지하는 비율이다.    \n",
    "  \n",
    "이를 마르코프 체인으로 해석해보자.    \n",
    "  \n",
    "구글 체인은 2개의 마르코프 체인을 섞는다.  \n",
    "  \n",
    "![](https://latex.codecogs.com/gif.latex?%5C%5C%20G%20%3D%20%5Calpha%20Q%20&plus;%20%281-%5Calpha%29%20%5Cfrac%7BJ%7D%7BM%7D) M은 전체 페이지의 수이고, J는 1로 채워진 M x M 행렬, α는 0 < α < 1 를 만족하는 상수.  \n",
    "\n",
    "→ 이는 α의 확률로 이미있는 페이지의 링크를 무작위로 누르거나,  \n",
    "1-α의 확률로 이미 있는 링크가 아닌 무작위로 새로운 페이지로 순간이동(teleportation)을 한다. ( J/M은 마르코프체인의 전이행렬(Transition Matrix)으로 'teleportation' 항 )\n",
    "  \n",
    "구글의 논문에서는 α를 0.85로 잡음 (이유는 모르겠다.)  \n",
    "  \n",
    "링크를 통해 한 페이지에서 어떤 페이지로 가는데 오래 걸릴 수도 있고, 만약 링크가 끝난다면 못 갈수도 있다. \n",
    "→ (1−α) M/J 으로 한 번에 다른 페이지로 순간이동할 수 있도록 해주며, 이를 통해 irreducible(기약)을 보장해주며, 전이행렬 G에 0이 없어진다.  \n",
    "  \n",
    "그런데 이것을 계산하려고 하면, 비가역이기 때문에 정상 분포를 구한 것처럼 하기 쉽지 않다. 그렇다고 가우스 소거법으로 행렬을 풀려고 하면 복잡해진다.  \n",
    "  \n",
    "그래서 이 체인이 정상 분포로 수렴한다는 것을 이용해서 풀어보자.(해답의 근사)  \n",
    "오랜 기간동안 체인을 계속해서 따라가 보자.    \n",
    "  \n",
    "벡터 t를 초기 확률벡터라고 할 때 (t는 시간이 0일 때의 PMF(확률질량함수)),   \n",
    "![](https://latex.codecogs.com/gif.latex?%5C%5C%20One%5C%20step%5C%20ahead%2C%20%5C%5C%20%5Cvec%20t%20G%3D%20%5Calpha%20%5Cvec%20t%20%5Cunderline%7BQ%7D%20&plus;%20%281-%20%5Calpha%20%29%20%5Cunderline%7B%5Cvec%20t%20%5Cdfrac%7BJ%7D%7BM%7D%7D%20%5C%5C%5C%5C%20Q%5C%20is%5C%20sparse%5C%20matrix%5C%20%28mostly%5C%200%27s%29%5C%20%2C%20%5Censpace%20%5Cvec%20t%20J%20%3D%20%281%20%5Cspace%201%5Cspace...%5Cspace1%29%20%5C%5C%5C%5C%20%5Cvec%20tG%2C%20%5Cspace%5Cvec%20t%20G%5E2%2C%20...%5C%20%2C%20%5Cspace%5Cvec%20t%20G%5En%2C%20...%20%5Crightarrow%20Pagerank%5C%20Vector)  \n",
    "Q는 웹의 모든 링크 구조를 지니고 있으며, 0이 엄청 많을 것이다.(= sparse)  \n",
    "벡터 tㆍJ 는 행벡터와 열벡터의 내적이다. t의 요소를 다 더하면 1이기 때문에  \n",
    "tㆍJ는 모두 1이 된다.  \n",
    "그래서 벡터 tㆍG^n에서 n을 무한대로 보내면, 정상 분포로 수렴하고 이는 페이지랭크의 벡터가 될 것이다.  \n",
    "  \n",
    "  \n",
    "  \n",
    "  \n",
    "  \n",
    "  \n",
    "  \n",
    "  \n",
    "  \n",
    "  "
   ]
  }
 ],
 "metadata": {
  "kernelspec": {
   "display_name": "Python 3",
   "language": "python",
   "name": "python3"
  },
  "language_info": {
   "codemirror_mode": {
    "name": "ipython",
    "version": 3
   },
   "file_extension": ".py",
   "mimetype": "text/x-python",
   "name": "python",
   "nbconvert_exporter": "python",
   "pygments_lexer": "ipython3",
   "version": "3.6.3"
  }
 },
 "nbformat": 4,
 "nbformat_minor": 2
}
