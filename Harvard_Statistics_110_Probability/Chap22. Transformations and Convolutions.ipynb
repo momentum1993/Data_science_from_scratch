{
 "cells": [
  {
   "cell_type": "markdown",
   "metadata": {},
   "source": [
    "# 22강- 변수변환과 합성곱(Transformations and Convolutions)"
   ]
  },
  {
   "cell_type": "markdown",
   "metadata": {},
   "source": [
    "### 초기하분포 HyperGeo(w, b, n)HyperGeo(w,b,n)의 분산 구하기  \n",
    "  \n",
    "![](https://latex.codecogs.com/gif.latex?%5C%5C%20Hypergeom%28w%2Cb%2Cn%29%2C%5C%20p%20%3D%20%5Cfrac%7Bw%7D%7Bw&plus;b%7D%2C%5C%20w&plus;b%20%3D%20N%20%5C%5C%20X_j%20%3D%20jth%5C%20ball%5C%20is%5C%20white%20%5C%5C%20Var%28%5Csum_%20%7Bj%3D1%7D%5E%7Bn%7D%20X_j%20%29%20%5C%5C%20%3D%20Var%28X_1%29%20&plus;%20...%20&plus;%20Var%28X_n%29%20&plus;%202%5Csum_%7Bi%3Cj%7DCov%28X_i%2C%20X_j%29%20%5C%5C%20%3D%20nVar%28X_1%29%20&plus;%202%5Cbinom%7Bn%7D%7B2%7DCov%28X_1%2C%20X_2%29%5C%20%28%5Cbecause%20symmetry%29%20%5C%5C%20%3D%20np%281-p%29%20&plus;%202%5Cbinom%7Bn%7D%7B2%7D%28%5Cfrac%7Bw%7D%7Bw&plus;b%7D%20%5Ccdot%20%5Cfrac%7Bw-1%7D%7Bw&plus;b-1%7D%20-%20p%5E2%29%20%5C%5C%20%28%5Cbecause%20Cov%28X_1%2C%20X_2%29%20%3D%20E%28X_1X_2%29%20-%20E%28X_1%29E%28X_2%29%29%20%5C%5C%20%3D%20%5Cfrac%7BN-n%7D%7BN-1%7Dnp%281-p%29%20%28%5Cfrac%7BN-n%7D%7BN-1%7D%20%3A%20finite%5C%20population%5C%20correction%29%20%5C%5C%20Extreme%5C%20Case%5C%20%29%5C%20%5Cleft%5C%7B%5Cbegin%7Bmatrix%7D%20n%3D1%3A%5C%20%5C%20%5C%20%5C%20%5C%20%5C%20%5C%20%5C%20%5C%20%5C%20%5C%20%5C%20%5C%20np%281-p%29%20%28%5Cbecause%20there%5C%20is%5C%20no%5C%20replace%29%5C%5C%20N%5C%20pretty%5C%20larger%5C%20than%5C%20n%20%3A%201%20%28similar%5C%20with%5C%20Var%28X%29%5C%20of%5C%20X%20%7E%20Bin%28n%2Cp%29%29%20%5Cend%7Bmatrix%7D%5Cright.)  \n",
    "\n",
    "보통 모집단의 갯수를 N, 표본집단의 갯수를 n으로 둔다.  \n",
    "  \n",
    "위의 (N-n/N-1)np(1-p)에서  \n",
    "→N-n/N-1는 비복원에 따른 조정값(통계학에서 유한모집단 수정(finite population correction)), np(1-p)는  Bin(n,p)의 분산  \n",
    "\n",
    "그리고 극단적인 예시에서  \n",
    "n = 1일 경우,  \n",
    "공 하나만 뽑는다면 대체(복원추출, replace)를 하든 말든 상관이 없기에 공 하나의 (흰색, 검은색) 베르누이 시행에 대한 분산이다.  \n",
    "표본 n이 모집단 N에 비해 굉장히 작을 경우,  \n",
    "예를 들어 N = 1000000, n = 20이라고 하면, \n",
    "대체를 할 경우 같은 것을 고를 확률이 굉장히 낮아지며, 표본에 같은 사람이 2번 포함될 확률은 이미 낮아진다.  그래서 이항분포와 비슷해지는 것이다. 그래서 1에 가까워진다.  \n",
    "  \n",
    "  \n",
    "  "
   ]
  },
  {
   "cell_type": "markdown",
   "metadata": {},
   "source": [
    "### 변수변환(Change of Variables)  \n",
    "  \n",
    "Transformations  \n",
    "Theorem )  \n",
    "![](https://latex.codecogs.com/gif.latex?%5C%5C%20X%5C%20is%5C%20continuous%5C%20r.v.%5C%20with%5C%20PDF%5C%20f_X%2C%5C%20Y%20%3D%20g%28X%29%2C%20%5C%5C%20where%5C%20g%5C%20is%5C%20differentiable%2C%5C%20striclty%5C%20increasing%20%5C%5C%20Then%2C%5C%20the%5C%20PDF%5C%20of%5C%20Y%5C%20is%20%5C%5C%20given%5C%20by%5C%20f_Y%28y%29%20%3D%20f_X%28x%29%5Cfrac%7Bdx%7D%7Bdy%7D%5C%20where%5C%20y%3Dg%28x%29%2C%5C%20x%20%3D%20g%5E%7B-1%7D%28y%29%2C%5C%20%5Cfrac%7Bdx%7D%7Bdy%7D%3D%28%5Cfrac%7Bdy%7D%7Bdx%7D%29%5E%7B-1%7D%20%5C%5C%20and%5C%20this%5C%20is%5C%20written%5C%20in%5C%20terms%5C%20of%5C%20y.)  \n",
    "dx/dy = (dy/dx)^-1 미분의 기본.  \n",
    "g(x) = x^2는 굉장히 좋은 함수이지만 0 이하 에서는 증가함수라는 조건을 만족할 수 없다.  \n",
    "그래서 이러한 함수의 대입에는 가정의 확인이 필수적이다.  \n",
    "  \n",
    "Proof ) 누적분포함수(CDF)를 찾아서 미분해서 확률밀도함수(PDF)를 찾는 것.  \n",
    "![](https://latex.codecogs.com/gif.latex?%5C%5C%20CDF%5C%20of%5C%20Y%3A%20F_Y%28y%29%20%3D%20P%28Y%20%5Cle%20y%29%20%3D%20P%28g%28X%29%20%5Cle%20y%29%20%5C%5C%20%3D%20P%28X%20%5Cle%20g%5E%7B-1%7D%28y%29%29%5C%20%28%5Cbecause%20inverse%29%20%3D%20F_X%28g%5E%7B-1%7D%28y%29%29%20%3D%20F_X%28x%29%20%5C%5C%20PDF%20%5CRightarrow%20f_Y%28y%29%20%3D%20f_X%28x%29%20%5Cfrac%7Bdx%7D%7Bdy%7D%20%5Ccdots%20%3CChain%5C%20Rule%3E)  \n",
    "  \n",
    "ex) Log Normal(로그를 취한 값이 정규분포를 따른다는 것)  \n",
    "![](https://latex.codecogs.com/gif.latex?%5C%5C%20Y%20%3D%20e%5E%7BZ%7D%2C%5C%20Z%20%5Csim%20N%280%2C1%29%20%5C%5C%20PDF%20%5CRightarrow%20f_Y%28y%29%20%3D%20f_Z%28z%29%5Cfrac%7Bdy%7D%7Bdz%7D%20%5C%5C%20%5Cfrac%20%7Bdy%7D%7Bdz%7D%20%3D%20e%5Ez%20%3D%20y%20%5C%5C%20PDF%5C%20of%5C%20Y%20%3Af_Y%28y%29%20%3D%20%5Cfrac%7B1%7D%7B%5Csqrt%7B2%5Cpi%7D%7D%20e%5E%7B%5Cfrac%7B-%28lny%29%5E2%7D%7B2%7D%7D%20%5Ccdot%20%5Cfrac%7B1%7D%7By%7D%2C%28y%3E0%29)  \n",
    "  \n",
    "  \n",
    "  \n",
    "  "
   ]
  },
  {
   "cell_type": "markdown",
   "metadata": {},
   "source": [
    "### R^n에서의 변수 변환 (Multidimensional Transformations)  \n",
    "  \n",
    "![](https://latex.codecogs.com/gif.latex?%5C%5C%20%5Cvec%20Y%20%3D%20g%28%5Cvec%20X%29%2C%20%5C%20g%3A%20%5CLarge%20R%5En%20%5Crightarrow%20R%5En%3B%20%5C%5C%20%5Cvec%20X%20%3D%20%28X_1%2C%20...%2C%20X_n%29%20%5C%5C%5C%5C%20joint%5C%20PDF%5C%20of%5C%20%5Cvec%20Y%20%3A%20%5C%5C%20f_%7B%5Cvec%20Y%7D%28%5Cvec%20y%29%20%3D%20f_%7B%5Cvec%20X%7D%28%5Cvec%20x%29%20%5CLarge%20%5Cmid%20%5Cfrac%7Bd%20%5Cvec%20x%7D%7Bd%20%5Cvec%20y%7D%20%5Cmid%20%28%5Crightarrow%20%5CLarge%20%5Cmid%20%5Cfrac%7Bd%5Cvec%20x%7D%7Bd%20%5Cvec%20y%7D%20%5Cmid%5C%20%3A%20abs%5C%20of%5C%20Jacobian%27s%5C%20determinant%29%29)  \n",
    "확률벡터는 확률변수의 목록이며, X벡터는 연속적이다. → 결합 확률밀도함수(joint PDF)\n",
    "위의 식은 Y의 결합 확률밀도함수를 X의 결합 확률밀도함수에 대해 나타낸 것.  \n",
    "  \n",
    "자코비안식의 절댓값 기호는 행렬식의 절댓값을 의미한다.  \n",
    "  \n",
    "![](https://cphinf.pstatic.net/mooc/20180904_185/1536060129726v9X71_PNG/22-1.png)  \n",
    "Jacobian  \n",
    "가능한 모든 편미분의 행렬식(위의 그림 참고)  \n",
    "    \n",
    "![](https://latex.codecogs.com/gif.latex?%5C%5C%20%5CLarge%20%5Cmid%20%5Cfrac%7Bd%5Cvec%20x%7D%7Bd%20%5Cvec%20y%7D%20%5Cmid%20%3D%20det%20%5CLarge%28%20%5Cfrac%7Bd%20%5Cvec%20x%7D%7Bd%20%5Cvec%20y%7D%20%29%2C%20%5C%20%5C%20%5C%20%5CLarge%20%5Cmid%20%5Cfrac%7Bd%5Cvec%20y%7D%7Bd%20%5Cvec%20x%7D%20%5Cmid%20%5E%7B-1%7D%20%3D%20%5CLarge%20%5Cmid%20%5Cfrac%7Bd%5Cvec%20x%7D%7Bd%20%5Cvec%20y%7D%20%5Cmid)    \n",
    "그리고 일차식에서와 마찬가지로 위의 역함수가 성립한다.    \n",
    "  \n",
    "  \n",
    "  \n",
    "  "
   ]
  },
  {
   "cell_type": "markdown",
   "metadata": {},
   "source": [
    "### 합성곱(Convolution): 확률변수의 합  \n",
    "  \n",
    "확률변수의 합의 분포를 구하는 것이다.  \n",
    "  \n",
    "T = X+Y라 할 때, (X,Y는 독립) T의 분포를 알고 싶다.    \n",
    "  \n",
    "![](https://latex.codecogs.com/gif.latex?%5C%5C%20discrete%20%5Crightarrow%20PMF%29%5C%5C%20P%28T%3Dt%29%20%3D%20%5Csum%20_x%20P%28X%20%3D%20x%29P%28Y%20%3D%20t-x%29%20%5C%5C%5C%5C%20continuous%20%5Crightarrow%20PDF%29%5C%5C%20f_T%28t%29%20%3D%20%5Cint%20%5E%5Cinfty%20_%7B-%5Cinfty%7D%20f_X%28x%29%20f_Y%28t-x%29dx%20%5C%5C%20F_T%28t%29%5C%20%28%3D%20CDF%5C%20of%5C%20T%29%20%5C%5C%20%3D%20P%28T%20%5Cle%20t%29%20%5C%5C%20%3D%5Cint%20%5E%5Cinfty%20_%7B-%20%5Cinfty%20%7DP%28X&plus;Y%20%5Cle%20t%20%5Cmid%20X%3Dx%29f_X%28x%29dx%20%5C%5C%20%3D%20%5Cdisplaystyle%20%5Cint%20%5E%5Cinfty%20_%7B-%20%5Cinfty%20%7DF_Y%28t%20-%20x%29f_X%28x%29dx)  \n",
    "미분과 적분의 위치를 바꿀 수 있다는 정리를 이용해서\n",
    "미분 후에 적분을 적용해보자.  \n",
    "![](https://latex.codecogs.com/gif.latex?%5C%5C%20%5Crightarrow%20f_T%28t%29%20%3D%20%5Cdisplaystyle%20%5Cint%20%5E%5Cinfty%20_%7B-%5Cinfty%7D%20f_X%28x%29%20f_Y%28t-x%29dx)  \n",
    "  "
   ]
  },
  {
   "cell_type": "markdown",
   "metadata": {},
   "source": [
    "### Shannon's Theorem\n",
    "\n",
    "https://en.wikipedia.org/wiki/Noisy-channel_coding_theorem\n",
    "\n",
    "\"모든 object에 어떠한 '점수'가 있다고 했을 때, '좋은' 점수(평균 이상의 점수)를 가진 object가 적어도 한 개가 있을 것이다\"\n",
    "\n",
    "ex) 100명의 사람들과 15개의 위원회가 있고, 한 사람당 3개의 위원회에 속해 있을 때(한 위원회 당 20명), 3명 이상의 회원이 겹치는 위원회들이 존재한다는 것을 보여라.   \n",
    "\n",
    "→ 두 위원회 간 겹치는 회원 수의 기댓값을 구하여라 \n",
    "\n",
    "![](https://latex.codecogs.com/gif.latex?%5C%5C%20E%28overlap%29%20%3D%20100%20%5Ccdot%20%5Cfrac%20%7B%5Cbinom%7B3%7D%7B2%7D%7D%7B%5Cbinom%7B15%7D%7B2%7D%7D%20%3D%20%5CLarge%20%5Cfrac%7B20%7D%7B7%7D)\n",
    "\n",
    "⇒ 따라서, 겹치는 회원 수가 3명 이상(20 / 7 ≈ 3)인 위원회들이 존재한다.  "
   ]
  }
 ],
 "metadata": {
  "kernelspec": {
   "display_name": "Python 3",
   "language": "python",
   "name": "python3"
  },
  "language_info": {
   "codemirror_mode": {
    "name": "ipython",
    "version": 3
   },
   "file_extension": ".py",
   "mimetype": "text/x-python",
   "name": "python",
   "nbconvert_exporter": "python",
   "pygments_lexer": "ipython3",
   "version": "3.6.3"
  }
 },
 "nbformat": 4,
 "nbformat_minor": 2
}
