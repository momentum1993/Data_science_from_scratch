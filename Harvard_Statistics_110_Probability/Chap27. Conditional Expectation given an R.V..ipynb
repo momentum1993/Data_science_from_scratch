{
 "cells": [
  {
   "cell_type": "markdown",
   "metadata": {},
   "source": [
    "# 27강- 조건부 기댓값\\_3(Conditional Expectation given an R.V.)"
   ]
  },
  {
   "cell_type": "markdown",
   "metadata": {},
   "source": [
    "### 조건부 기댓값  \n",
    "  \n",
    "ex) 정규분포에 대한 예시  \n",
    "![](https://latex.codecogs.com/gif.latex?%5C%5C%20When%5C%20X%20%5Csim%20N%280%2C1%29%2C%20%5Censpace%20Y%20%3D%20X%5E2%2C%20%5C%5C%5C%5C%20E%28Y%7CX%29%20%3D%20E%28X%5E2%7CX%29%20%3D%20X%5E2%20%3D%20Y%20%5C%5C%5C%5C%20E%28X%7CY%29%20%3D%20E%28X%7CX%5E2%29%20%3D%200%20%5C%5C%20%28When%5C%20X%5E2%3D%20a%2C%5C%20X%20%3D%20%5Cpm%20%5Csqrt%7Ba%7D%20%5Cspace%5C%20and%5C%20each%5C%20value%5C%20has%5C%20same%5C%20probability%29)   \n",
    "  \n",
    "---  \n",
    "  \n",
    "ex) 막대가 1개 있다고 하자. 이 길이가 1인 막대를 무작위로 부러뜨려서, 하나의 조각을 갖고 나머지는 버리는 과정을 반복할 때  \n",
    "![](https://cphinf.pstatic.net/mooc/20180909_46/1536487651637IgCFN_PNG/27-1.PNG)  \n",
    "길이가 1인 나뭇가지를 부러뜨릴 때, 부러진 나뭇가지의 길이 X  \n",
    "  \n",
    "![](https://latex.codecogs.com/gif.latex?%5C%5C%20X%20%5Csim%20Unif%280%2C%201%29%20%5C%5C%20Y%7CX%20%5Csim%20Unif%280%2CX%29%20%5C%5C%5C%5C%20E%28Y%7CX%20%3D%20x%29%20%3D%20%5Cspace%20%5Cdisplaystyle%20%5Cfrac%7Bx%7D%7B2%7D%20%5Cquad%20%5Crightarrow%20%5Cspace%20E%28Y%7CX%29%20%3D%20%5Cfrac%7BX%7D%7B2%7D%20%5C%5C%20E%28E%28Y%7CX%29%29%20%3D%20%5Cspace%20%5Cdisplaystyle%20%5Cfrac%7B1%7D%7B4%7D%20%3D%20E%28Y%29)  \n",
    "처음 부러뜨린 지점이 X이고, Y는 0과 X 사이에서 균등하게 무작위로 뽑는다.  \n",
    "그래서 E(Y|X) = X/2가 된다.    \n",
    "E(Y|X)는 확률변수이며, X의 함수이다.    \n",
    "그리고 E(Y|X)의 기댓값 E(E(Y|X)) = 1/4 가 된다.  "
   ]
  },
  {
   "cell_type": "markdown",
   "metadata": {},
   "source": [
    "### 조건부 기댓값의 성질  \n",
    "  \n",
    "![](https://latex.codecogs.com/gif.latex?%5C%5C%20%281%29%20E%28h%28X%29Y%7CX%29%20%3D%20h%28X%29E%28Y%7CX%29)  \n",
    "X에 대해서 알게 된다면 h(X)는 상수가 되고, 앞으로 뺄 수 있게 된다.    \n",
    "![](https://latex.codecogs.com/gif.latex?%5C%5C%20%282%29%5C%20E%28Y%7CX%29%20%3D%20E%28Y%29%5C%20if%5C%20X%2CY%5C%20are%5C%20independent.)  \n",
    "X, Y가 독립이라면, X라는 조건이 있던 없던 종속적이지 않기 때문에 E(Y)는 동일하다.\n",
    "![](https://latex.codecogs.com/gif.latex?%5C%5C%20%283%29%20E%28E%28Y%7CX%29%29%3D%20E%28Y%29%20%5Cspace%20%3CIterated%5C%20Expectation/Adam%27s%5C%20Law%3E%20%5C%5C%5C%5C%20proof%29%5C%20%5Bdiscrete%5D%5C%20When%5C%20E%28Y%7CX%29%20%3D%20g%28X%29%2C%20%5C%5C%5C%5C%20E%28g%28X%29%29%20%5C%5C%5C%5C%3D%20%5Cspace%20%5Cdisplaystyle%20%5Csum%20_x%20g%28x%29P%28X%3Dx%29%5C%20%28%5Cbecause%20LOTUS%29%20%5C%5C%5C%5C%3D%20%5Csum%20_x%20E%28Y%7CX%3Dx%29P%28X%3Dx%29%5C%20%28%5Cbecause%20g%28x%29%20%3D%20E%28Y%7CX%3Dx%29%29%20%5C%5C%5C%5C%3D%20%5Cspace%20%5Cdisplaystyle%20%5Csum%20_x%20%28%5Csum%20_y%20yP%28Y%20%3D%20y%7CX%20%3D%20x%29%29P%28X%3Dx%29%20%5C%5C%5C%5C%3D%20%5Cspace%20%5Cdisplaystyle%20%5Csum_y%20%5Csum_x%20y%20P%28Y%3Dy%2C%20X%3Dx%29%20%5C%5C%28%5Cbecause%20joint%5C%20PMF%3DConditional%5C%20PMF%5C%20%5Ctimes%5C%20marginal%5C%20PMF%29%20%5C%5C%5C%5C%3D%20%5Csum_yP%28Y%3Dy%29%20%5Crightarrow%20Marginal%5C%20PMF%5C%20of%5C%20Y%20%5C%5C%3D%20E%28Y%29)  \n",
    "사실 3번의 경우 전체 확률의 법칙을 일반화한 것.    \n",
    "여러 X를 모아서 문제를 간단히 한 후에 그 기댓값을 구하는 것.  \n",
    "![](https://latex.codecogs.com/gif.latex?%5C%5C%20%284%29%20E%28%28Y-E%28Y%7CX%29%29h%28X%29%29%20%3D%200)  \n",
    "실제 Y값과 예측 값이 차이(residual)의 기댓값에 X에 관한 임의의 함수를 곱하면 0이 된다.    \n",
    "→ 즉, Y- E(Y|X)와  h(X)는 무상관(uncorrelated)이라는 것  \n",
    "그래서 이 둘의 공분산을 구해보면 위의 식과 같다.  \n",
    "  \n",
    "![](https://latex.codecogs.com/gif.latex?%5C%5C%20Cov%28Y-E%28Y%7CX%29%2C%20%5Cspace%20h%28X%29%29%20%5C%5C%3D%20E%28%28Y-E%28Y%7CX%29%29h%28X%29%29%20-%20E%28Y-E%28Y%7CX%29%29E%28h%28X%29%29%20%5C%5C%3D%20E%28%28Y-E%28Y%7CX%29%29h%28X%29%29%5C%20%28%5Cbecause%20E%28Y-E%28Y%7CX%29%29E%28h%28X%29%29%20%3D%200%20%5Crightarrow%20Linearity%29)  \n",
    "  \n",
    "![](https://cphinf.pstatic.net/mooc/20180909_289/1536497819434opoHX_PNG/27-2.PNG)  \n",
    "Y라는 점이 있고, 밑의 평면은 X에 관한 가능한 함수 모두로 구성된다.  \n",
    "즉, 확률변수 X의 집합이 된다.    \n",
    "그리고 Y를 평면에 사영시키면 E(Y|X)가 되며, 이는 X에 대한 함수가 된다.    \n",
    "E(Y|X)는 Y와 X가 가장 가까운 거리이며, 이는 만약 Y가 X에 대한 함수라면 E(Y|X) = E(Y)라는 것이다.    \n",
    "만약 Y가 X에 대한 함수가 아니라면 어떤 측면에서 Y와 가장 가까운 X의 함수가 될 것이다.  \n",
    "그리고 \\<X, Y\\>(X,Y의 내적) = E(XY)이다.     \n",
    "위의 그림에서의 가정은 유한 분산을 가진다는 것이다.    \n",
    "  \n",
    "(4)번 특성의 경우 그림에서 Y-E(Y|X)(residual, 잔차)를 나타내는 벡터가 확률변수 X에 대한 평면이 수직하다는 것(그래서 내적값이 0이 되는 것)   \n",
    "  \n",
    "![](https://latex.codecogs.com/gif.latex?%5C%5C%20proof%29%5C%20E%28%28Y-E%28Y%7CX%29%29h%28X%29%29%20%5C%5C%5C%5C%20%3D%20E%28Yh%28X%29%29-E%28E%28Y%7CX%29h%28X%29%29%20%5C%5C%20%3D%20E%28Yh%28X%29%29-%20E%28E%28Yh%28X%29%7CX%29%20%5Cquad%20%5Ccdots%20%281%29%20%5C%5C%20%3D%20E%28Yh%28X%29%29%20-%20E%28Yh%28X%29%29%20%5Cqquad%20%5Ccdots%20%283%29%20%5C%5C%20%3D0)  \n",
    "  \n",
    "여기서 잠깐.  \n",
    "조건부 기댓값에 대해 알고 있으니, 조건부 분산의 정의를 잠시 보자.\n",
    "![](https://latex.codecogs.com/gif.latex?%5C%5C%20Var%28Y%7CX%29%20%3D%20E%28Y%5E2%7CX%29%20-%20%7B%28E%28Y%7CX%29%29%7D%5E2%20%3D%20E%28%7B%28Y-E%28Y%7CX%29%29%7D%5E2%7CX%29)  \n",
    "  \n",
    "그리고 다시 조건부 기댓값의 특성으로 돌아와  \n",
    "  \n",
    "![](https://latex.codecogs.com/gif.latex?%5C%5C%20%285%29%5C%20Var%28Y%29%20%3D%20E%28Var%28Y%7CX%29%29&plus;Var%28E%28Y%7CX%29%29%20%5Cspace%20%5C%20%5C%20%3CEVE%27s%5C%20Law%3E)  \n",
    "  \n",
    "(5)번 특성은 Y의 분산을 구하기 싶을 때, 조건부를 써서 더 쉽게 만들어 주는 것.    \n",
    "이것은 전체 분산의 법칙(Eve's Law)라고 한다.  \n",
    "Var(Y) = 특정그룹 안의 분산의 평균 + 특정 그룹의 평균의 분산\n",
    "  \n",
    "---  \n",
    "  \n",
    "ex) 도시를 무작위로 골라서  n 명의 표본을 추출하였을 때,   \n",
    "  \n",
    "X를 표본에서 질병에 걸린 사람들의 수,  Q 를 선택된 도시의 인구에서 실제로 질병이 걸린 사람들이 차지하는 비율이라고 하고,   \n",
    "\n",
    " Q∼Beta(a,b), X|Q∼Bin(n,Q) 라고 할 때,   X의 기댓값과 분산을 구하여라.    \n",
    "  \n",
    "![](https://latex.codecogs.com/gif.latex?%5C%5C%20E%28X%29%20%3D%20E%28E%28X%7CQ%29%29%20%3D%20E%28nQ%29%20%3D%20%5Cfrac%20%7Bna%7D%7Ba&plus;b%7D%20%5C%5C)    \n",
    "X|Q ~ Bin(n,Q) 이므로 기댓값은 nQ이고, E(nQ)에서 Q ~ Beta(a,b)이므로 상수 n은 따로 빼고, 기댓값은 a / a + b이다.    \n",
    "  \n",
    "![](https://latex.codecogs.com/gif.latex?%5C%5C%20Var%28X%29%20%5C%5C%20%3D%20E%28Var%28X%7CQ%29%29&plus;Var%28E%28X%7CQ%29%29%5C%20%28%5Cbecause%20EVE%27s%5C%20Law%29%20%5C%5C%20%3D%20E%28nQ%281-Q%29%29&plus;n%5E2%20Var%28Q%29)  \n",
    "X ~ Bin(n,p)일 때,Var(X) = npq임을 적용하면 Var(X|Q) = nQ(1-Q)가 된다.    \n",
    "  \n",
    "![](https://latex.codecogs.com/gif.latex?%5C%5C%20E%28Q%281-Q%29%29%20%5C%5C%20%3D%20%5Cdisplaystyle%20%5Cspace%20%5Cfrac%7B%5CGamma%28a&plus;b%29%7D%7B%5CGamma%28a%29%5CGamma%28b%29%7D%20%5Cint%5E1_0%20q%5Ea%20%281-q%29%5Eb%20dq%5C%20%28%5Cbecause%20LOTUS%2C%5C%20Beta%5C%20distrib.%29%20%5C%5C%20%3D%20%5Cspace%20%5Cdisplaystyle%20%5Cfrac%7B%5CGamma%28a&plus;b%29%7D%7B%5CGamma%28a%29%5CGamma%28b%29%7D%20%5Ccdot%20%5Cfrac%7B%5CGamma%28a&plus;1%29%5CGamma%28b&plus;1%29%7D%7B%5CGamma%28a&plus;b&plus;2%29%7D%20%5Cleftarrow%20%5CGamma%28x&plus;1%29%20%3D%20x%5CGamma%28x%29%20%5C%5C%3D%20%5Cfrac%7Bab%7D%7B%28a&plus;b&plus;1%29%28a&plus;b%29%7D)  \n",
    "  \n",
    "  \n",
    "  \n",
    "![](https://latex.codecogs.com/gif.latex?%5C%5C%20Var%28Q%29%20%3D%20%5Cspace%20%5Cdisplaystyle%20%5Cfrac%7B%5Cmu%281-%5Cmu%29%7D%7Ba&plus;b&plus;1%7D%20%5Cqquad%20%28%5Cmu%20%3D%20E%28Q%29%20%3D%20%5Cfrac%7Ba%7D%7Ba&plus;b%7D%29)  \n",
    "  "
   ]
  }
 ],
 "metadata": {
  "kernelspec": {
   "display_name": "Python 3",
   "language": "python",
   "name": "python3"
  },
  "language_info": {
   "codemirror_mode": {
    "name": "ipython",
    "version": 3
   },
   "file_extension": ".py",
   "mimetype": "text/x-python",
   "name": "python",
   "nbconvert_exporter": "python",
   "pygments_lexer": "ipython3",
   "version": "3.6.3"
  }
 },
 "nbformat": 4,
 "nbformat_minor": 2
}
